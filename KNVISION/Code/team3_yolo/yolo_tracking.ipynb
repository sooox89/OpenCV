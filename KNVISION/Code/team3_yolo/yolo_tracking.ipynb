{
 "cells": [
  {
   "cell_type": "code",
   "execution_count": 1,
   "metadata": {},
   "outputs": [],
   "source": [
    "#deepsort를 이용한 방법, 느리다는 단점이 있음.\n",
    "\n",
    "import datetime\n",
    "from ultralytics import YOLO\n",
    "import cv2\n",
    "from deep_sort_realtime.deepsort_tracker import DeepSort"
   ]
  },
  {
   "cell_type": "code",
   "execution_count": 2,
   "metadata": {},
   "outputs": [],
   "source": [
    "CONFIDENCE_THESHOLD = 0.5\n",
    "GREEN = (0,255,0)\n",
    "WHITE = (255,255,255)\n",
    "\n"
   ]
  },
  {
   "cell_type": "code",
   "execution_count": 3,
   "metadata": {},
   "outputs": [
    {
     "name": "stderr",
     "output_type": "stream",
     "text": [
      "\n",
      "0: 256x416 (no detections), 36.5ms\n",
      "Speed: 2.2ms preprocess, 36.5ms inference, 4.6ms postprocess per image at shape (1, 3, 256, 416)\n"
     ]
    },
    {
     "name": "stdout",
     "output_type": "stream",
     "text": [
      "TIme to process 1 frame : 7342 milliseconds\n"
     ]
    },
    {
     "name": "stderr",
     "output_type": "stream",
     "text": [
      "\n",
      "0: 256x416 (no detections), 26.3ms\n",
      "Speed: 0.7ms preprocess, 26.3ms inference, 0.2ms postprocess per image at shape (1, 3, 256, 416)\n",
      "\n",
      "0: 256x416 (no detections), 28.5ms\n",
      "Speed: 0.9ms preprocess, 28.5ms inference, 0.2ms postprocess per image at shape (1, 3, 256, 416)\n",
      "\n",
      "0: 256x416 1 person, 23.5ms\n",
      "Speed: 1.0ms preprocess, 23.5ms inference, 2.6ms postprocess per image at shape (1, 3, 256, 416)\n",
      "\n",
      "0: 256x416 1 person, 22.6ms\n",
      "Speed: 1.2ms preprocess, 22.6ms inference, 0.4ms postprocess per image at shape (1, 3, 256, 416)\n"
     ]
    },
    {
     "name": "stdout",
     "output_type": "stream",
     "text": [
      "TIme to process 1 frame : 32 milliseconds\n",
      "TIme to process 1 frame : 32 milliseconds\n",
      "TIme to process 1 frame : 32 milliseconds\n"
     ]
    },
    {
     "name": "stderr",
     "output_type": "stream",
     "text": [
      "\n",
      "0: 256x416 1 person, 21.6ms\n",
      "Speed: 0.9ms preprocess, 21.6ms inference, 0.3ms postprocess per image at shape (1, 3, 256, 416)\n",
      "\n",
      "0: 256x416 1 person, 21.5ms\n",
      "Speed: 0.6ms preprocess, 21.5ms inference, 0.4ms postprocess per image at shape (1, 3, 256, 416)\n",
      "\n"
     ]
    },
    {
     "name": "stdout",
     "output_type": "stream",
     "text": [
      "TIme to process 1 frame : 174 milliseconds\n",
      "TIme to process 1 frame : 27 milliseconds\n",
      "TIme to process 1 frame : 26 milliseconds\n"
     ]
    },
    {
     "name": "stderr",
     "output_type": "stream",
     "text": [
      "0: 256x416 1 person, 101.4ms\n",
      "Speed: 0.9ms preprocess, 101.4ms inference, 0.9ms postprocess per image at shape (1, 3, 256, 416)\n",
      "\n",
      "0: 256x416 1 person, 30.1ms\n",
      "Speed: 0.7ms preprocess, 30.1ms inference, 0.3ms postprocess per image at shape (1, 3, 256, 416)\n",
      "\n",
      "0: 256x416 1 person, 25.2ms\n",
      "Speed: 1.0ms preprocess, 25.2ms inference, 0.3ms postprocess per image at shape (1, 3, 256, 416)\n",
      "\n",
      "0: 256x416 1 person, 22.7ms\n",
      "Speed: 0.7ms preprocess, 22.7ms inference, 0.3ms postprocess per image at shape (1, 3, 256, 416)\n",
      "\n",
      "0: 256x416 1 person, 23.0ms\n",
      "Speed: 0.7ms preprocess, 23.0ms inference, 0.3ms postprocess per image at shape (1, 3, 256, 416)\n",
      "\n"
     ]
    },
    {
     "name": "stdout",
     "output_type": "stream",
     "text": [
      "TIme to process 1 frame : 262 milliseconds\n",
      "TIme to process 1 frame : 34 milliseconds\n",
      "TIme to process 1 frame : 29 milliseconds\n",
      "TIme to process 1 frame : 26 milliseconds\n",
      "TIme to process 1 frame : 27 milliseconds\n"
     ]
    },
    {
     "name": "stderr",
     "output_type": "stream",
     "text": [
      "0: 256x416 1 person, 22.0ms\n",
      "Speed: 0.8ms preprocess, 22.0ms inference, 0.3ms postprocess per image at shape (1, 3, 256, 416)\n",
      "\n",
      "0: 256x416 1 person, 20.8ms\n",
      "Speed: 0.8ms preprocess, 20.8ms inference, 0.3ms postprocess per image at shape (1, 3, 256, 416)\n",
      "\n",
      "0: 256x416 1 person, 23.5ms\n",
      "Speed: 0.8ms preprocess, 23.5ms inference, 0.3ms postprocess per image at shape (1, 3, 256, 416)\n",
      "\n",
      "0: 256x416 1 person, 21.9ms\n",
      "Speed: 0.7ms preprocess, 21.9ms inference, 0.4ms postprocess per image at shape (1, 3, 256, 416)\n",
      "\n",
      "0: 256x416 1 person, 22.9ms\n",
      "Speed: 0.9ms preprocess, 22.9ms inference, 0.4ms postprocess per image at shape (1, 3, 256, 416)\n",
      "\n"
     ]
    },
    {
     "name": "stdout",
     "output_type": "stream",
     "text": [
      "TIme to process 1 frame : 26 milliseconds\n",
      "TIme to process 1 frame : 24 milliseconds\n",
      "TIme to process 1 frame : 27 milliseconds\n",
      "TIme to process 1 frame : 26 milliseconds\n",
      "TIme to process 1 frame : 27 milliseconds\n"
     ]
    },
    {
     "name": "stderr",
     "output_type": "stream",
     "text": [
      "0: 256x416 (no detections), 22.4ms\n",
      "Speed: 0.6ms preprocess, 22.4ms inference, 0.2ms postprocess per image at shape (1, 3, 256, 416)\n",
      "\n",
      "0: 256x416 (no detections), 22.5ms\n",
      "Speed: 0.7ms preprocess, 22.5ms inference, 0.2ms postprocess per image at shape (1, 3, 256, 416)\n",
      "\n",
      "0: 256x416 1 person, 28.2ms\n",
      "Speed: 1.3ms preprocess, 28.2ms inference, 0.3ms postprocess per image at shape (1, 3, 256, 416)\n",
      "\n",
      "0: 256x416 1 person, 24.3ms\n",
      "Speed: 0.8ms preprocess, 24.3ms inference, 0.3ms postprocess per image at shape (1, 3, 256, 416)\n"
     ]
    },
    {
     "name": "stdout",
     "output_type": "stream",
     "text": [
      "TIme to process 1 frame : 26 milliseconds\n",
      "TIme to process 1 frame : 26 milliseconds\n",
      "TIme to process 1 frame : 35 milliseconds\n"
     ]
    },
    {
     "name": "stderr",
     "output_type": "stream",
     "text": [
      "\n",
      "0: 256x416 1 person, 21.6ms\n",
      "Speed: 0.9ms preprocess, 21.6ms inference, 0.3ms postprocess per image at shape (1, 3, 256, 416)\n",
      "\n"
     ]
    },
    {
     "name": "stdout",
     "output_type": "stream",
     "text": [
      "TIme to process 1 frame : 168 milliseconds\n",
      "TIme to process 1 frame : 169 milliseconds\n"
     ]
    },
    {
     "name": "stderr",
     "output_type": "stream",
     "text": [
      "0: 256x416 1 person, 24.2ms\n",
      "Speed: 0.6ms preprocess, 24.2ms inference, 0.3ms postprocess per image at shape (1, 3, 256, 416)\n",
      "\n",
      "0: 256x416 2 persons, 21.8ms\n",
      "Speed: 0.6ms preprocess, 21.8ms inference, 0.3ms postprocess per image at shape (1, 3, 256, 416)\n",
      "\n"
     ]
    },
    {
     "name": "stdout",
     "output_type": "stream",
     "text": [
      "TIme to process 1 frame : 166 milliseconds\n",
      "TIme to process 1 frame : 168 milliseconds\n"
     ]
    },
    {
     "name": "stderr",
     "output_type": "stream",
     "text": [
      "0: 256x416 2 persons, 23.0ms\n",
      "Speed: 0.8ms preprocess, 23.0ms inference, 0.3ms postprocess per image at shape (1, 3, 256, 416)\n",
      "\n",
      "0: 256x416 2 persons, 22.6ms\n",
      "Speed: 0.9ms preprocess, 22.6ms inference, 0.4ms postprocess per image at shape (1, 3, 256, 416)\n",
      "\n"
     ]
    },
    {
     "name": "stdout",
     "output_type": "stream",
     "text": [
      "TIme to process 1 frame : 170 milliseconds\n",
      "TIme to process 1 frame : 162 milliseconds\n"
     ]
    },
    {
     "name": "stderr",
     "output_type": "stream",
     "text": [
      "0: 256x416 2 persons, 20.8ms\n",
      "Speed: 0.7ms preprocess, 20.8ms inference, 0.3ms postprocess per image at shape (1, 3, 256, 416)\n",
      "\n",
      "0: 256x416 2 persons, 54.6ms\n",
      "Speed: 0.8ms preprocess, 54.6ms inference, 0.3ms postprocess per image at shape (1, 3, 256, 416)\n"
     ]
    },
    {
     "name": "stdout",
     "output_type": "stream",
     "text": [
      "TIme to process 1 frame : 191 milliseconds\n"
     ]
    },
    {
     "name": "stderr",
     "output_type": "stream",
     "text": [
      "\n",
      "0: 256x416 2 persons, 24.7ms\n",
      "Speed: 0.8ms preprocess, 24.7ms inference, 0.4ms postprocess per image at shape (1, 3, 256, 416)\n"
     ]
    },
    {
     "name": "stdout",
     "output_type": "stream",
     "text": [
      "TIme to process 1 frame : 297 milliseconds\n",
      "TIme to process 1 frame : 173 milliseconds\n"
     ]
    },
    {
     "name": "stderr",
     "output_type": "stream",
     "text": [
      "\n",
      "0: 256x416 2 persons, 26.4ms\n",
      "Speed: 1.1ms preprocess, 26.4ms inference, 0.3ms postprocess per image at shape (1, 3, 256, 416)\n",
      "\n",
      "0: 256x416 2 persons, 26.0ms\n",
      "Speed: 1.2ms preprocess, 26.0ms inference, 0.4ms postprocess per image at shape (1, 3, 256, 416)\n",
      "\n"
     ]
    },
    {
     "name": "stdout",
     "output_type": "stream",
     "text": [
      "TIme to process 1 frame : 31 milliseconds\n",
      "TIme to process 1 frame : 165 milliseconds\n"
     ]
    },
    {
     "name": "stderr",
     "output_type": "stream",
     "text": [
      "0: 256x416 2 persons, 22.7ms\n",
      "Speed: 0.7ms preprocess, 22.7ms inference, 0.6ms postprocess per image at shape (1, 3, 256, 416)\n",
      "\n",
      "0: 256x416 2 persons, 22.2ms\n",
      "Speed: 0.6ms preprocess, 22.2ms inference, 0.3ms postprocess per image at shape (1, 3, 256, 416)\n"
     ]
    },
    {
     "name": "stdout",
     "output_type": "stream",
     "text": [
      "TIme to process 1 frame : 165 milliseconds\n",
      "TIme to process 1 frame : 181 milliseconds\n"
     ]
    },
    {
     "name": "stderr",
     "output_type": "stream",
     "text": [
      "\n",
      "0: 256x416 2 persons, 27.3ms\n",
      "Speed: 0.8ms preprocess, 27.3ms inference, 0.3ms postprocess per image at shape (1, 3, 256, 416)\n",
      "\n",
      "0: 256x416 2 persons, 21.9ms\n",
      "Speed: 1.5ms preprocess, 21.9ms inference, 0.3ms postprocess per image at shape (1, 3, 256, 416)\n"
     ]
    },
    {
     "name": "stdout",
     "output_type": "stream",
     "text": [
      "TIme to process 1 frame : 197 milliseconds\n"
     ]
    },
    {
     "name": "stderr",
     "output_type": "stream",
     "text": [
      "\n",
      "0: 256x416 2 persons, 27.8ms\n",
      "Speed: 1.3ms preprocess, 27.8ms inference, 0.4ms postprocess per image at shape (1, 3, 256, 416)\n"
     ]
    },
    {
     "name": "stdout",
     "output_type": "stream",
     "text": [
      "TIme to process 1 frame : 187 milliseconds\n"
     ]
    },
    {
     "name": "stderr",
     "output_type": "stream",
     "text": [
      "\n",
      "0: 256x416 3 persons, 39.6ms\n",
      "Speed: 0.7ms preprocess, 39.6ms inference, 0.4ms postprocess per image at shape (1, 3, 256, 416)\n"
     ]
    },
    {
     "name": "stdout",
     "output_type": "stream",
     "text": [
      "TIme to process 1 frame : 192 milliseconds\n"
     ]
    },
    {
     "name": "stderr",
     "output_type": "stream",
     "text": [
      "\n",
      "0: 256x416 2 persons, 26.4ms\n",
      "Speed: 1.3ms preprocess, 26.4ms inference, 0.4ms postprocess per image at shape (1, 3, 256, 416)\n"
     ]
    },
    {
     "name": "stdout",
     "output_type": "stream",
     "text": [
      "TIme to process 1 frame : 212 milliseconds\n"
     ]
    },
    {
     "name": "stderr",
     "output_type": "stream",
     "text": [
      "\n",
      "0: 256x416 2 persons, 27.1ms\n",
      "Speed: 1.1ms preprocess, 27.1ms inference, 0.3ms postprocess per image at shape (1, 3, 256, 416)\n"
     ]
    },
    {
     "name": "stdout",
     "output_type": "stream",
     "text": [
      "TIme to process 1 frame : 192 milliseconds\n"
     ]
    },
    {
     "name": "stderr",
     "output_type": "stream",
     "text": [
      "\n",
      "0: 256x416 2 persons, 26.8ms\n",
      "Speed: 1.3ms preprocess, 26.8ms inference, 0.3ms postprocess per image at shape (1, 3, 256, 416)\n"
     ]
    },
    {
     "name": "stdout",
     "output_type": "stream",
     "text": [
      "TIme to process 1 frame : 197 milliseconds\n",
      "TIme to process 1 frame : 172 milliseconds\n"
     ]
    },
    {
     "name": "stderr",
     "output_type": "stream",
     "text": [
      "\n",
      "0: 256x416 2 persons, 26.5ms\n",
      "Speed: 1.0ms preprocess, 26.5ms inference, 0.7ms postprocess per image at shape (1, 3, 256, 416)\n",
      "\n",
      "0: 256x416 1 person, 21.6ms\n",
      "Speed: 0.7ms preprocess, 21.6ms inference, 0.3ms postprocess per image at shape (1, 3, 256, 416)\n",
      "\n"
     ]
    },
    {
     "name": "stdout",
     "output_type": "stream",
     "text": [
      "TIme to process 1 frame : 209 milliseconds\n",
      "TIme to process 1 frame : 162 milliseconds\n"
     ]
    },
    {
     "name": "stderr",
     "output_type": "stream",
     "text": [
      "0: 256x416 1 person, 22.5ms\n",
      "Speed: 0.8ms preprocess, 22.5ms inference, 0.3ms postprocess per image at shape (1, 3, 256, 416)\n",
      "\n",
      "0: 256x416 2 persons, 20.6ms\n",
      "Speed: 0.6ms preprocess, 20.6ms inference, 0.3ms postprocess per image at shape (1, 3, 256, 416)\n",
      "\n"
     ]
    },
    {
     "name": "stdout",
     "output_type": "stream",
     "text": [
      "TIme to process 1 frame : 162 milliseconds\n",
      "TIme to process 1 frame : 159 milliseconds\n"
     ]
    },
    {
     "name": "stderr",
     "output_type": "stream",
     "text": [
      "0: 256x416 2 persons, 23.0ms\n",
      "Speed: 0.9ms preprocess, 23.0ms inference, 0.3ms postprocess per image at shape (1, 3, 256, 416)\n",
      "\n",
      "0: 256x416 2 persons, 25.0ms\n",
      "Speed: 1.1ms preprocess, 25.0ms inference, 0.3ms postprocess per image at shape (1, 3, 256, 416)\n"
     ]
    },
    {
     "name": "stdout",
     "output_type": "stream",
     "text": [
      "TIme to process 1 frame : 190 milliseconds\n"
     ]
    },
    {
     "name": "stderr",
     "output_type": "stream",
     "text": [
      "\n",
      "0: 256x416 3 persons, 25.9ms\n",
      "Speed: 1.1ms preprocess, 25.9ms inference, 0.3ms postprocess per image at shape (1, 3, 256, 416)\n"
     ]
    },
    {
     "name": "stdout",
     "output_type": "stream",
     "text": [
      "TIme to process 1 frame : 189 milliseconds\n"
     ]
    },
    {
     "name": "stderr",
     "output_type": "stream",
     "text": [
      "\n",
      "0: 256x416 2 persons, 38.2ms\n",
      "Speed: 2.5ms preprocess, 38.2ms inference, 0.4ms postprocess per image at shape (1, 3, 256, 416)\n"
     ]
    },
    {
     "name": "stdout",
     "output_type": "stream",
     "text": [
      "TIme to process 1 frame : 192 milliseconds\n"
     ]
    },
    {
     "name": "stderr",
     "output_type": "stream",
     "text": [
      "\n",
      "0: 256x416 2 persons, 27.7ms\n",
      "Speed: 1.3ms preprocess, 27.7ms inference, 0.3ms postprocess per image at shape (1, 3, 256, 416)\n"
     ]
    },
    {
     "name": "stdout",
     "output_type": "stream",
     "text": [
      "TIme to process 1 frame : 206 milliseconds\n"
     ]
    },
    {
     "name": "stderr",
     "output_type": "stream",
     "text": [
      "\n",
      "0: 256x416 2 persons, 25.7ms\n",
      "Speed: 1.6ms preprocess, 25.7ms inference, 0.3ms postprocess per image at shape (1, 3, 256, 416)\n"
     ]
    },
    {
     "name": "stdout",
     "output_type": "stream",
     "text": [
      "TIme to process 1 frame : 187 milliseconds\n"
     ]
    },
    {
     "name": "stderr",
     "output_type": "stream",
     "text": [
      "\n",
      "0: 256x416 3 persons, 24.4ms\n",
      "Speed: 0.9ms preprocess, 24.4ms inference, 0.3ms postprocess per image at shape (1, 3, 256, 416)\n"
     ]
    },
    {
     "name": "stdout",
     "output_type": "stream",
     "text": [
      "TIme to process 1 frame : 192 milliseconds\n",
      "TIme to process 1 frame : 174 milliseconds\n"
     ]
    },
    {
     "name": "stderr",
     "output_type": "stream",
     "text": [
      "\n",
      "0: 256x416 2 persons, 23.7ms\n",
      "Speed: 0.8ms preprocess, 23.7ms inference, 0.3ms postprocess per image at shape (1, 3, 256, 416)\n",
      "\n",
      "0: 256x416 3 persons, 21.8ms\n",
      "Speed: 0.8ms preprocess, 21.8ms inference, 0.3ms postprocess per image at shape (1, 3, 256, 416)\n"
     ]
    },
    {
     "name": "stdout",
     "output_type": "stream",
     "text": [
      "TIme to process 1 frame : 166 milliseconds\n",
      "TIme to process 1 frame : 184 milliseconds\n"
     ]
    },
    {
     "name": "stderr",
     "output_type": "stream",
     "text": [
      "\n",
      "0: 256x416 3 persons, 26.5ms\n",
      "Speed: 1.0ms preprocess, 26.5ms inference, 0.3ms postprocess per image at shape (1, 3, 256, 416)\n",
      "\n",
      "0: 256x416 3 persons, 25.9ms\n",
      "Speed: 1.7ms preprocess, 25.9ms inference, 0.3ms postprocess per image at shape (1, 3, 256, 416)\n",
      "\n",
      "0: 256x416 2 persons, 28.3ms\n",
      "Speed: 0.9ms preprocess, 28.3ms inference, 0.3ms postprocess per image at shape (1, 3, 256, 416)\n"
     ]
    },
    {
     "name": "stdout",
     "output_type": "stream",
     "text": [
      "TIme to process 1 frame : 31 milliseconds\n",
      "TIme to process 1 frame : 31 milliseconds\n"
     ]
    },
    {
     "name": "stderr",
     "output_type": "stream",
     "text": [
      "\n",
      "0: 256x416 3 persons, 25.4ms\n",
      "Speed: 1.2ms preprocess, 25.4ms inference, 0.5ms postprocess per image at shape (1, 3, 256, 416)\n"
     ]
    },
    {
     "name": "stdout",
     "output_type": "stream",
     "text": [
      "TIme to process 1 frame : 185 milliseconds\n"
     ]
    },
    {
     "name": "stderr",
     "output_type": "stream",
     "text": [
      "\n",
      "0: 256x416 3 persons, 26.7ms\n",
      "Speed: 1.4ms preprocess, 26.7ms inference, 0.3ms postprocess per image at shape (1, 3, 256, 416)\n"
     ]
    },
    {
     "name": "stdout",
     "output_type": "stream",
     "text": [
      "TIme to process 1 frame : 187 milliseconds\n",
      "TIme to process 1 frame : 177 milliseconds\n"
     ]
    },
    {
     "name": "stderr",
     "output_type": "stream",
     "text": [
      "\n",
      "0: 256x416 3 persons, 26.0ms\n",
      "Speed: 1.1ms preprocess, 26.0ms inference, 0.3ms postprocess per image at shape (1, 3, 256, 416)\n",
      "\n",
      "0: 256x416 3 persons, 29.2ms\n",
      "Speed: 1.2ms preprocess, 29.2ms inference, 0.3ms postprocess per image at shape (1, 3, 256, 416)\n"
     ]
    },
    {
     "name": "stdout",
     "output_type": "stream",
     "text": [
      "TIme to process 1 frame : 272 milliseconds\n"
     ]
    },
    {
     "name": "stderr",
     "output_type": "stream",
     "text": [
      "\n",
      "0: 256x416 3 persons, 27.0ms\n",
      "Speed: 1.2ms preprocess, 27.0ms inference, 0.3ms postprocess per image at shape (1, 3, 256, 416)\n"
     ]
    },
    {
     "name": "stdout",
     "output_type": "stream",
     "text": [
      "TIme to process 1 frame : 266 milliseconds\n"
     ]
    },
    {
     "name": "stderr",
     "output_type": "stream",
     "text": [
      "\n",
      "0: 256x416 3 persons, 35.3ms\n",
      "Speed: 1.1ms preprocess, 35.3ms inference, 0.4ms postprocess per image at shape (1, 3, 256, 416)\n"
     ]
    },
    {
     "name": "stdout",
     "output_type": "stream",
     "text": [
      "TIme to process 1 frame : 206 milliseconds\n"
     ]
    },
    {
     "name": "stderr",
     "output_type": "stream",
     "text": [
      "\n",
      "0: 256x416 3 persons, 27.7ms\n",
      "Speed: 1.8ms preprocess, 27.7ms inference, 0.3ms postprocess per image at shape (1, 3, 256, 416)\n"
     ]
    },
    {
     "name": "stdout",
     "output_type": "stream",
     "text": [
      "TIme to process 1 frame : 187 milliseconds\n"
     ]
    },
    {
     "name": "stderr",
     "output_type": "stream",
     "text": [
      "\n",
      "0: 256x416 3 persons, 28.2ms\n",
      "Speed: 1.3ms preprocess, 28.2ms inference, 0.3ms postprocess per image at shape (1, 3, 256, 416)\n"
     ]
    },
    {
     "name": "stdout",
     "output_type": "stream",
     "text": [
      "TIme to process 1 frame : 193 milliseconds\n"
     ]
    },
    {
     "name": "stderr",
     "output_type": "stream",
     "text": [
      "\n",
      "0: 256x416 3 persons, 28.3ms\n",
      "Speed: 1.0ms preprocess, 28.3ms inference, 0.3ms postprocess per image at shape (1, 3, 256, 416)\n"
     ]
    },
    {
     "name": "stdout",
     "output_type": "stream",
     "text": [
      "TIme to process 1 frame : 196 milliseconds\n"
     ]
    },
    {
     "name": "stderr",
     "output_type": "stream",
     "text": [
      "\n",
      "0: 256x416 3 persons, 30.3ms\n",
      "Speed: 0.9ms preprocess, 30.3ms inference, 0.3ms postprocess per image at shape (1, 3, 256, 416)\n"
     ]
    },
    {
     "name": "stdout",
     "output_type": "stream",
     "text": [
      "TIme to process 1 frame : 189 milliseconds\n"
     ]
    },
    {
     "name": "stderr",
     "output_type": "stream",
     "text": [
      "\n",
      "0: 256x416 3 persons, 29.5ms\n",
      "Speed: 0.8ms preprocess, 29.5ms inference, 0.3ms postprocess per image at shape (1, 3, 256, 416)\n"
     ]
    },
    {
     "name": "stdout",
     "output_type": "stream",
     "text": [
      "TIme to process 1 frame : 198 milliseconds\n"
     ]
    },
    {
     "name": "stderr",
     "output_type": "stream",
     "text": [
      "\n",
      "0: 256x416 4 persons, 26.2ms\n",
      "Speed: 0.9ms preprocess, 26.2ms inference, 0.4ms postprocess per image at shape (1, 3, 256, 416)\n"
     ]
    },
    {
     "name": "stdout",
     "output_type": "stream",
     "text": [
      "TIme to process 1 frame : 199 milliseconds\n",
      "TIme to process 1 frame : 172 milliseconds\n"
     ]
    },
    {
     "name": "stderr",
     "output_type": "stream",
     "text": [
      "\n",
      "0: 256x416 4 persons, 23.7ms\n",
      "Speed: 0.6ms preprocess, 23.7ms inference, 0.6ms postprocess per image at shape (1, 3, 256, 416)\n",
      "\n",
      "0: 256x416 3 persons, 24.2ms\n",
      "Speed: 0.6ms preprocess, 24.2ms inference, 0.3ms postprocess per image at shape (1, 3, 256, 416)\n"
     ]
    },
    {
     "name": "stdout",
     "output_type": "stream",
     "text": [
      "TIme to process 1 frame : 165 milliseconds\n"
     ]
    },
    {
     "name": "stderr",
     "output_type": "stream",
     "text": [
      "\n",
      "0: 256x416 3 persons, 27.9ms\n",
      "Speed: 1.6ms preprocess, 27.9ms inference, 0.4ms postprocess per image at shape (1, 3, 256, 416)\n"
     ]
    },
    {
     "name": "stdout",
     "output_type": "stream",
     "text": [
      "TIme to process 1 frame : 261 milliseconds\n"
     ]
    },
    {
     "name": "stderr",
     "output_type": "stream",
     "text": [
      "\n",
      "0: 256x416 3 persons, 34.4ms\n",
      "Speed: 1.5ms preprocess, 34.4ms inference, 0.4ms postprocess per image at shape (1, 3, 256, 416)\n"
     ]
    },
    {
     "name": "stdout",
     "output_type": "stream",
     "text": [
      "TIme to process 1 frame : 264 milliseconds\n"
     ]
    },
    {
     "name": "stderr",
     "output_type": "stream",
     "text": [
      "\n",
      "0: 256x416 3 persons, 26.8ms\n",
      "Speed: 1.2ms preprocess, 26.8ms inference, 0.3ms postprocess per image at shape (1, 3, 256, 416)\n"
     ]
    },
    {
     "name": "stdout",
     "output_type": "stream",
     "text": [
      "TIme to process 1 frame : 221 milliseconds\n"
     ]
    },
    {
     "name": "stderr",
     "output_type": "stream",
     "text": [
      "\n",
      "0: 256x416 3 persons, 24.5ms\n",
      "Speed: 0.9ms preprocess, 24.5ms inference, 0.4ms postprocess per image at shape (1, 3, 256, 416)\n"
     ]
    },
    {
     "name": "stdout",
     "output_type": "stream",
     "text": [
      "TIme to process 1 frame : 196 milliseconds\n"
     ]
    },
    {
     "name": "stderr",
     "output_type": "stream",
     "text": [
      "\n",
      "0: 256x416 3 persons, 30.5ms\n",
      "Speed: 1.1ms preprocess, 30.5ms inference, 0.3ms postprocess per image at shape (1, 3, 256, 416)\n"
     ]
    },
    {
     "name": "stdout",
     "output_type": "stream",
     "text": [
      "TIme to process 1 frame : 195 milliseconds\n"
     ]
    },
    {
     "name": "stderr",
     "output_type": "stream",
     "text": [
      "\n",
      "0: 256x416 3 persons, 27.0ms\n",
      "Speed: 1.2ms preprocess, 27.0ms inference, 0.4ms postprocess per image at shape (1, 3, 256, 416)\n"
     ]
    },
    {
     "name": "stdout",
     "output_type": "stream",
     "text": [
      "TIme to process 1 frame : 192 milliseconds\n"
     ]
    },
    {
     "name": "stderr",
     "output_type": "stream",
     "text": [
      "\n",
      "0: 256x416 3 persons, 27.5ms\n",
      "Speed: 1.8ms preprocess, 27.5ms inference, 0.3ms postprocess per image at shape (1, 3, 256, 416)\n"
     ]
    },
    {
     "name": "stdout",
     "output_type": "stream",
     "text": [
      "TIme to process 1 frame : 196 milliseconds\n"
     ]
    },
    {
     "name": "stderr",
     "output_type": "stream",
     "text": [
      "\n",
      "0: 256x416 3 persons, 30.1ms\n",
      "Speed: 1.1ms preprocess, 30.1ms inference, 0.4ms postprocess per image at shape (1, 3, 256, 416)\n"
     ]
    },
    {
     "name": "stdout",
     "output_type": "stream",
     "text": [
      "TIme to process 1 frame : 191 milliseconds\n"
     ]
    },
    {
     "name": "stderr",
     "output_type": "stream",
     "text": [
      "\n",
      "0: 256x416 2 persons, 28.9ms\n",
      "Speed: 0.8ms preprocess, 28.9ms inference, 0.3ms postprocess per image at shape (1, 3, 256, 416)\n"
     ]
    },
    {
     "name": "stdout",
     "output_type": "stream",
     "text": [
      "TIme to process 1 frame : 203 milliseconds\n",
      "TIme to process 1 frame : 176 milliseconds\n"
     ]
    },
    {
     "name": "stderr",
     "output_type": "stream",
     "text": [
      "\n",
      "0: 256x416 3 persons, 29.8ms\n",
      "Speed: 0.7ms preprocess, 29.8ms inference, 0.3ms postprocess per image at shape (1, 3, 256, 416)\n",
      "\n",
      "0: 256x416 3 persons, 20.6ms\n",
      "Speed: 0.6ms preprocess, 20.6ms inference, 1.0ms postprocess per image at shape (1, 3, 256, 416)\n"
     ]
    },
    {
     "name": "stdout",
     "output_type": "stream",
     "text": [
      "TIme to process 1 frame : 179 milliseconds\n"
     ]
    },
    {
     "name": "stderr",
     "output_type": "stream",
     "text": [
      "\n",
      "0: 256x416 3 persons, 30.3ms\n",
      "Speed: 1.2ms preprocess, 30.3ms inference, 0.3ms postprocess per image at shape (1, 3, 256, 416)\n"
     ]
    },
    {
     "name": "stdout",
     "output_type": "stream",
     "text": [
      "TIme to process 1 frame : 189 milliseconds\n",
      "TIme to process 1 frame : 184 milliseconds\n"
     ]
    },
    {
     "name": "stderr",
     "output_type": "stream",
     "text": [
      "\n",
      "0: 256x416 3 persons, 44.5ms\n",
      "Speed: 1.1ms preprocess, 44.5ms inference, 0.3ms postprocess per image at shape (1, 3, 256, 416)\n",
      "\n",
      "0: 256x416 3 persons, 30.0ms\n",
      "Speed: 1.3ms preprocess, 30.0ms inference, 0.3ms postprocess per image at shape (1, 3, 256, 416)\n"
     ]
    },
    {
     "name": "stdout",
     "output_type": "stream",
     "text": [
      "TIme to process 1 frame : 288 milliseconds\n"
     ]
    },
    {
     "name": "stderr",
     "output_type": "stream",
     "text": [
      "\n",
      "0: 256x416 3 persons, 35.2ms\n",
      "Speed: 1.2ms preprocess, 35.2ms inference, 0.3ms postprocess per image at shape (1, 3, 256, 416)\n"
     ]
    },
    {
     "name": "stdout",
     "output_type": "stream",
     "text": [
      "TIme to process 1 frame : 266 milliseconds\n"
     ]
    },
    {
     "name": "stderr",
     "output_type": "stream",
     "text": [
      "\n",
      "0: 256x416 3 persons, 31.0ms\n",
      "Speed: 1.2ms preprocess, 31.0ms inference, 0.4ms postprocess per image at shape (1, 3, 256, 416)\n"
     ]
    },
    {
     "name": "stdout",
     "output_type": "stream",
     "text": [
      "TIme to process 1 frame : 275 milliseconds\n"
     ]
    },
    {
     "name": "stderr",
     "output_type": "stream",
     "text": [
      "\n",
      "0: 256x416 6 persons, 30.0ms\n",
      "Speed: 2.1ms preprocess, 30.0ms inference, 0.4ms postprocess per image at shape (1, 3, 256, 416)\n"
     ]
    },
    {
     "name": "stdout",
     "output_type": "stream",
     "text": [
      "TIme to process 1 frame : 257 milliseconds\n"
     ]
    },
    {
     "name": "stderr",
     "output_type": "stream",
     "text": [
      "\n",
      "0: 256x416 4 persons, 28.4ms\n",
      "Speed: 1.7ms preprocess, 28.4ms inference, 0.3ms postprocess per image at shape (1, 3, 256, 416)\n"
     ]
    },
    {
     "name": "stdout",
     "output_type": "stream",
     "text": [
      "TIme to process 1 frame : 267 milliseconds\n"
     ]
    },
    {
     "name": "stderr",
     "output_type": "stream",
     "text": [
      "\n",
      "0: 256x416 3 persons, 26.7ms\n",
      "Speed: 1.9ms preprocess, 26.7ms inference, 0.4ms postprocess per image at shape (1, 3, 256, 416)\n"
     ]
    },
    {
     "name": "stdout",
     "output_type": "stream",
     "text": [
      "TIme to process 1 frame : 213 milliseconds\n"
     ]
    },
    {
     "name": "stderr",
     "output_type": "stream",
     "text": [
      "\n",
      "0: 256x416 3 persons, 49.4ms\n",
      "Speed: 2.0ms preprocess, 49.4ms inference, 0.4ms postprocess per image at shape (1, 3, 256, 416)\n"
     ]
    },
    {
     "name": "stdout",
     "output_type": "stream",
     "text": [
      "TIme to process 1 frame : 275 milliseconds\n"
     ]
    },
    {
     "name": "stderr",
     "output_type": "stream",
     "text": [
      "\n",
      "0: 256x416 3 persons, 28.3ms\n",
      "Speed: 1.5ms preprocess, 28.3ms inference, 0.4ms postprocess per image at shape (1, 3, 256, 416)\n"
     ]
    },
    {
     "name": "stdout",
     "output_type": "stream",
     "text": [
      "TIme to process 1 frame : 225 milliseconds\n"
     ]
    },
    {
     "name": "stderr",
     "output_type": "stream",
     "text": [
      "\n",
      "0: 256x416 3 persons, 28.4ms\n",
      "Speed: 0.8ms preprocess, 28.4ms inference, 0.3ms postprocess per image at shape (1, 3, 256, 416)\n"
     ]
    },
    {
     "name": "stdout",
     "output_type": "stream",
     "text": [
      "TIme to process 1 frame : 196 milliseconds\n"
     ]
    },
    {
     "name": "stderr",
     "output_type": "stream",
     "text": [
      "\n",
      "0: 256x416 3 persons, 26.6ms\n",
      "Speed: 2.2ms preprocess, 26.6ms inference, 0.4ms postprocess per image at shape (1, 3, 256, 416)\n"
     ]
    },
    {
     "name": "stdout",
     "output_type": "stream",
     "text": [
      "TIme to process 1 frame : 205 milliseconds\n"
     ]
    },
    {
     "name": "stderr",
     "output_type": "stream",
     "text": [
      "\n",
      "0: 256x416 4 persons, 31.0ms\n",
      "Speed: 0.8ms preprocess, 31.0ms inference, 0.3ms postprocess per image at shape (1, 3, 256, 416)\n"
     ]
    },
    {
     "name": "stdout",
     "output_type": "stream",
     "text": [
      "TIme to process 1 frame : 196 milliseconds\n"
     ]
    },
    {
     "name": "stderr",
     "output_type": "stream",
     "text": [
      "\n",
      "0: 256x416 3 persons, 29.0ms\n",
      "Speed: 0.8ms preprocess, 29.0ms inference, 0.4ms postprocess per image at shape (1, 3, 256, 416)\n"
     ]
    },
    {
     "name": "stdout",
     "output_type": "stream",
     "text": [
      "TIme to process 1 frame : 197 milliseconds\n",
      "TIme to process 1 frame : 172 milliseconds\n"
     ]
    },
    {
     "name": "stderr",
     "output_type": "stream",
     "text": [
      "\n",
      "0: 256x416 3 persons, 23.8ms\n",
      "Speed: 1.0ms preprocess, 23.8ms inference, 0.3ms postprocess per image at shape (1, 3, 256, 416)\n",
      "\n",
      "0: 256x416 3 persons, 26.0ms\n",
      "Speed: 1.2ms preprocess, 26.0ms inference, 0.6ms postprocess per image at shape (1, 3, 256, 416)\n"
     ]
    },
    {
     "name": "stdout",
     "output_type": "stream",
     "text": [
      "TIme to process 1 frame : 189 milliseconds\n"
     ]
    },
    {
     "name": "stderr",
     "output_type": "stream",
     "text": [
      "\n",
      "0: 256x416 2 persons, 26.6ms\n",
      "Speed: 1.5ms preprocess, 26.6ms inference, 0.3ms postprocess per image at shape (1, 3, 256, 416)\n"
     ]
    },
    {
     "name": "stdout",
     "output_type": "stream",
     "text": [
      "TIme to process 1 frame : 193 milliseconds\n"
     ]
    },
    {
     "name": "stderr",
     "output_type": "stream",
     "text": [
      "\n",
      "0: 256x416 2 persons, 31.9ms\n",
      "Speed: 0.7ms preprocess, 31.9ms inference, 0.3ms postprocess per image at shape (1, 3, 256, 416)\n"
     ]
    },
    {
     "name": "stdout",
     "output_type": "stream",
     "text": [
      "TIme to process 1 frame : 197 milliseconds\n"
     ]
    },
    {
     "name": "stderr",
     "output_type": "stream",
     "text": [
      "\n",
      "0: 256x416 2 persons, 28.5ms\n",
      "Speed: 0.9ms preprocess, 28.5ms inference, 0.3ms postprocess per image at shape (1, 3, 256, 416)\n"
     ]
    },
    {
     "name": "stdout",
     "output_type": "stream",
     "text": [
      "TIme to process 1 frame : 204 milliseconds\n"
     ]
    },
    {
     "name": "stderr",
     "output_type": "stream",
     "text": [
      "\n",
      "0: 256x416 3 persons, 38.9ms\n",
      "Speed: 2.1ms preprocess, 38.9ms inference, 0.3ms postprocess per image at shape (1, 3, 256, 416)\n"
     ]
    },
    {
     "name": "stdout",
     "output_type": "stream",
     "text": [
      "TIme to process 1 frame : 198 milliseconds\n"
     ]
    },
    {
     "name": "stderr",
     "output_type": "stream",
     "text": [
      "\n",
      "0: 256x416 3 persons, 34.9ms\n",
      "Speed: 1.1ms preprocess, 34.9ms inference, 0.3ms postprocess per image at shape (1, 3, 256, 416)\n"
     ]
    },
    {
     "name": "stdout",
     "output_type": "stream",
     "text": [
      "TIme to process 1 frame : 304 milliseconds\n"
     ]
    },
    {
     "name": "stderr",
     "output_type": "stream",
     "text": [
      "\n",
      "0: 256x416 3 persons, 31.1ms\n",
      "Speed: 1.2ms preprocess, 31.1ms inference, 0.4ms postprocess per image at shape (1, 3, 256, 416)\n",
      "\n"
     ]
    },
    {
     "name": "stdout",
     "output_type": "stream",
     "text": [
      "TIme to process 1 frame : 271 milliseconds\n",
      "TIme to process 1 frame : 165 milliseconds\n"
     ]
    },
    {
     "name": "stderr",
     "output_type": "stream",
     "text": [
      "0: 256x416 3 persons, 27.9ms\n",
      "Speed: 1.8ms preprocess, 27.9ms inference, 0.3ms postprocess per image at shape (1, 3, 256, 416)\n",
      "\n",
      "0: 256x416 2 persons, 27.1ms\n",
      "Speed: 0.8ms preprocess, 27.1ms inference, 0.3ms postprocess per image at shape (1, 3, 256, 416)\n"
     ]
    },
    {
     "name": "stdout",
     "output_type": "stream",
     "text": [
      "TIme to process 1 frame : 208 milliseconds\n",
      "TIme to process 1 frame : 177 milliseconds\n"
     ]
    },
    {
     "name": "stderr",
     "output_type": "stream",
     "text": [
      "\n",
      "0: 256x416 2 persons, 26.1ms\n",
      "Speed: 1.1ms preprocess, 26.1ms inference, 0.4ms postprocess per image at shape (1, 3, 256, 416)\n",
      "\n",
      "0: 256x416 5 persons, 27.1ms\n",
      "Speed: 0.9ms preprocess, 27.1ms inference, 0.3ms postprocess per image at shape (1, 3, 256, 416)\n"
     ]
    },
    {
     "name": "stdout",
     "output_type": "stream",
     "text": [
      "TIme to process 1 frame : 195 milliseconds\n"
     ]
    },
    {
     "name": "stderr",
     "output_type": "stream",
     "text": [
      "\n",
      "0: 256x416 2 persons, 27.5ms\n",
      "Speed: 1.3ms preprocess, 27.5ms inference, 0.3ms postprocess per image at shape (1, 3, 256, 416)\n"
     ]
    },
    {
     "name": "stdout",
     "output_type": "stream",
     "text": [
      "TIme to process 1 frame : 189 milliseconds\n"
     ]
    },
    {
     "name": "stderr",
     "output_type": "stream",
     "text": [
      "\n",
      "0: 256x416 3 persons, 28.2ms\n",
      "Speed: 1.2ms preprocess, 28.2ms inference, 0.4ms postprocess per image at shape (1, 3, 256, 416)\n"
     ]
    },
    {
     "name": "stdout",
     "output_type": "stream",
     "text": [
      "TIme to process 1 frame : 194 milliseconds\n"
     ]
    },
    {
     "name": "stderr",
     "output_type": "stream",
     "text": [
      "\n",
      "0: 256x416 2 persons, 28.2ms\n",
      "Speed: 1.3ms preprocess, 28.2ms inference, 0.3ms postprocess per image at shape (1, 3, 256, 416)\n"
     ]
    },
    {
     "name": "stdout",
     "output_type": "stream",
     "text": [
      "TIme to process 1 frame : 202 milliseconds\n"
     ]
    },
    {
     "name": "stderr",
     "output_type": "stream",
     "text": [
      "\n",
      "0: 256x416 2 persons, 27.4ms\n",
      "Speed: 1.4ms preprocess, 27.4ms inference, 0.6ms postprocess per image at shape (1, 3, 256, 416)\n"
     ]
    },
    {
     "name": "stdout",
     "output_type": "stream",
     "text": [
      "TIme to process 1 frame : 197 milliseconds\n"
     ]
    },
    {
     "name": "stderr",
     "output_type": "stream",
     "text": [
      "\n",
      "0: 256x416 2 persons, 40.6ms\n",
      "Speed: 1.4ms preprocess, 40.6ms inference, 0.4ms postprocess per image at shape (1, 3, 256, 416)\n"
     ]
    },
    {
     "name": "stdout",
     "output_type": "stream",
     "text": [
      "TIme to process 1 frame : 202 milliseconds\n"
     ]
    },
    {
     "name": "stderr",
     "output_type": "stream",
     "text": [
      "\n",
      "0: 256x416 4 persons, 29.3ms\n",
      "Speed: 1.3ms preprocess, 29.3ms inference, 0.4ms postprocess per image at shape (1, 3, 256, 416)\n"
     ]
    },
    {
     "name": "stdout",
     "output_type": "stream",
     "text": [
      "TIme to process 1 frame : 197 milliseconds\n",
      "TIme to process 1 frame : 175 milliseconds\n"
     ]
    },
    {
     "name": "stderr",
     "output_type": "stream",
     "text": [
      "\n",
      "0: 256x416 3 persons, 27.2ms\n",
      "Speed: 1.0ms preprocess, 27.2ms inference, 0.4ms postprocess per image at shape (1, 3, 256, 416)\n",
      "\n",
      "0: 256x416 3 persons, 29.9ms\n",
      "Speed: 1.6ms preprocess, 29.9ms inference, 0.3ms postprocess per image at shape (1, 3, 256, 416)\n"
     ]
    },
    {
     "name": "stdout",
     "output_type": "stream",
     "text": [
      "TIme to process 1 frame : 193 milliseconds\n"
     ]
    },
    {
     "name": "stderr",
     "output_type": "stream",
     "text": [
      "\n",
      "0: 256x416 4 persons, 31.5ms\n",
      "Speed: 1.4ms preprocess, 31.5ms inference, 0.3ms postprocess per image at shape (1, 3, 256, 416)\n"
     ]
    },
    {
     "name": "stdout",
     "output_type": "stream",
     "text": [
      "TIme to process 1 frame : 199 milliseconds\n"
     ]
    },
    {
     "name": "stderr",
     "output_type": "stream",
     "text": [
      "\n",
      "0: 256x416 8 persons, 27.2ms\n",
      "Speed: 0.7ms preprocess, 27.2ms inference, 0.3ms postprocess per image at shape (1, 3, 256, 416)\n"
     ]
    },
    {
     "name": "stdout",
     "output_type": "stream",
     "text": [
      "TIme to process 1 frame : 210 milliseconds\n"
     ]
    },
    {
     "name": "stderr",
     "output_type": "stream",
     "text": [
      "\n",
      "0: 256x416 7 persons, 27.6ms\n",
      "Speed: 0.8ms preprocess, 27.6ms inference, 0.3ms postprocess per image at shape (1, 3, 256, 416)\n"
     ]
    },
    {
     "name": "stdout",
     "output_type": "stream",
     "text": [
      "TIme to process 1 frame : 194 milliseconds\n"
     ]
    },
    {
     "name": "stderr",
     "output_type": "stream",
     "text": [
      "\n",
      "0: 256x416 4 persons, 30.2ms\n",
      "Speed: 1.4ms preprocess, 30.2ms inference, 0.3ms postprocess per image at shape (1, 3, 256, 416)\n"
     ]
    },
    {
     "name": "stdout",
     "output_type": "stream",
     "text": [
      "TIme to process 1 frame : 198 milliseconds\n"
     ]
    },
    {
     "name": "stderr",
     "output_type": "stream",
     "text": [
      "\n",
      "0: 256x416 7 persons, 28.1ms\n",
      "Speed: 1.8ms preprocess, 28.1ms inference, 0.4ms postprocess per image at shape (1, 3, 256, 416)\n"
     ]
    },
    {
     "name": "stdout",
     "output_type": "stream",
     "text": [
      "TIme to process 1 frame : 198 milliseconds\n"
     ]
    },
    {
     "name": "stderr",
     "output_type": "stream",
     "text": [
      "\n",
      "0: 256x416 5 persons, 27.4ms\n",
      "Speed: 1.5ms preprocess, 27.4ms inference, 0.3ms postprocess per image at shape (1, 3, 256, 416)\n"
     ]
    },
    {
     "name": "stdout",
     "output_type": "stream",
     "text": [
      "TIme to process 1 frame : 200 milliseconds\n"
     ]
    },
    {
     "name": "stderr",
     "output_type": "stream",
     "text": [
      "\n",
      "0: 256x416 4 persons, 42.3ms\n",
      "Speed: 1.7ms preprocess, 42.3ms inference, 0.4ms postprocess per image at shape (1, 3, 256, 416)\n"
     ]
    },
    {
     "name": "stdout",
     "output_type": "stream",
     "text": [
      "TIme to process 1 frame : 199 milliseconds\n"
     ]
    },
    {
     "name": "stderr",
     "output_type": "stream",
     "text": [
      "\n",
      "0: 256x416 6 persons, 25.9ms\n",
      "Speed: 0.9ms preprocess, 25.9ms inference, 0.3ms postprocess per image at shape (1, 3, 256, 416)\n"
     ]
    },
    {
     "name": "stdout",
     "output_type": "stream",
     "text": [
      "TIme to process 1 frame : 220 milliseconds\n",
      "TIme to process 1 frame : 180 milliseconds\n"
     ]
    },
    {
     "name": "stderr",
     "output_type": "stream",
     "text": [
      "\n",
      "0: 256x416 4 persons, 31.5ms\n",
      "Speed: 1.2ms preprocess, 31.5ms inference, 0.3ms postprocess per image at shape (1, 3, 256, 416)\n",
      "\n",
      "0: 256x416 3 persons, 27.7ms\n",
      "Speed: 0.8ms preprocess, 27.7ms inference, 0.3ms postprocess per image at shape (1, 3, 256, 416)\n"
     ]
    },
    {
     "name": "stdout",
     "output_type": "stream",
     "text": [
      "TIme to process 1 frame : 201 milliseconds\n"
     ]
    },
    {
     "name": "stderr",
     "output_type": "stream",
     "text": [
      "\n",
      "0: 256x416 2 persons, 27.5ms\n",
      "Speed: 1.0ms preprocess, 27.5ms inference, 0.3ms postprocess per image at shape (1, 3, 256, 416)\n"
     ]
    },
    {
     "name": "stdout",
     "output_type": "stream",
     "text": [
      "TIme to process 1 frame : 276 milliseconds\n"
     ]
    },
    {
     "name": "stderr",
     "output_type": "stream",
     "text": [
      "\n",
      "0: 256x416 3 persons, 32.1ms\n",
      "Speed: 1.6ms preprocess, 32.1ms inference, 0.3ms postprocess per image at shape (1, 3, 256, 416)\n"
     ]
    },
    {
     "name": "stdout",
     "output_type": "stream",
     "text": [
      "TIme to process 1 frame : 207 milliseconds\n"
     ]
    },
    {
     "name": "stderr",
     "output_type": "stream",
     "text": [
      "\n",
      "0: 256x416 3 persons, 29.0ms\n",
      "Speed: 1.3ms preprocess, 29.0ms inference, 0.3ms postprocess per image at shape (1, 3, 256, 416)\n"
     ]
    },
    {
     "name": "stdout",
     "output_type": "stream",
     "text": [
      "TIme to process 1 frame : 276 milliseconds\n"
     ]
    },
    {
     "name": "stderr",
     "output_type": "stream",
     "text": [
      "\n",
      "0: 256x416 3 persons, 28.3ms\n",
      "Speed: 1.9ms preprocess, 28.3ms inference, 0.3ms postprocess per image at shape (1, 3, 256, 416)\n"
     ]
    },
    {
     "name": "stdout",
     "output_type": "stream",
     "text": [
      "TIme to process 1 frame : 268 milliseconds\n"
     ]
    },
    {
     "name": "stderr",
     "output_type": "stream",
     "text": [
      "\n",
      "0: 256x416 3 persons, 32.2ms\n",
      "Speed: 1.5ms preprocess, 32.2ms inference, 0.3ms postprocess per image at shape (1, 3, 256, 416)\n"
     ]
    },
    {
     "name": "stdout",
     "output_type": "stream",
     "text": [
      "TIme to process 1 frame : 279 milliseconds\n"
     ]
    },
    {
     "name": "stderr",
     "output_type": "stream",
     "text": [
      "\n",
      "0: 256x416 4 persons, 26.6ms\n",
      "Speed: 1.4ms preprocess, 26.6ms inference, 0.3ms postprocess per image at shape (1, 3, 256, 416)\n"
     ]
    },
    {
     "name": "stdout",
     "output_type": "stream",
     "text": [
      "TIme to process 1 frame : 263 milliseconds\n"
     ]
    },
    {
     "name": "stderr",
     "output_type": "stream",
     "text": [
      "\n",
      "0: 256x416 3 persons, 31.3ms\n",
      "Speed: 1.2ms preprocess, 31.3ms inference, 0.4ms postprocess per image at shape (1, 3, 256, 416)\n"
     ]
    },
    {
     "name": "stdout",
     "output_type": "stream",
     "text": [
      "TIme to process 1 frame : 289 milliseconds\n"
     ]
    },
    {
     "name": "stderr",
     "output_type": "stream",
     "text": [
      "\n",
      "0: 256x416 4 persons, 29.9ms\n",
      "Speed: 1.3ms preprocess, 29.9ms inference, 0.3ms postprocess per image at shape (1, 3, 256, 416)\n"
     ]
    },
    {
     "name": "stdout",
     "output_type": "stream",
     "text": [
      "TIme to process 1 frame : 261 milliseconds\n"
     ]
    },
    {
     "name": "stderr",
     "output_type": "stream",
     "text": [
      "\n",
      "0: 256x416 3 persons, 30.3ms\n",
      "Speed: 2.0ms preprocess, 30.3ms inference, 0.8ms postprocess per image at shape (1, 3, 256, 416)\n"
     ]
    },
    {
     "name": "stdout",
     "output_type": "stream",
     "text": [
      "TIme to process 1 frame : 271 milliseconds\n"
     ]
    },
    {
     "name": "stderr",
     "output_type": "stream",
     "text": [
      "\n",
      "0: 256x416 3 persons, 32.5ms\n",
      "Speed: 1.4ms preprocess, 32.5ms inference, 0.3ms postprocess per image at shape (1, 3, 256, 416)\n"
     ]
    },
    {
     "name": "stdout",
     "output_type": "stream",
     "text": [
      "TIme to process 1 frame : 209 milliseconds\n"
     ]
    },
    {
     "name": "stderr",
     "output_type": "stream",
     "text": [
      "\n",
      "0: 256x416 3 persons, 31.4ms\n",
      "Speed: 1.1ms preprocess, 31.4ms inference, 0.3ms postprocess per image at shape (1, 3, 256, 416)\n"
     ]
    },
    {
     "name": "stdout",
     "output_type": "stream",
     "text": [
      "TIme to process 1 frame : 208 milliseconds\n"
     ]
    },
    {
     "name": "stderr",
     "output_type": "stream",
     "text": [
      "\n",
      "0: 256x416 2 persons, 28.8ms\n",
      "Speed: 0.9ms preprocess, 28.8ms inference, 0.3ms postprocess per image at shape (1, 3, 256, 416)\n"
     ]
    },
    {
     "name": "stdout",
     "output_type": "stream",
     "text": [
      "TIme to process 1 frame : 208 milliseconds\n"
     ]
    },
    {
     "name": "stderr",
     "output_type": "stream",
     "text": [
      "\n",
      "0: 256x416 3 persons, 33.0ms\n",
      "Speed: 0.8ms preprocess, 33.0ms inference, 0.3ms postprocess per image at shape (1, 3, 256, 416)\n"
     ]
    },
    {
     "name": "stdout",
     "output_type": "stream",
     "text": [
      "TIme to process 1 frame : 203 milliseconds\n"
     ]
    },
    {
     "name": "stderr",
     "output_type": "stream",
     "text": [
      "\n",
      "0: 256x416 4 persons, 33.3ms\n",
      "Speed: 0.9ms preprocess, 33.3ms inference, 0.4ms postprocess per image at shape (1, 3, 256, 416)\n"
     ]
    },
    {
     "name": "stdout",
     "output_type": "stream",
     "text": [
      "TIme to process 1 frame : 206 milliseconds\n"
     ]
    },
    {
     "name": "stderr",
     "output_type": "stream",
     "text": [
      "\n",
      "0: 256x416 3 persons, 35.4ms\n",
      "Speed: 0.7ms preprocess, 35.4ms inference, 1.6ms postprocess per image at shape (1, 3, 256, 416)\n"
     ]
    },
    {
     "name": "stdout",
     "output_type": "stream",
     "text": [
      "TIme to process 1 frame : 204 milliseconds\n"
     ]
    },
    {
     "name": "stderr",
     "output_type": "stream",
     "text": [
      "\n",
      "0: 256x416 3 persons, 26.0ms\n",
      "Speed: 1.8ms preprocess, 26.0ms inference, 0.9ms postprocess per image at shape (1, 3, 256, 416)\n"
     ]
    },
    {
     "name": "stdout",
     "output_type": "stream",
     "text": [
      "TIme to process 1 frame : 309 milliseconds\n"
     ]
    },
    {
     "name": "stderr",
     "output_type": "stream",
     "text": [
      "\n",
      "0: 256x416 3 persons, 26.3ms\n",
      "Speed: 2.1ms preprocess, 26.3ms inference, 0.3ms postprocess per image at shape (1, 3, 256, 416)\n"
     ]
    },
    {
     "name": "stdout",
     "output_type": "stream",
     "text": [
      "TIme to process 1 frame : 268 milliseconds\n"
     ]
    },
    {
     "name": "stderr",
     "output_type": "stream",
     "text": [
      "\n",
      "0: 256x416 4 persons, 27.6ms\n",
      "Speed: 1.6ms preprocess, 27.6ms inference, 0.3ms postprocess per image at shape (1, 3, 256, 416)\n"
     ]
    },
    {
     "name": "stdout",
     "output_type": "stream",
     "text": [
      "TIme to process 1 frame : 264 milliseconds\n"
     ]
    },
    {
     "name": "stderr",
     "output_type": "stream",
     "text": [
      "\n",
      "0: 256x416 4 persons, 31.7ms\n",
      "Speed: 1.3ms preprocess, 31.7ms inference, 0.3ms postprocess per image at shape (1, 3, 256, 416)\n"
     ]
    },
    {
     "name": "stdout",
     "output_type": "stream",
     "text": [
      "TIme to process 1 frame : 243 milliseconds\n"
     ]
    },
    {
     "name": "stderr",
     "output_type": "stream",
     "text": [
      "\n",
      "0: 256x416 5 persons, 32.4ms\n",
      "Speed: 1.5ms preprocess, 32.4ms inference, 0.3ms postprocess per image at shape (1, 3, 256, 416)\n"
     ]
    },
    {
     "name": "stdout",
     "output_type": "stream",
     "text": [
      "TIme to process 1 frame : 217 milliseconds\n"
     ]
    },
    {
     "name": "stderr",
     "output_type": "stream",
     "text": [
      "\n",
      "0: 256x416 3 persons, 31.6ms\n",
      "Speed: 1.5ms preprocess, 31.6ms inference, 0.4ms postprocess per image at shape (1, 3, 256, 416)\n"
     ]
    },
    {
     "name": "stdout",
     "output_type": "stream",
     "text": [
      "TIme to process 1 frame : 284 milliseconds\n"
     ]
    },
    {
     "name": "stderr",
     "output_type": "stream",
     "text": [
      "\n",
      "0: 256x416 3 persons, 53.1ms\n",
      "Speed: 1.6ms preprocess, 53.1ms inference, 0.9ms postprocess per image at shape (1, 3, 256, 416)\n"
     ]
    },
    {
     "name": "stdout",
     "output_type": "stream",
     "text": [
      "TIme to process 1 frame : 296 milliseconds\n"
     ]
    },
    {
     "name": "stderr",
     "output_type": "stream",
     "text": [
      "\n",
      "0: 256x416 3 persons, 47.5ms\n",
      "Speed: 1.3ms preprocess, 47.5ms inference, 0.4ms postprocess per image at shape (1, 3, 256, 416)\n"
     ]
    },
    {
     "name": "stdout",
     "output_type": "stream",
     "text": [
      "TIme to process 1 frame : 326 milliseconds\n"
     ]
    },
    {
     "name": "stderr",
     "output_type": "stream",
     "text": [
      "\n",
      "0: 256x416 3 persons, 37.0ms\n",
      "Speed: 1.8ms preprocess, 37.0ms inference, 0.8ms postprocess per image at shape (1, 3, 256, 416)\n"
     ]
    },
    {
     "name": "stdout",
     "output_type": "stream",
     "text": [
      "TIme to process 1 frame : 321 milliseconds\n"
     ]
    },
    {
     "name": "stderr",
     "output_type": "stream",
     "text": [
      "\n",
      "0: 256x416 3 persons, 34.2ms\n",
      "Speed: 0.8ms preprocess, 34.2ms inference, 0.3ms postprocess per image at shape (1, 3, 256, 416)\n"
     ]
    },
    {
     "name": "stdout",
     "output_type": "stream",
     "text": [
      "TIme to process 1 frame : 284 milliseconds\n"
     ]
    },
    {
     "name": "stderr",
     "output_type": "stream",
     "text": [
      "\n",
      "0: 256x416 3 persons, 27.0ms\n",
      "Speed: 1.3ms preprocess, 27.0ms inference, 0.3ms postprocess per image at shape (1, 3, 256, 416)\n"
     ]
    },
    {
     "name": "stdout",
     "output_type": "stream",
     "text": [
      "TIme to process 1 frame : 255 milliseconds\n"
     ]
    },
    {
     "name": "stderr",
     "output_type": "stream",
     "text": [
      "\n",
      "0: 256x416 3 persons, 30.9ms\n",
      "Speed: 1.4ms preprocess, 30.9ms inference, 0.3ms postprocess per image at shape (1, 3, 256, 416)\n"
     ]
    },
    {
     "name": "stdout",
     "output_type": "stream",
     "text": [
      "TIme to process 1 frame : 201 milliseconds\n"
     ]
    },
    {
     "name": "stderr",
     "output_type": "stream",
     "text": [
      "\n",
      "0: 256x416 4 persons, 39.3ms\n",
      "Speed: 1.4ms preprocess, 39.3ms inference, 0.9ms postprocess per image at shape (1, 3, 256, 416)\n"
     ]
    },
    {
     "name": "stdout",
     "output_type": "stream",
     "text": [
      "TIme to process 1 frame : 282 milliseconds\n"
     ]
    },
    {
     "name": "stderr",
     "output_type": "stream",
     "text": [
      "\n",
      "0: 256x416 3 persons, 34.2ms\n",
      "Speed: 1.9ms preprocess, 34.2ms inference, 0.4ms postprocess per image at shape (1, 3, 256, 416)\n"
     ]
    },
    {
     "name": "stdout",
     "output_type": "stream",
     "text": [
      "TIme to process 1 frame : 269 milliseconds\n"
     ]
    },
    {
     "name": "stderr",
     "output_type": "stream",
     "text": [
      "\n",
      "0: 256x416 3 persons, 28.8ms\n",
      "Speed: 1.1ms preprocess, 28.8ms inference, 0.4ms postprocess per image at shape (1, 3, 256, 416)\n"
     ]
    },
    {
     "name": "stdout",
     "output_type": "stream",
     "text": [
      "TIme to process 1 frame : 265 milliseconds\n"
     ]
    },
    {
     "name": "stderr",
     "output_type": "stream",
     "text": [
      "\n",
      "0: 256x416 3 persons, 46.9ms\n",
      "Speed: 1.5ms preprocess, 46.9ms inference, 0.4ms postprocess per image at shape (1, 3, 256, 416)\n"
     ]
    },
    {
     "name": "stdout",
     "output_type": "stream",
     "text": [
      "TIme to process 1 frame : 271 milliseconds\n"
     ]
    },
    {
     "name": "stderr",
     "output_type": "stream",
     "text": [
      "\n",
      "0: 256x416 3 persons, 31.4ms\n",
      "Speed: 1.5ms preprocess, 31.4ms inference, 0.3ms postprocess per image at shape (1, 3, 256, 416)\n"
     ]
    },
    {
     "name": "stdout",
     "output_type": "stream",
     "text": [
      "TIme to process 1 frame : 272 milliseconds\n"
     ]
    },
    {
     "name": "stderr",
     "output_type": "stream",
     "text": [
      "\n",
      "0: 256x416 3 persons, 28.9ms\n",
      "Speed: 1.1ms preprocess, 28.9ms inference, 0.3ms postprocess per image at shape (1, 3, 256, 416)\n"
     ]
    },
    {
     "name": "stdout",
     "output_type": "stream",
     "text": [
      "TIme to process 1 frame : 222 milliseconds\n",
      "TIme to process 1 frame : 198 milliseconds\n"
     ]
    }
   ],
   "source": [
    "\n",
    "model = YOLO(\"724.pt\")\n",
    "\n",
    "#tracker 객체 생성.\n",
    "tracker = DeepSort(max_age=60)\n",
    "video_cap = cv2.VideoCapture(\"/Users/gimgeon-yu/Desktop/openCV/friend_group_1.mp4\")\n",
    "results = []\n",
    "while video_cap.isOpened():\n",
    "    start = datetime.datetime.now()\n",
    "    ret, frame = video_cap.read()\n",
    "\n",
    "    detections = model(frame)[0]\n",
    "\n",
    "    results = []\n",
    "\n",
    "    for data in detections.boxes.data.tolist():\n",
    "        confidence = data[4]\n",
    "        if float(confidence) < CONFIDENCE_THESHOLD:\n",
    "            continue\n",
    "        \n",
    "        xmin, ymin, xmax, ymax = int(data[0]),int(data[1]),int(data[2]),int(data[3])\n",
    "        class_id = int(data[5])\n",
    "\n",
    "        results.append([[xmin, ymin, xmax-xmin, ymax-ymin], confidence, class_id])\n",
    "\n",
    "\n",
    "    tracks = tracker.update_tracks(results, frame=frame)\n",
    "    for track in tracks:\n",
    "        if not track.is_confirmed():\n",
    "            continue\n",
    "\n",
    "        track_id = track.track_id\n",
    "        ltrb = track.to_ltrb()\n",
    "\n",
    "        xmin, ymin, xmax, ymax = int(ltrb[0]), int(ltrb[1]), int(ltrb[2]), int(ltrb[3])\n",
    "\n",
    "        cv2.rectangle(frame, (xmin, ymin), (xmax, ymax),GREEN, 2)\n",
    "        cv2.rectangle(frame, (xmin, ymin-20), (xmin+20,ymin), GREEN, -1)\n",
    "        cv2.putText(frame, str(track_id), (xmin+5, ymin-8), cv2.FONT_HERSHEY_SIMPLEX, 0.5, WHITE, 2)\n",
    "\n",
    "    end = datetime.datetime.now()\n",
    "\n",
    "    print(f\"TIme to process 1 frame : {(end-start).total_seconds()*1000:.0f} milliseconds\")\n",
    "    fps = f\"FPS : {1/(end-start).total_seconds():.2f}\"\n",
    "    cv2.putText(frame, fps, (50,50),cv2.FONT_HERSHEY_SIMPLEX,2, (0,0,255), 8)\n",
    "\n",
    "    cv2.imshow(\"Frame\", frame)\n",
    "\n",
    "    if cv2.waitKey(1) == ord(\"q\"):\n",
    "        break\n",
    "\n",
    "video_cap.release()\n",
    "cv2.destroyAllWindows()"
   ]
  }
 ],
 "metadata": {
  "kernelspec": {
   "display_name": "Python 3",
   "language": "python",
   "name": "python3"
  },
  "language_info": {
   "codemirror_mode": {
    "name": "ipython",
    "version": 3
   },
   "file_extension": ".py",
   "mimetype": "text/x-python",
   "name": "python",
   "nbconvert_exporter": "python",
   "pygments_lexer": "ipython3",
   "version": "3.11.4"
  },
  "orig_nbformat": 4
 },
 "nbformat": 4,
 "nbformat_minor": 2
}
