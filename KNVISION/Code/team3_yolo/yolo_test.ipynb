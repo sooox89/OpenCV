{
 "cells": [
  {
   "cell_type": "code",
   "execution_count": 1,
   "metadata": {},
   "outputs": [],
   "source": [
    "import cv2\n",
    "import numpy as np\n",
    "import torch\n",
    "import ultralytics\n",
    "import supervision as sv"
   ]
  },
  {
   "cell_type": "code",
   "execution_count": 2,
   "metadata": {},
   "outputs": [],
   "source": [
    "from ultralytics import YOLO\n"
   ]
  },
  {
   "cell_type": "code",
   "execution_count": 3,
   "metadata": {},
   "outputs": [],
   "source": [
    "device = torch.device('cuda' if torch.cuda.is_available() else 'cpu')"
   ]
  },
  {
   "cell_type": "code",
   "execution_count": 4,
   "metadata": {},
   "outputs": [],
   "source": [
    "#각 박스에 위치를 리스트에 넣기\n",
    "def paintPoints(img, boxes, myColors):\n",
    "    for i in range(len(boxes)):\n",
    "        newPoints = []\n",
    "        box = boxes[i]\n",
    "        myColor = myColors[i]\n",
    "        x1,y1,x2,y2 = box.xyxy[0][0],box.xyxy[0][1],box.xyxy[0][2],box.xyxy[0][3]\n",
    "        target_x = (x1+x2)/2\n",
    "        target_y = y1\n",
    "        newPoints.append([target_x, target_y,i])\n",
    "    return newPoints\n",
    "    # for point in newPoints:\n",
    "    #     cv2.circle(img, (int(point[0]), int(point[1])), 10,myColor, cv2.FILLED)"
   ]
  },
  {
   "cell_type": "code",
   "execution_count": 5,
   "metadata": {},
   "outputs": [],
   "source": [
    "#그 리스트에 있는 점들을 그리기.\n",
    "def drawOnCanvas(img, myPoints, myColors):\n",
    "    for point in myPoints:\n",
    "        cv2.circle(img, (int(point[0]), int(point[1])), 5, myColors[point[2]], cv2.FILLED)"
   ]
  },
  {
   "cell_type": "code",
   "execution_count": 8,
   "metadata": {},
   "outputs": [
    {
     "name": "stderr",
     "output_type": "stream",
     "text": [
      "\n",
      "0: 256x416 (no detections), 35.1ms\n",
      "Speed: 1.0ms preprocess, 35.1ms inference, 0.3ms postprocess per image at shape (1, 3, 256, 416)\n",
      "\n",
      "0: 256x416 (no detections), 29.3ms\n",
      "Speed: 1.2ms preprocess, 29.3ms inference, 0.2ms postprocess per image at shape (1, 3, 256, 416)\n",
      "\n",
      "0: 256x416 (no detections), 27.5ms\n",
      "Speed: 0.8ms preprocess, 27.5ms inference, 0.2ms postprocess per image at shape (1, 3, 256, 416)\n",
      "\n",
      "0: 256x416 1 person, 23.7ms\n",
      "Speed: 0.8ms preprocess, 23.7ms inference, 9.4ms postprocess per image at shape (1, 3, 256, 416)\n"
     ]
    },
    {
     "name": "stdout",
     "output_type": "stream",
     "text": [
      "id :  None\n",
      "flag2\n",
      "id :  None\n",
      "flag2\n",
      "id :  None\n",
      "flag2\n",
      "id :  None\n"
     ]
    },
    {
     "name": "stderr",
     "output_type": "stream",
     "text": [
      "\n",
      "0: 256x416 1 person, 24.7ms\n",
      "Speed: 0.8ms preprocess, 24.7ms inference, 0.3ms postprocess per image at shape (1, 3, 256, 416)\n",
      "\n",
      "0: 256x416 1 person, 22.1ms\n",
      "Speed: 0.8ms preprocess, 22.1ms inference, 0.3ms postprocess per image at shape (1, 3, 256, 416)\n",
      "\n",
      "0: 256x416 1 person, 23.6ms\n",
      "Speed: 0.9ms preprocess, 23.6ms inference, 0.3ms postprocess per image at shape (1, 3, 256, 416)\n",
      "\n",
      "0: 256x416 1 person, 24.3ms\n",
      "Speed: 0.7ms preprocess, 24.3ms inference, 0.3ms postprocess per image at shape (1, 3, 256, 416)\n",
      "\n",
      "0: 256x416 1 person, 22.3ms\n",
      "Speed: 0.9ms preprocess, 22.3ms inference, 0.3ms postprocess per image at shape (1, 3, 256, 416)\n",
      "\n"
     ]
    },
    {
     "name": "stdout",
     "output_type": "stream",
     "text": [
      "id :  None\n",
      "id :  None\n",
      "id :  None\n",
      "id :  None\n",
      "id :  None\n"
     ]
    },
    {
     "name": "stderr",
     "output_type": "stream",
     "text": [
      "0: 256x416 1 person, 21.4ms\n",
      "Speed: 0.7ms preprocess, 21.4ms inference, 0.3ms postprocess per image at shape (1, 3, 256, 416)\n",
      "\n",
      "0: 256x416 1 person, 22.3ms\n",
      "Speed: 0.7ms preprocess, 22.3ms inference, 0.3ms postprocess per image at shape (1, 3, 256, 416)\n",
      "\n",
      "0: 256x416 1 person, 22.2ms\n",
      "Speed: 0.9ms preprocess, 22.2ms inference, 0.3ms postprocess per image at shape (1, 3, 256, 416)\n",
      "\n",
      "0: 256x416 1 person, 23.4ms\n",
      "Speed: 0.8ms preprocess, 23.4ms inference, 0.3ms postprocess per image at shape (1, 3, 256, 416)\n",
      "\n",
      "0: 256x416 1 person, 22.6ms\n",
      "Speed: 0.8ms preprocess, 22.6ms inference, 0.3ms postprocess per image at shape (1, 3, 256, 416)\n",
      "\n"
     ]
    },
    {
     "name": "stdout",
     "output_type": "stream",
     "text": [
      "id :  None\n",
      "id :  None\n",
      "id :  None\n",
      "id :  None\n",
      "id :  None\n"
     ]
    },
    {
     "name": "stderr",
     "output_type": "stream",
     "text": [
      "0: 256x416 1 person, 26.6ms\n",
      "Speed: 0.6ms preprocess, 26.6ms inference, 0.3ms postprocess per image at shape (1, 3, 256, 416)\n",
      "\n",
      "0: 256x416 1 person, 21.7ms\n",
      "Speed: 0.7ms preprocess, 21.7ms inference, 0.3ms postprocess per image at shape (1, 3, 256, 416)\n",
      "\n",
      "0: 256x416 1 person, 21.2ms\n",
      "Speed: 0.7ms preprocess, 21.2ms inference, 0.3ms postprocess per image at shape (1, 3, 256, 416)\n",
      "\n",
      "0: 256x416 (no detections), 21.1ms\n",
      "Speed: 0.7ms preprocess, 21.1ms inference, 0.2ms postprocess per image at shape (1, 3, 256, 416)\n",
      "\n",
      "0: 256x416 (no detections), 21.8ms\n",
      "Speed: 0.8ms preprocess, 21.8ms inference, 0.2ms postprocess per image at shape (1, 3, 256, 416)\n",
      "\n"
     ]
    },
    {
     "name": "stdout",
     "output_type": "stream",
     "text": [
      "id :  None\n",
      "id :  None\n",
      "id :  None\n",
      "id :  None\n",
      "flag2\n",
      "id :  None\n",
      "flag2\n"
     ]
    },
    {
     "name": "stderr",
     "output_type": "stream",
     "text": [
      "0: 256x416 1 person, 21.3ms\n",
      "Speed: 0.7ms preprocess, 21.3ms inference, 0.3ms postprocess per image at shape (1, 3, 256, 416)\n",
      "\n",
      "0: 256x416 1 person, 23.8ms\n",
      "Speed: 0.6ms preprocess, 23.8ms inference, 0.3ms postprocess per image at shape (1, 3, 256, 416)\n",
      "\n",
      "0: 256x416 1 person, 21.4ms\n",
      "Speed: 0.7ms preprocess, 21.4ms inference, 0.3ms postprocess per image at shape (1, 3, 256, 416)\n",
      "\n",
      "0: 256x416 1 person, 22.8ms\n",
      "Speed: 0.7ms preprocess, 22.8ms inference, 0.4ms postprocess per image at shape (1, 3, 256, 416)\n",
      "\n",
      "0: 256x416 2 persons, 22.0ms\n",
      "Speed: 0.8ms preprocess, 22.0ms inference, 0.3ms postprocess per image at shape (1, 3, 256, 416)\n",
      "\n"
     ]
    },
    {
     "name": "stdout",
     "output_type": "stream",
     "text": [
      "id :  None\n",
      "id :  None\n",
      "id :  None\n",
      "id :  None\n",
      "id :  None\n"
     ]
    },
    {
     "name": "stderr",
     "output_type": "stream",
     "text": [
      "0: 256x416 2 persons, 24.5ms\n",
      "Speed: 0.7ms preprocess, 24.5ms inference, 0.4ms postprocess per image at shape (1, 3, 256, 416)\n",
      "\n",
      "0: 256x416 2 persons, 21.7ms\n",
      "Speed: 0.8ms preprocess, 21.7ms inference, 0.4ms postprocess per image at shape (1, 3, 256, 416)\n",
      "\n",
      "0: 256x416 2 persons, 22.8ms\n",
      "Speed: 0.9ms preprocess, 22.8ms inference, 0.4ms postprocess per image at shape (1, 3, 256, 416)\n",
      "\n",
      "0: 256x416 2 persons, 21.2ms\n",
      "Speed: 0.8ms preprocess, 21.2ms inference, 0.3ms postprocess per image at shape (1, 3, 256, 416)\n",
      "\n",
      "0: 256x416 2 persons, 22.5ms\n",
      "Speed: 0.8ms preprocess, 22.5ms inference, 0.4ms postprocess per image at shape (1, 3, 256, 416)\n",
      "\n"
     ]
    },
    {
     "name": "stdout",
     "output_type": "stream",
     "text": [
      "id :  None\n",
      "id :  None\n",
      "id :  None\n",
      "id :  None\n",
      "id :  None\n"
     ]
    },
    {
     "name": "stderr",
     "output_type": "stream",
     "text": [
      "0: 256x416 2 persons, 19.9ms\n",
      "Speed: 0.7ms preprocess, 19.9ms inference, 0.3ms postprocess per image at shape (1, 3, 256, 416)\n",
      "\n",
      "0: 256x416 2 persons, 21.3ms\n",
      "Speed: 0.7ms preprocess, 21.3ms inference, 0.4ms postprocess per image at shape (1, 3, 256, 416)\n",
      "\n",
      "0: 256x416 2 persons, 21.0ms\n",
      "Speed: 0.7ms preprocess, 21.0ms inference, 0.3ms postprocess per image at shape (1, 3, 256, 416)\n",
      "\n",
      "0: 256x416 2 persons, 21.1ms\n",
      "Speed: 0.8ms preprocess, 21.1ms inference, 0.4ms postprocess per image at shape (1, 3, 256, 416)\n",
      "\n",
      "0: 256x416 2 persons, 21.3ms\n",
      "Speed: 0.7ms preprocess, 21.3ms inference, 0.3ms postprocess per image at shape (1, 3, 256, 416)\n",
      "\n"
     ]
    },
    {
     "name": "stdout",
     "output_type": "stream",
     "text": [
      "id :  None\n",
      "id :  None\n",
      "id :  None\n",
      "id :  None\n",
      "id :  None\n"
     ]
    },
    {
     "name": "stderr",
     "output_type": "stream",
     "text": [
      "0: 256x416 2 persons, 21.4ms\n",
      "Speed: 0.7ms preprocess, 21.4ms inference, 0.3ms postprocess per image at shape (1, 3, 256, 416)\n",
      "\n",
      "0: 256x416 2 persons, 22.1ms\n",
      "Speed: 0.8ms preprocess, 22.1ms inference, 0.3ms postprocess per image at shape (1, 3, 256, 416)\n",
      "\n",
      "0: 256x416 3 persons, 23.0ms\n",
      "Speed: 0.7ms preprocess, 23.0ms inference, 0.3ms postprocess per image at shape (1, 3, 256, 416)\n",
      "\n",
      "0: 256x416 2 persons, 20.6ms\n",
      "Speed: 0.8ms preprocess, 20.6ms inference, 0.3ms postprocess per image at shape (1, 3, 256, 416)\n",
      "\n",
      "0: 256x416 2 persons, 21.1ms\n",
      "Speed: 0.7ms preprocess, 21.1ms inference, 0.4ms postprocess per image at shape (1, 3, 256, 416)\n",
      "\n"
     ]
    },
    {
     "name": "stdout",
     "output_type": "stream",
     "text": [
      "id :  None\n",
      "id :  None\n",
      "id :  None\n",
      "id :  None\n",
      "id :  None\n"
     ]
    },
    {
     "name": "stderr",
     "output_type": "stream",
     "text": [
      "0: 256x416 2 persons, 21.0ms\n",
      "Speed: 0.8ms preprocess, 21.0ms inference, 0.3ms postprocess per image at shape (1, 3, 256, 416)\n",
      "\n",
      "0: 256x416 2 persons, 33.2ms\n",
      "Speed: 2.7ms preprocess, 33.2ms inference, 0.3ms postprocess per image at shape (1, 3, 256, 416)\n",
      "\n",
      "0: 256x416 1 person, 21.0ms\n",
      "Speed: 0.9ms preprocess, 21.0ms inference, 0.3ms postprocess per image at shape (1, 3, 256, 416)\n",
      "\n",
      "0: 256x416 1 person, 20.9ms\n",
      "Speed: 0.7ms preprocess, 20.9ms inference, 0.3ms postprocess per image at shape (1, 3, 256, 416)\n",
      "\n",
      "0: 256x416 2 persons, 21.6ms\n",
      "Speed: 0.9ms preprocess, 21.6ms inference, 0.3ms postprocess per image at shape (1, 3, 256, 416)\n",
      "\n"
     ]
    },
    {
     "name": "stdout",
     "output_type": "stream",
     "text": [
      "id :  None\n",
      "id :  None\n",
      "id :  None\n",
      "id :  None\n",
      "id :  None\n"
     ]
    },
    {
     "name": "stderr",
     "output_type": "stream",
     "text": [
      "0: 256x416 2 persons, 21.6ms\n",
      "Speed: 0.6ms preprocess, 21.6ms inference, 0.3ms postprocess per image at shape (1, 3, 256, 416)\n",
      "\n",
      "0: 256x416 2 persons, 20.9ms\n",
      "Speed: 0.9ms preprocess, 20.9ms inference, 0.3ms postprocess per image at shape (1, 3, 256, 416)\n",
      "\n",
      "0: 256x416 3 persons, 20.8ms\n",
      "Speed: 0.7ms preprocess, 20.8ms inference, 0.3ms postprocess per image at shape (1, 3, 256, 416)\n",
      "\n",
      "0: 256x416 2 persons, 22.0ms\n",
      "Speed: 0.9ms preprocess, 22.0ms inference, 0.3ms postprocess per image at shape (1, 3, 256, 416)\n",
      "\n",
      "0: 256x416 2 persons, 21.6ms\n",
      "Speed: 0.6ms preprocess, 21.6ms inference, 0.3ms postprocess per image at shape (1, 3, 256, 416)\n",
      "\n"
     ]
    },
    {
     "name": "stdout",
     "output_type": "stream",
     "text": [
      "id :  None\n",
      "id :  None\n",
      "id :  None\n",
      "id :  None\n",
      "id :  None\n"
     ]
    },
    {
     "name": "stderr",
     "output_type": "stream",
     "text": [
      "0: 256x416 2 persons, 22.5ms\n",
      "Speed: 0.8ms preprocess, 22.5ms inference, 0.4ms postprocess per image at shape (1, 3, 256, 416)\n",
      "\n",
      "0: 256x416 3 persons, 21.6ms\n",
      "Speed: 0.8ms preprocess, 21.6ms inference, 0.3ms postprocess per image at shape (1, 3, 256, 416)\n",
      "\n",
      "0: 256x416 2 persons, 21.5ms\n",
      "Speed: 0.7ms preprocess, 21.5ms inference, 0.3ms postprocess per image at shape (1, 3, 256, 416)\n",
      "\n",
      "0: 256x416 3 persons, 21.2ms\n",
      "Speed: 0.7ms preprocess, 21.2ms inference, 0.3ms postprocess per image at shape (1, 3, 256, 416)\n",
      "\n",
      "0: 256x416 3 persons, 21.5ms\n",
      "Speed: 0.7ms preprocess, 21.5ms inference, 0.3ms postprocess per image at shape (1, 3, 256, 416)\n",
      "\n"
     ]
    },
    {
     "name": "stdout",
     "output_type": "stream",
     "text": [
      "id :  None\n",
      "id :  None\n",
      "id :  None\n",
      "id :  None\n",
      "id :  None\n"
     ]
    },
    {
     "name": "stderr",
     "output_type": "stream",
     "text": [
      "0: 256x416 3 persons, 23.5ms\n",
      "Speed: 0.7ms preprocess, 23.5ms inference, 0.3ms postprocess per image at shape (1, 3, 256, 416)\n",
      "\n",
      "0: 256x416 2 persons, 21.1ms\n",
      "Speed: 0.7ms preprocess, 21.1ms inference, 0.3ms postprocess per image at shape (1, 3, 256, 416)\n",
      "\n",
      "0: 256x416 3 persons, 21.4ms\n",
      "Speed: 0.7ms preprocess, 21.4ms inference, 0.3ms postprocess per image at shape (1, 3, 256, 416)\n",
      "\n",
      "0: 256x416 3 persons, 21.5ms\n",
      "Speed: 0.8ms preprocess, 21.5ms inference, 0.3ms postprocess per image at shape (1, 3, 256, 416)\n",
      "\n",
      "0: 256x416 3 persons, 22.5ms\n",
      "Speed: 0.7ms preprocess, 22.5ms inference, 0.4ms postprocess per image at shape (1, 3, 256, 416)\n",
      "\n",
      "0: 256x416 3 persons, 21.3ms\n"
     ]
    },
    {
     "name": "stdout",
     "output_type": "stream",
     "text": [
      "id :  None\n",
      "id :  None\n",
      "id :  None\n",
      "id :  None\n",
      "id :  None\n"
     ]
    },
    {
     "name": "stderr",
     "output_type": "stream",
     "text": [
      "Speed: 0.8ms preprocess, 21.3ms inference, 0.3ms postprocess per image at shape (1, 3, 256, 416)\n",
      "\n",
      "0: 256x416 3 persons, 20.8ms\n",
      "Speed: 0.7ms preprocess, 20.8ms inference, 0.3ms postprocess per image at shape (1, 3, 256, 416)\n",
      "\n",
      "0: 256x416 3 persons, 23.4ms\n",
      "Speed: 0.9ms preprocess, 23.4ms inference, 0.3ms postprocess per image at shape (1, 3, 256, 416)\n",
      "\n",
      "0: 256x416 3 persons, 21.0ms\n",
      "Speed: 0.7ms preprocess, 21.0ms inference, 0.3ms postprocess per image at shape (1, 3, 256, 416)\n",
      "\n",
      "0: 256x416 3 persons, 24.6ms\n",
      "Speed: 1.0ms preprocess, 24.6ms inference, 0.4ms postprocess per image at shape (1, 3, 256, 416)\n",
      "\n"
     ]
    },
    {
     "name": "stdout",
     "output_type": "stream",
     "text": [
      "id :  None\n",
      "id :  None\n",
      "id :  None\n",
      "id :  None\n",
      "id :  None\n"
     ]
    },
    {
     "name": "stderr",
     "output_type": "stream",
     "text": [
      "0: 256x416 3 persons, 23.1ms\n",
      "Speed: 0.8ms preprocess, 23.1ms inference, 0.4ms postprocess per image at shape (1, 3, 256, 416)\n",
      "\n",
      "0: 256x416 3 persons, 21.6ms\n",
      "Speed: 1.0ms preprocess, 21.6ms inference, 0.3ms postprocess per image at shape (1, 3, 256, 416)\n",
      "\n",
      "0: 256x416 3 persons, 22.0ms\n",
      "Speed: 0.8ms preprocess, 22.0ms inference, 0.3ms postprocess per image at shape (1, 3, 256, 416)\n",
      "\n",
      "0: 256x416 4 persons, 20.8ms\n",
      "Speed: 0.7ms preprocess, 20.8ms inference, 0.3ms postprocess per image at shape (1, 3, 256, 416)\n",
      "\n",
      "0: 256x416 4 persons, 21.9ms\n",
      "Speed: 1.0ms preprocess, 21.9ms inference, 0.3ms postprocess per image at shape (1, 3, 256, 416)\n",
      "\n"
     ]
    },
    {
     "name": "stdout",
     "output_type": "stream",
     "text": [
      "id :  None\n",
      "id :  None\n",
      "id :  None\n",
      "id :  None\n",
      "id :  None\n"
     ]
    },
    {
     "name": "stderr",
     "output_type": "stream",
     "text": [
      "0: 256x416 3 persons, 21.2ms\n",
      "Speed: 0.6ms preprocess, 21.2ms inference, 0.3ms postprocess per image at shape (1, 3, 256, 416)\n",
      "\n",
      "0: 256x416 3 persons, 23.9ms\n",
      "Speed: 0.7ms preprocess, 23.9ms inference, 0.3ms postprocess per image at shape (1, 3, 256, 416)\n",
      "\n",
      "0: 256x416 3 persons, 21.2ms\n",
      "Speed: 0.8ms preprocess, 21.2ms inference, 0.3ms postprocess per image at shape (1, 3, 256, 416)\n",
      "\n",
      "0: 256x416 3 persons, 21.9ms\n",
      "Speed: 0.7ms preprocess, 21.9ms inference, 0.4ms postprocess per image at shape (1, 3, 256, 416)\n",
      "\n",
      "0: 256x416 3 persons, 20.7ms\n",
      "Speed: 0.8ms preprocess, 20.7ms inference, 0.3ms postprocess per image at shape (1, 3, 256, 416)\n",
      "\n"
     ]
    },
    {
     "name": "stdout",
     "output_type": "stream",
     "text": [
      "id :  None\n",
      "id :  None\n",
      "id :  None\n",
      "id :  None\n",
      "id :  None\n"
     ]
    },
    {
     "name": "stderr",
     "output_type": "stream",
     "text": [
      "0: 256x416 3 persons, 20.4ms\n",
      "Speed: 0.6ms preprocess, 20.4ms inference, 0.6ms postprocess per image at shape (1, 3, 256, 416)\n",
      "\n",
      "0: 256x416 3 persons, 21.8ms\n",
      "Speed: 0.9ms preprocess, 21.8ms inference, 0.3ms postprocess per image at shape (1, 3, 256, 416)\n",
      "\n",
      "0: 256x416 3 persons, 20.4ms\n",
      "Speed: 0.7ms preprocess, 20.4ms inference, 0.3ms postprocess per image at shape (1, 3, 256, 416)\n",
      "\n",
      "0: 256x416 3 persons, 20.3ms\n",
      "Speed: 0.6ms preprocess, 20.3ms inference, 0.3ms postprocess per image at shape (1, 3, 256, 416)\n",
      "\n",
      "0: 256x416 2 persons, 20.6ms\n",
      "Speed: 0.9ms preprocess, 20.6ms inference, 0.3ms postprocess per image at shape (1, 3, 256, 416)\n",
      "\n",
      "0: 256x416 3 persons, 21.1ms\n",
      "Speed: 0.8ms preprocess, 21.1ms inference, 0.3ms postprocess per image at shape (1, 3, 256, 416)\n"
     ]
    },
    {
     "name": "stdout",
     "output_type": "stream",
     "text": [
      "id :  None\n",
      "id :  None\n",
      "id :  None\n",
      "id :  None\n",
      "id :  None\n",
      "id :  None\n"
     ]
    },
    {
     "name": "stderr",
     "output_type": "stream",
     "text": [
      "\n",
      "0: 256x416 3 persons, 36.0ms\n",
      "Speed: 0.7ms preprocess, 36.0ms inference, 0.3ms postprocess per image at shape (1, 3, 256, 416)\n",
      "\n",
      "0: 256x416 3 persons, 21.3ms\n",
      "Speed: 0.7ms preprocess, 21.3ms inference, 0.3ms postprocess per image at shape (1, 3, 256, 416)\n",
      "\n",
      "0: 256x416 3 persons, 21.4ms\n",
      "Speed: 0.8ms preprocess, 21.4ms inference, 0.5ms postprocess per image at shape (1, 3, 256, 416)\n",
      "\n",
      "0: 256x416 3 persons, 21.8ms\n",
      "Speed: 0.7ms preprocess, 21.8ms inference, 0.3ms postprocess per image at shape (1, 3, 256, 416)\n",
      "\n",
      "0: 256x416 3 persons, 22.3ms\n",
      "Speed: 0.8ms preprocess, 22.3ms inference, 0.3ms postprocess per image at shape (1, 3, 256, 416)\n",
      "\n"
     ]
    },
    {
     "name": "stdout",
     "output_type": "stream",
     "text": [
      "id :  None\n",
      "id :  None\n",
      "id :  None\n",
      "id :  None\n",
      "id :  None\n"
     ]
    },
    {
     "name": "stderr",
     "output_type": "stream",
     "text": [
      "0: 256x416 3 persons, 23.9ms\n",
      "Speed: 1.1ms preprocess, 23.9ms inference, 0.3ms postprocess per image at shape (1, 3, 256, 416)\n",
      "\n",
      "0: 256x416 6 persons, 20.8ms\n",
      "Speed: 0.7ms preprocess, 20.8ms inference, 0.3ms postprocess per image at shape (1, 3, 256, 416)\n",
      "\n",
      "0: 256x416 4 persons, 21.8ms\n",
      "Speed: 1.2ms preprocess, 21.8ms inference, 0.3ms postprocess per image at shape (1, 3, 256, 416)\n",
      "\n",
      "0: 256x416 3 persons, 20.7ms\n",
      "Speed: 0.7ms preprocess, 20.7ms inference, 0.3ms postprocess per image at shape (1, 3, 256, 416)\n",
      "\n",
      "0: 256x416 3 persons, 23.6ms\n",
      "Speed: 0.8ms preprocess, 23.6ms inference, 0.3ms postprocess per image at shape (1, 3, 256, 416)\n",
      "\n"
     ]
    },
    {
     "name": "stdout",
     "output_type": "stream",
     "text": [
      "id :  None\n",
      "id :  None\n",
      "flag2\n",
      "id :  None\n",
      "id :  None\n",
      "id :  None\n"
     ]
    },
    {
     "name": "stderr",
     "output_type": "stream",
     "text": [
      "0: 256x416 3 persons, 21.8ms\n",
      "Speed: 0.8ms preprocess, 21.8ms inference, 0.3ms postprocess per image at shape (1, 3, 256, 416)\n",
      "\n",
      "0: 256x416 3 persons, 22.5ms\n",
      "Speed: 0.7ms preprocess, 22.5ms inference, 0.4ms postprocess per image at shape (1, 3, 256, 416)\n",
      "\n",
      "0: 256x416 3 persons, 21.3ms\n",
      "Speed: 0.7ms preprocess, 21.3ms inference, 0.4ms postprocess per image at shape (1, 3, 256, 416)\n",
      "\n",
      "0: 256x416 4 persons, 21.8ms\n",
      "Speed: 0.9ms preprocess, 21.8ms inference, 0.3ms postprocess per image at shape (1, 3, 256, 416)\n",
      "\n",
      "0: 256x416 3 persons, 22.8ms\n",
      "Speed: 0.9ms preprocess, 22.8ms inference, 0.3ms postprocess per image at shape (1, 3, 256, 416)\n",
      "\n"
     ]
    },
    {
     "name": "stdout",
     "output_type": "stream",
     "text": [
      "id :  None\n",
      "id :  None\n",
      "id :  None\n",
      "id :  None\n",
      "id :  None\n"
     ]
    },
    {
     "name": "stderr",
     "output_type": "stream",
     "text": [
      "0: 256x416 3 persons, 21.2ms\n",
      "Speed: 0.7ms preprocess, 21.2ms inference, 0.3ms postprocess per image at shape (1, 3, 256, 416)\n",
      "\n",
      "0: 256x416 3 persons, 21.8ms\n",
      "Speed: 1.0ms preprocess, 21.8ms inference, 0.3ms postprocess per image at shape (1, 3, 256, 416)\n",
      "\n",
      "0: 256x416 2 persons, 22.2ms\n",
      "Speed: 0.7ms preprocess, 22.2ms inference, 0.3ms postprocess per image at shape (1, 3, 256, 416)\n",
      "\n",
      "0: 256x416 2 persons, 25.1ms\n",
      "Speed: 0.9ms preprocess, 25.1ms inference, 0.3ms postprocess per image at shape (1, 3, 256, 416)\n",
      "\n",
      "0: 256x416 2 persons, 21.6ms\n",
      "Speed: 0.7ms preprocess, 21.6ms inference, 0.3ms postprocess per image at shape (1, 3, 256, 416)\n",
      "\n"
     ]
    },
    {
     "name": "stdout",
     "output_type": "stream",
     "text": [
      "id :  None\n",
      "id :  None\n",
      "id :  None\n",
      "id :  None\n",
      "id :  None\n"
     ]
    },
    {
     "name": "stderr",
     "output_type": "stream",
     "text": [
      "0: 256x416 3 persons, 21.4ms\n",
      "Speed: 1.1ms preprocess, 21.4ms inference, 0.3ms postprocess per image at shape (1, 3, 256, 416)\n",
      "\n",
      "0: 256x416 3 persons, 29.4ms\n",
      "Speed: 0.7ms preprocess, 29.4ms inference, 0.5ms postprocess per image at shape (1, 3, 256, 416)\n",
      "\n",
      "0: 256x416 3 persons, 21.2ms\n",
      "Speed: 0.8ms preprocess, 21.2ms inference, 0.3ms postprocess per image at shape (1, 3, 256, 416)\n",
      "\n",
      "0: 256x416 3 persons, 23.3ms\n",
      "Speed: 0.9ms preprocess, 23.3ms inference, 0.3ms postprocess per image at shape (1, 3, 256, 416)\n",
      "\n",
      "0: 256x416 2 persons, 21.4ms\n",
      "Speed: 0.6ms preprocess, 21.4ms inference, 0.3ms postprocess per image at shape (1, 3, 256, 416)\n",
      "\n"
     ]
    },
    {
     "name": "stdout",
     "output_type": "stream",
     "text": [
      "id :  None\n",
      "id :  None\n",
      "id :  None\n",
      "id :  None\n",
      "id :  None\n"
     ]
    },
    {
     "name": "stderr",
     "output_type": "stream",
     "text": [
      "0: 256x416 2 persons, 22.6ms\n",
      "Speed: 0.8ms preprocess, 22.6ms inference, 0.3ms postprocess per image at shape (1, 3, 256, 416)\n",
      "\n",
      "0: 256x416 5 persons, 21.7ms\n",
      "Speed: 0.9ms preprocess, 21.7ms inference, 0.3ms postprocess per image at shape (1, 3, 256, 416)\n",
      "\n",
      "0: 256x416 2 persons, 21.2ms\n",
      "Speed: 0.7ms preprocess, 21.2ms inference, 0.3ms postprocess per image at shape (1, 3, 256, 416)\n",
      "\n",
      "0: 256x416 3 persons, 21.7ms\n",
      "Speed: 0.7ms preprocess, 21.7ms inference, 0.3ms postprocess per image at shape (1, 3, 256, 416)\n",
      "\n",
      "0: 256x416 2 persons, 21.8ms\n",
      "Speed: 0.7ms preprocess, 21.8ms inference, 0.3ms postprocess per image at shape (1, 3, 256, 416)\n",
      "\n"
     ]
    },
    {
     "name": "stdout",
     "output_type": "stream",
     "text": [
      "id :  None\n",
      "id :  None\n",
      "flag2\n",
      "id :  None\n",
      "id :  None\n",
      "id :  None\n"
     ]
    },
    {
     "name": "stderr",
     "output_type": "stream",
     "text": [
      "0: 256x416 2 persons, 21.3ms\n",
      "Speed: 1.0ms preprocess, 21.3ms inference, 0.3ms postprocess per image at shape (1, 3, 256, 416)\n",
      "\n",
      "0: 256x416 2 persons, 39.8ms\n",
      "Speed: 2.0ms preprocess, 39.8ms inference, 0.3ms postprocess per image at shape (1, 3, 256, 416)\n",
      "\n",
      "0: 256x416 4 persons, 21.3ms\n",
      "Speed: 0.7ms preprocess, 21.3ms inference, 0.3ms postprocess per image at shape (1, 3, 256, 416)\n",
      "\n",
      "0: 256x416 3 persons, 21.4ms\n",
      "Speed: 0.7ms preprocess, 21.4ms inference, 0.3ms postprocess per image at shape (1, 3, 256, 416)\n",
      "\n",
      "0: 256x416 3 persons, 23.1ms\n",
      "Speed: 0.7ms preprocess, 23.1ms inference, 0.3ms postprocess per image at shape (1, 3, 256, 416)\n",
      "\n"
     ]
    },
    {
     "name": "stdout",
     "output_type": "stream",
     "text": [
      "id :  None\n",
      "id :  None\n",
      "id :  None\n",
      "id :  None\n",
      "id :  None\n"
     ]
    },
    {
     "name": "stderr",
     "output_type": "stream",
     "text": [
      "0: 256x416 4 persons, 21.2ms\n",
      "Speed: 0.7ms preprocess, 21.2ms inference, 0.3ms postprocess per image at shape (1, 3, 256, 416)\n",
      "\n",
      "0: 256x416 8 persons, 22.9ms\n",
      "Speed: 0.7ms preprocess, 22.9ms inference, 0.3ms postprocess per image at shape (1, 3, 256, 416)\n",
      "\n",
      "0: 256x416 7 persons, 20.9ms\n",
      "Speed: 0.8ms preprocess, 20.9ms inference, 0.3ms postprocess per image at shape (1, 3, 256, 416)\n",
      "\n",
      "0: 256x416 4 persons, 21.8ms\n",
      "Speed: 0.6ms preprocess, 21.8ms inference, 0.5ms postprocess per image at shape (1, 3, 256, 416)\n",
      "\n",
      "0: 256x416 7 persons, 20.9ms\n",
      "Speed: 0.8ms preprocess, 20.9ms inference, 0.3ms postprocess per image at shape (1, 3, 256, 416)\n",
      "\n"
     ]
    },
    {
     "name": "stdout",
     "output_type": "stream",
     "text": [
      "id :  None\n",
      "id :  None\n",
      "flag2\n",
      "id :  None\n",
      "flag2\n",
      "id :  None\n",
      "id :  None\n",
      "flag2\n"
     ]
    },
    {
     "name": "stderr",
     "output_type": "stream",
     "text": [
      "0: 256x416 5 persons, 20.8ms\n",
      "Speed: 0.7ms preprocess, 20.8ms inference, 0.3ms postprocess per image at shape (1, 3, 256, 416)\n",
      "\n",
      "0: 256x416 4 persons, 24.4ms\n",
      "Speed: 0.7ms preprocess, 24.4ms inference, 0.3ms postprocess per image at shape (1, 3, 256, 416)\n",
      "\n",
      "0: 256x416 6 persons, 21.1ms\n",
      "Speed: 0.7ms preprocess, 21.1ms inference, 0.3ms postprocess per image at shape (1, 3, 256, 416)\n",
      "\n",
      "0: 256x416 4 persons, 22.5ms\n",
      "Speed: 1.0ms preprocess, 22.5ms inference, 0.3ms postprocess per image at shape (1, 3, 256, 416)\n",
      "\n",
      "0: 256x416 3 persons, 21.1ms\n",
      "Speed: 0.6ms preprocess, 21.1ms inference, 0.3ms postprocess per image at shape (1, 3, 256, 416)\n",
      "\n"
     ]
    },
    {
     "name": "stdout",
     "output_type": "stream",
     "text": [
      "id :  None\n",
      "flag2\n",
      "id :  None\n",
      "id :  None\n",
      "flag2\n",
      "id :  None\n",
      "id :  None\n"
     ]
    },
    {
     "name": "stderr",
     "output_type": "stream",
     "text": [
      "0: 256x416 2 persons, 22.5ms\n",
      "Speed: 0.7ms preprocess, 22.5ms inference, 0.3ms postprocess per image at shape (1, 3, 256, 416)\n",
      "\n",
      "0: 256x416 3 persons, 21.8ms\n",
      "Speed: 0.8ms preprocess, 21.8ms inference, 0.3ms postprocess per image at shape (1, 3, 256, 416)\n",
      "\n",
      "0: 256x416 3 persons, 22.5ms\n",
      "Speed: 0.7ms preprocess, 22.5ms inference, 0.4ms postprocess per image at shape (1, 3, 256, 416)\n",
      "\n",
      "0: 256x416 3 persons, 21.9ms\n",
      "Speed: 0.7ms preprocess, 21.9ms inference, 0.3ms postprocess per image at shape (1, 3, 256, 416)\n",
      "\n",
      "0: 256x416 3 persons, 21.6ms\n",
      "Speed: 0.7ms preprocess, 21.6ms inference, 0.3ms postprocess per image at shape (1, 3, 256, 416)\n",
      "\n"
     ]
    },
    {
     "name": "stdout",
     "output_type": "stream",
     "text": [
      "id :  None\n",
      "id :  None\n",
      "id :  None\n",
      "id :  None\n",
      "id :  None\n"
     ]
    },
    {
     "name": "stderr",
     "output_type": "stream",
     "text": [
      "0: 256x416 4 persons, 22.6ms\n",
      "Speed: 0.9ms preprocess, 22.6ms inference, 0.3ms postprocess per image at shape (1, 3, 256, 416)\n",
      "\n",
      "0: 256x416 3 persons, 21.3ms\n",
      "Speed: 0.8ms preprocess, 21.3ms inference, 0.3ms postprocess per image at shape (1, 3, 256, 416)\n",
      "\n",
      "0: 256x416 4 persons, 22.6ms\n",
      "Speed: 1.1ms preprocess, 22.6ms inference, 0.3ms postprocess per image at shape (1, 3, 256, 416)\n",
      "\n",
      "0: 256x416 3 persons, 20.8ms\n",
      "Speed: 0.7ms preprocess, 20.8ms inference, 0.3ms postprocess per image at shape (1, 3, 256, 416)\n",
      "\n",
      "0: 256x416 3 persons, 22.1ms\n",
      "Speed: 0.9ms preprocess, 22.1ms inference, 0.3ms postprocess per image at shape (1, 3, 256, 416)\n",
      "\n"
     ]
    },
    {
     "name": "stdout",
     "output_type": "stream",
     "text": [
      "id :  None\n",
      "id :  None\n",
      "id :  None\n",
      "id :  None\n",
      "id :  None\n"
     ]
    },
    {
     "name": "stderr",
     "output_type": "stream",
     "text": [
      "0: 256x416 3 persons, 21.8ms\n",
      "Speed: 0.7ms preprocess, 21.8ms inference, 0.3ms postprocess per image at shape (1, 3, 256, 416)\n",
      "\n",
      "0: 256x416 2 persons, 23.5ms\n",
      "Speed: 0.8ms preprocess, 23.5ms inference, 0.3ms postprocess per image at shape (1, 3, 256, 416)\n",
      "\n",
      "0: 256x416 3 persons, 21.1ms\n",
      "Speed: 0.7ms preprocess, 21.1ms inference, 0.3ms postprocess per image at shape (1, 3, 256, 416)\n",
      "\n",
      "0: 256x416 4 persons, 22.7ms\n",
      "Speed: 0.7ms preprocess, 22.7ms inference, 0.4ms postprocess per image at shape (1, 3, 256, 416)\n",
      "\n",
      "0: 256x416 3 persons, 21.4ms\n",
      "Speed: 0.8ms preprocess, 21.4ms inference, 0.3ms postprocess per image at shape (1, 3, 256, 416)\n",
      "\n"
     ]
    },
    {
     "name": "stdout",
     "output_type": "stream",
     "text": [
      "id :  None\n",
      "id :  None\n",
      "id :  None\n",
      "id :  None\n",
      "id :  None\n"
     ]
    },
    {
     "name": "stderr",
     "output_type": "stream",
     "text": [
      "0: 256x416 3 persons, 21.3ms\n",
      "Speed: 0.7ms preprocess, 21.3ms inference, 0.3ms postprocess per image at shape (1, 3, 256, 416)\n",
      "\n",
      "0: 256x416 3 persons, 22.9ms\n",
      "Speed: 1.1ms preprocess, 22.9ms inference, 0.3ms postprocess per image at shape (1, 3, 256, 416)\n",
      "\n",
      "0: 256x416 4 persons, 21.3ms\n",
      "Speed: 0.6ms preprocess, 21.3ms inference, 0.3ms postprocess per image at shape (1, 3, 256, 416)\n",
      "\n",
      "0: 256x416 4 persons, 22.7ms\n",
      "Speed: 0.9ms preprocess, 22.7ms inference, 0.3ms postprocess per image at shape (1, 3, 256, 416)\n",
      "\n",
      "0: 256x416 5 persons, 21.5ms\n",
      "Speed: 0.7ms preprocess, 21.5ms inference, 0.3ms postprocess per image at shape (1, 3, 256, 416)\n",
      "\n"
     ]
    },
    {
     "name": "stdout",
     "output_type": "stream",
     "text": [
      "id :  None\n",
      "id :  None\n",
      "id :  None\n",
      "id :  None\n",
      "id :  None\n",
      "flag2\n"
     ]
    },
    {
     "name": "stderr",
     "output_type": "stream",
     "text": [
      "0: 256x416 3 persons, 22.6ms\n",
      "Speed: 0.7ms preprocess, 22.6ms inference, 0.3ms postprocess per image at shape (1, 3, 256, 416)\n",
      "\n",
      "0: 256x416 3 persons, 21.5ms\n",
      "Speed: 0.9ms preprocess, 21.5ms inference, 0.3ms postprocess per image at shape (1, 3, 256, 416)\n",
      "\n",
      "0: 256x416 3 persons, 21.9ms\n",
      "Speed: 0.6ms preprocess, 21.9ms inference, 0.3ms postprocess per image at shape (1, 3, 256, 416)\n",
      "\n",
      "0: 256x416 3 persons, 22.1ms\n",
      "Speed: 0.7ms preprocess, 22.1ms inference, 0.3ms postprocess per image at shape (1, 3, 256, 416)\n",
      "\n",
      "0: 256x416 3 persons, 21.4ms\n",
      "Speed: 0.8ms preprocess, 21.4ms inference, 0.3ms postprocess per image at shape (1, 3, 256, 416)\n",
      "\n"
     ]
    },
    {
     "name": "stdout",
     "output_type": "stream",
     "text": [
      "id :  None\n",
      "id :  None\n",
      "id :  None\n",
      "id :  None\n",
      "id :  None\n"
     ]
    },
    {
     "name": "stderr",
     "output_type": "stream",
     "text": [
      "0: 256x416 3 persons, 22.1ms\n",
      "Speed: 0.8ms preprocess, 22.1ms inference, 0.3ms postprocess per image at shape (1, 3, 256, 416)\n",
      "\n",
      "0: 256x416 3 persons, 43.8ms\n",
      "Speed: 1.3ms preprocess, 43.8ms inference, 0.5ms postprocess per image at shape (1, 3, 256, 416)\n",
      "\n",
      "0: 256x416 4 persons, 22.2ms\n",
      "Speed: 0.6ms preprocess, 22.2ms inference, 0.3ms postprocess per image at shape (1, 3, 256, 416)\n",
      "\n",
      "0: 256x416 3 persons, 22.5ms\n",
      "Speed: 0.8ms preprocess, 22.5ms inference, 0.4ms postprocess per image at shape (1, 3, 256, 416)\n",
      "\n",
      "0: 256x416 3 persons, 21.2ms\n",
      "Speed: 0.6ms preprocess, 21.2ms inference, 0.3ms postprocess per image at shape (1, 3, 256, 416)\n"
     ]
    },
    {
     "name": "stdout",
     "output_type": "stream",
     "text": [
      "id :  None\n",
      "id :  None\n",
      "id :  None\n",
      "id :  None\n",
      "id :  None\n"
     ]
    },
    {
     "name": "stderr",
     "output_type": "stream",
     "text": [
      "\n",
      "0: 256x416 3 persons, 23.1ms\n",
      "Speed: 0.7ms preprocess, 23.1ms inference, 0.3ms postprocess per image at shape (1, 3, 256, 416)\n",
      "\n",
      "0: 256x416 3 persons, 21.5ms\n",
      "Speed: 0.7ms preprocess, 21.5ms inference, 0.3ms postprocess per image at shape (1, 3, 256, 416)\n",
      "\n",
      "0: 256x416 3 persons, 21.8ms\n",
      "Speed: 0.7ms preprocess, 21.8ms inference, 0.3ms postprocess per image at shape (1, 3, 256, 416)\n",
      "\n",
      "0: 256x416 5 persons, 21.0ms\n",
      "Speed: 0.8ms preprocess, 21.0ms inference, 0.3ms postprocess per image at shape (1, 3, 256, 416)\n",
      "\n",
      "0: 256x416 5 persons, 20.6ms\n",
      "Speed: 0.8ms preprocess, 20.6ms inference, 0.3ms postprocess per image at shape (1, 3, 256, 416)\n",
      "\n"
     ]
    },
    {
     "name": "stdout",
     "output_type": "stream",
     "text": [
      "id :  None\n",
      "id :  None\n",
      "id :  None\n",
      "id :  None\n",
      "flag2\n",
      "id :  None\n",
      "flag2\n"
     ]
    },
    {
     "name": "stderr",
     "output_type": "stream",
     "text": [
      "0: 256x416 6 persons, 22.6ms\n",
      "Speed: 0.8ms preprocess, 22.6ms inference, 0.3ms postprocess per image at shape (1, 3, 256, 416)\n",
      "\n",
      "0: 256x416 4 persons, 21.3ms\n",
      "Speed: 0.7ms preprocess, 21.3ms inference, 0.3ms postprocess per image at shape (1, 3, 256, 416)\n",
      "\n",
      "0: 256x416 3 persons, 22.5ms\n",
      "Speed: 1.2ms preprocess, 22.5ms inference, 0.3ms postprocess per image at shape (1, 3, 256, 416)\n",
      "\n",
      "0: 256x416 3 persons, 21.6ms\n",
      "Speed: 0.6ms preprocess, 21.6ms inference, 0.3ms postprocess per image at shape (1, 3, 256, 416)\n",
      "\n",
      "0: 256x416 3 persons, 22.7ms\n",
      "Speed: 0.7ms preprocess, 22.7ms inference, 0.3ms postprocess per image at shape (1, 3, 256, 416)\n",
      "\n"
     ]
    },
    {
     "name": "stdout",
     "output_type": "stream",
     "text": [
      "id :  None\n",
      "flag2\n",
      "id :  None\n",
      "id :  None\n",
      "id :  None\n",
      "id :  None\n"
     ]
    },
    {
     "name": "stderr",
     "output_type": "stream",
     "text": [
      "0: 256x416 2 persons, 21.5ms\n",
      "Speed: 0.8ms preprocess, 21.5ms inference, 0.3ms postprocess per image at shape (1, 3, 256, 416)\n",
      "\n",
      "0: 256x416 4 persons, 21.5ms\n",
      "Speed: 0.7ms preprocess, 21.5ms inference, 0.4ms postprocess per image at shape (1, 3, 256, 416)\n",
      "\n",
      "0: 256x416 3 persons, 21.5ms\n",
      "Speed: 0.9ms preprocess, 21.5ms inference, 0.3ms postprocess per image at shape (1, 3, 256, 416)\n",
      "\n",
      "0: 256x416 4 persons, 22.1ms\n",
      "Speed: 0.7ms preprocess, 22.1ms inference, 0.4ms postprocess per image at shape (1, 3, 256, 416)\n",
      "\n",
      "0: 256x416 3 persons, 21.2ms\n",
      "Speed: 0.8ms preprocess, 21.2ms inference, 0.3ms postprocess per image at shape (1, 3, 256, 416)\n",
      "\n"
     ]
    },
    {
     "name": "stdout",
     "output_type": "stream",
     "text": [
      "id :  None\n",
      "id :  None\n",
      "id :  None\n",
      "id :  None\n",
      "id :  None\n"
     ]
    },
    {
     "name": "stderr",
     "output_type": "stream",
     "text": [
      "0: 256x416 4 persons, 21.1ms\n",
      "Speed: 0.7ms preprocess, 21.1ms inference, 0.3ms postprocess per image at shape (1, 3, 256, 416)\n",
      "\n",
      "0: 256x416 4 persons, 24.8ms\n",
      "Speed: 1.0ms preprocess, 24.8ms inference, 0.3ms postprocess per image at shape (1, 3, 256, 416)\n",
      "\n",
      "0: 256x416 3 persons, 21.6ms\n",
      "Speed: 0.7ms preprocess, 21.6ms inference, 0.3ms postprocess per image at shape (1, 3, 256, 416)\n",
      "\n",
      "0: 256x416 3 persons, 22.8ms\n",
      "Speed: 1.2ms preprocess, 22.8ms inference, 0.3ms postprocess per image at shape (1, 3, 256, 416)\n",
      "\n",
      "0: 256x416 4 persons, 21.3ms\n",
      "Speed: 0.8ms preprocess, 21.3ms inference, 0.3ms postprocess per image at shape (1, 3, 256, 416)\n",
      "\n"
     ]
    },
    {
     "name": "stdout",
     "output_type": "stream",
     "text": [
      "id :  None\n",
      "id :  None\n",
      "id :  None\n",
      "id :  None\n",
      "id :  None\n"
     ]
    },
    {
     "name": "stderr",
     "output_type": "stream",
     "text": [
      "0: 256x416 4 persons, 23.8ms\n",
      "Speed: 0.8ms preprocess, 23.8ms inference, 0.3ms postprocess per image at shape (1, 3, 256, 416)\n",
      "\n",
      "0: 256x416 5 persons, 22.1ms\n",
      "Speed: 0.8ms preprocess, 22.1ms inference, 0.3ms postprocess per image at shape (1, 3, 256, 416)\n",
      "\n",
      "0: 256x416 5 persons, 22.4ms\n",
      "Speed: 1.1ms preprocess, 22.4ms inference, 0.3ms postprocess per image at shape (1, 3, 256, 416)\n",
      "\n",
      "0: 256x416 3 persons, 20.7ms\n",
      "Speed: 0.8ms preprocess, 20.7ms inference, 0.3ms postprocess per image at shape (1, 3, 256, 416)\n",
      "\n",
      "0: 256x416 3 persons, 23.2ms\n",
      "Speed: 0.6ms preprocess, 23.2ms inference, 0.3ms postprocess per image at shape (1, 3, 256, 416)\n",
      "\n"
     ]
    },
    {
     "name": "stdout",
     "output_type": "stream",
     "text": [
      "id :  None\n",
      "id :  None\n",
      "flag2\n",
      "id :  None\n",
      "flag2\n",
      "id :  None\n",
      "id :  None\n"
     ]
    },
    {
     "name": "stderr",
     "output_type": "stream",
     "text": [
      "0: 256x416 3 persons, 21.9ms\n",
      "Speed: 0.6ms preprocess, 21.9ms inference, 0.3ms postprocess per image at shape (1, 3, 256, 416)\n",
      "\n",
      "0: 256x416 3 persons, 22.2ms\n",
      "Speed: 0.7ms preprocess, 22.2ms inference, 0.4ms postprocess per image at shape (1, 3, 256, 416)\n",
      "\n",
      "0: 256x416 3 persons, 21.3ms\n",
      "Speed: 0.7ms preprocess, 21.3ms inference, 0.3ms postprocess per image at shape (1, 3, 256, 416)\n",
      "\n",
      "0: 256x416 3 persons, 21.9ms\n",
      "Speed: 0.6ms preprocess, 21.9ms inference, 0.4ms postprocess per image at shape (1, 3, 256, 416)\n",
      "\n",
      "0: 256x416 3 persons, 21.3ms\n",
      "Speed: 1.1ms preprocess, 21.3ms inference, 0.3ms postprocess per image at shape (1, 3, 256, 416)\n",
      "\n"
     ]
    },
    {
     "name": "stdout",
     "output_type": "stream",
     "text": [
      "id :  None\n",
      "id :  None\n",
      "id :  None\n",
      "id :  None\n",
      "id :  None\n"
     ]
    },
    {
     "name": "stderr",
     "output_type": "stream",
     "text": [
      "0: 256x416 3 persons, 21.4ms\n",
      "Speed: 0.8ms preprocess, 21.4ms inference, 0.3ms postprocess per image at shape (1, 3, 256, 416)\n",
      "\n",
      "0: 256x416 3 persons, 23.6ms\n",
      "Speed: 0.8ms preprocess, 23.6ms inference, 0.4ms postprocess per image at shape (1, 3, 256, 416)\n",
      "\n",
      "0: 256x416 4 persons, 22.5ms\n",
      "Speed: 0.8ms preprocess, 22.5ms inference, 0.3ms postprocess per image at shape (1, 3, 256, 416)\n",
      "\n",
      "0: 256x416 4 persons, 23.3ms\n",
      "Speed: 0.8ms preprocess, 23.3ms inference, 0.3ms postprocess per image at shape (1, 3, 256, 416)\n",
      "\n",
      "0: 256x416 3 persons, 21.5ms\n",
      "Speed: 0.8ms preprocess, 21.5ms inference, 0.4ms postprocess per image at shape (1, 3, 256, 416)\n",
      "\n"
     ]
    },
    {
     "name": "stdout",
     "output_type": "stream",
     "text": [
      "id :  None\n",
      "id :  None\n",
      "id :  None\n",
      "id :  None\n",
      "id :  None\n"
     ]
    },
    {
     "name": "stderr",
     "output_type": "stream",
     "text": [
      "0: 256x416 3 persons, 24.1ms\n",
      "Speed: 0.8ms preprocess, 24.1ms inference, 0.3ms postprocess per image at shape (1, 3, 256, 416)\n",
      "\n",
      "0: 256x416 4 persons, 21.2ms\n",
      "Speed: 0.7ms preprocess, 21.2ms inference, 0.3ms postprocess per image at shape (1, 3, 256, 416)\n",
      "\n",
      "0: 256x416 3 persons, 44.0ms\n",
      "Speed: 0.9ms preprocess, 44.0ms inference, 0.3ms postprocess per image at shape (1, 3, 256, 416)\n",
      "\n",
      "0: 256x416 3 persons, 21.4ms\n",
      "Speed: 0.8ms preprocess, 21.4ms inference, 0.3ms postprocess per image at shape (1, 3, 256, 416)\n",
      "\n",
      "0: 256x416 3 persons, 22.2ms\n",
      "Speed: 0.9ms preprocess, 22.2ms inference, 0.3ms postprocess per image at shape (1, 3, 256, 416)\n"
     ]
    },
    {
     "name": "stdout",
     "output_type": "stream",
     "text": [
      "id :  None\n",
      "id :  None\n",
      "id :  None\n",
      "id :  None\n",
      "id :  None\n"
     ]
    },
    {
     "name": "stderr",
     "output_type": "stream",
     "text": [
      "\n",
      "0: 256x416 3 persons, 21.6ms\n",
      "Speed: 0.7ms preprocess, 21.6ms inference, 0.4ms postprocess per image at shape (1, 3, 256, 416)\n",
      "\n",
      "0: 256x416 2 persons, 22.2ms\n",
      "Speed: 1.2ms preprocess, 22.2ms inference, 0.3ms postprocess per image at shape (1, 3, 256, 416)\n",
      "\n",
      "0: 256x416 3 persons, 21.3ms\n",
      "Speed: 0.7ms preprocess, 21.3ms inference, 0.3ms postprocess per image at shape (1, 3, 256, 416)\n",
      "\n",
      "0: 256x416 3 persons, 22.1ms\n",
      "Speed: 0.7ms preprocess, 22.1ms inference, 0.3ms postprocess per image at shape (1, 3, 256, 416)\n",
      "\n",
      "0: 256x416 2 persons, 22.0ms\n",
      "Speed: 0.7ms preprocess, 22.0ms inference, 0.4ms postprocess per image at shape (1, 3, 256, 416)\n",
      "\n"
     ]
    },
    {
     "name": "stdout",
     "output_type": "stream",
     "text": [
      "id :  None\n",
      "id :  None\n",
      "id :  None\n",
      "id :  None\n",
      "id :  None\n"
     ]
    },
    {
     "name": "stderr",
     "output_type": "stream",
     "text": [
      "0: 256x416 2 persons, 22.4ms\n",
      "Speed: 0.7ms preprocess, 22.4ms inference, 0.3ms postprocess per image at shape (1, 3, 256, 416)\n",
      "\n",
      "0: 256x416 2 persons, 34.8ms\n",
      "Speed: 2.6ms preprocess, 34.8ms inference, 0.3ms postprocess per image at shape (1, 3, 256, 416)\n",
      "\n",
      "0: 256x416 3 persons, 21.2ms\n",
      "Speed: 0.8ms preprocess, 21.2ms inference, 0.3ms postprocess per image at shape (1, 3, 256, 416)\n",
      "\n",
      "0: 256x416 2 persons, 23.4ms\n",
      "Speed: 0.9ms preprocess, 23.4ms inference, 0.3ms postprocess per image at shape (1, 3, 256, 416)\n",
      "\n",
      "0: 256x416 4 persons, 21.5ms\n",
      "Speed: 0.6ms preprocess, 21.5ms inference, 0.3ms postprocess per image at shape (1, 3, 256, 416)\n",
      "\n"
     ]
    },
    {
     "name": "stdout",
     "output_type": "stream",
     "text": [
      "id :  None\n",
      "id :  None\n",
      "id :  None\n",
      "id :  None\n",
      "id :  None\n"
     ]
    },
    {
     "name": "stderr",
     "output_type": "stream",
     "text": [
      "0: 256x416 3 persons, 23.8ms\n",
      "Speed: 0.8ms preprocess, 23.8ms inference, 0.5ms postprocess per image at shape (1, 3, 256, 416)\n",
      "\n",
      "0: 256x416 3 persons, 21.7ms\n",
      "Speed: 0.7ms preprocess, 21.7ms inference, 0.3ms postprocess per image at shape (1, 3, 256, 416)\n",
      "\n",
      "0: 256x416 2 persons, 22.6ms\n",
      "Speed: 0.7ms preprocess, 22.6ms inference, 0.3ms postprocess per image at shape (1, 3, 256, 416)\n",
      "\n",
      "0: 256x416 2 persons, 22.1ms\n",
      "Speed: 0.6ms preprocess, 22.1ms inference, 0.3ms postprocess per image at shape (1, 3, 256, 416)\n",
      "\n",
      "0: 256x416 2 persons, 22.9ms\n",
      "Speed: 0.7ms preprocess, 22.9ms inference, 0.4ms postprocess per image at shape (1, 3, 256, 416)\n",
      "\n"
     ]
    },
    {
     "name": "stdout",
     "output_type": "stream",
     "text": [
      "id :  None\n",
      "id :  None\n",
      "id :  None\n",
      "id :  None\n",
      "id :  None\n"
     ]
    },
    {
     "name": "stderr",
     "output_type": "stream",
     "text": [
      "0: 256x416 2 persons, 21.7ms\n",
      "Speed: 0.7ms preprocess, 21.7ms inference, 0.3ms postprocess per image at shape (1, 3, 256, 416)\n",
      "\n",
      "0: 256x416 2 persons, 21.7ms\n",
      "Speed: 0.7ms preprocess, 21.7ms inference, 0.3ms postprocess per image at shape (1, 3, 256, 416)\n",
      "\n",
      "0: 256x416 3 persons, 21.2ms\n",
      "Speed: 0.8ms preprocess, 21.2ms inference, 0.3ms postprocess per image at shape (1, 3, 256, 416)\n",
      "\n",
      "0: 256x416 2 persons, 21.1ms\n",
      "Speed: 0.7ms preprocess, 21.1ms inference, 0.3ms postprocess per image at shape (1, 3, 256, 416)\n",
      "\n",
      "0: 256x416 3 persons, 22.7ms\n",
      "Speed: 0.9ms preprocess, 22.7ms inference, 0.3ms postprocess per image at shape (1, 3, 256, 416)\n",
      "\n"
     ]
    },
    {
     "name": "stdout",
     "output_type": "stream",
     "text": [
      "id :  None\n",
      "id :  None\n",
      "id :  None\n",
      "id :  None\n",
      "id :  None\n"
     ]
    },
    {
     "name": "stderr",
     "output_type": "stream",
     "text": [
      "0: 256x416 2 persons, 21.8ms\n",
      "Speed: 0.6ms preprocess, 21.8ms inference, 0.3ms postprocess per image at shape (1, 3, 256, 416)\n",
      "\n",
      "0: 256x416 2 persons, 23.9ms\n",
      "Speed: 0.7ms preprocess, 23.9ms inference, 0.4ms postprocess per image at shape (1, 3, 256, 416)\n",
      "\n",
      "0: 256x416 2 persons, 21.3ms\n",
      "Speed: 0.7ms preprocess, 21.3ms inference, 0.3ms postprocess per image at shape (1, 3, 256, 416)\n",
      "\n",
      "0: 256x416 2 persons, 23.2ms\n",
      "Speed: 0.7ms preprocess, 23.2ms inference, 0.3ms postprocess per image at shape (1, 3, 256, 416)\n",
      "\n",
      "0: 256x416 2 persons, 21.4ms\n",
      "Speed: 0.8ms preprocess, 21.4ms inference, 0.3ms postprocess per image at shape (1, 3, 256, 416)\n",
      "\n"
     ]
    },
    {
     "name": "stdout",
     "output_type": "stream",
     "text": [
      "id :  None\n",
      "id :  None\n",
      "id :  None\n",
      "id :  None\n",
      "id :  None\n"
     ]
    },
    {
     "name": "stderr",
     "output_type": "stream",
     "text": [
      "0: 256x416 2 persons, 21.9ms\n",
      "Speed: 0.7ms preprocess, 21.9ms inference, 0.3ms postprocess per image at shape (1, 3, 256, 416)\n",
      "\n",
      "0: 256x416 2 persons, 22.5ms\n",
      "Speed: 1.0ms preprocess, 22.5ms inference, 0.3ms postprocess per image at shape (1, 3, 256, 416)\n",
      "\n",
      "0: 256x416 2 persons, 21.7ms\n",
      "Speed: 0.7ms preprocess, 21.7ms inference, 0.4ms postprocess per image at shape (1, 3, 256, 416)\n",
      "\n",
      "0: 256x416 2 persons, 22.3ms\n",
      "Speed: 1.2ms preprocess, 22.3ms inference, 0.3ms postprocess per image at shape (1, 3, 256, 416)\n",
      "\n",
      "0: 256x416 2 persons, 22.0ms\n",
      "Speed: 0.8ms preprocess, 22.0ms inference, 0.3ms postprocess per image at shape (1, 3, 256, 416)\n",
      "\n"
     ]
    },
    {
     "name": "stdout",
     "output_type": "stream",
     "text": [
      "id :  None\n",
      "id :  None\n",
      "id :  None\n",
      "id :  None\n",
      "id :  None\n"
     ]
    },
    {
     "name": "stderr",
     "output_type": "stream",
     "text": [
      "0: 256x416 2 persons, 22.1ms\n",
      "Speed: 0.9ms preprocess, 22.1ms inference, 0.3ms postprocess per image at shape (1, 3, 256, 416)\n",
      "\n",
      "0: 256x416 2 persons, 21.5ms\n",
      "Speed: 0.6ms preprocess, 21.5ms inference, 0.3ms postprocess per image at shape (1, 3, 256, 416)\n",
      "\n",
      "0: 256x416 2 persons, 22.9ms\n",
      "Speed: 1.1ms preprocess, 22.9ms inference, 0.3ms postprocess per image at shape (1, 3, 256, 416)\n",
      "\n",
      "0: 256x416 2 persons, 20.9ms\n",
      "Speed: 0.6ms preprocess, 20.9ms inference, 0.3ms postprocess per image at shape (1, 3, 256, 416)\n",
      "\n",
      "0: 256x416 2 persons, 24.2ms\n",
      "Speed: 0.8ms preprocess, 24.2ms inference, 0.3ms postprocess per image at shape (1, 3, 256, 416)\n",
      "\n"
     ]
    },
    {
     "name": "stdout",
     "output_type": "stream",
     "text": [
      "id :  None\n",
      "id :  None\n",
      "id :  None\n",
      "id :  None\n",
      "id :  None\n"
     ]
    },
    {
     "name": "stderr",
     "output_type": "stream",
     "text": [
      "0: 256x416 2 persons, 20.4ms\n",
      "Speed: 0.7ms preprocess, 20.4ms inference, 0.3ms postprocess per image at shape (1, 3, 256, 416)\n",
      "\n",
      "0: 256x416 2 persons, 23.9ms\n",
      "Speed: 0.8ms preprocess, 23.9ms inference, 0.3ms postprocess per image at shape (1, 3, 256, 416)\n",
      "\n",
      "0: 256x416 3 persons, 31.3ms\n",
      "Speed: 1.1ms preprocess, 31.3ms inference, 0.3ms postprocess per image at shape (1, 3, 256, 416)\n",
      "\n",
      "0: 256x416 2 persons, 22.1ms\n",
      "Speed: 0.7ms preprocess, 22.1ms inference, 0.3ms postprocess per image at shape (1, 3, 256, 416)\n",
      "\n",
      "0: 256x416 2 persons, 23.1ms\n",
      "Speed: 0.8ms preprocess, 23.1ms inference, 0.3ms postprocess per image at shape (1, 3, 256, 416)\n",
      "\n"
     ]
    },
    {
     "name": "stdout",
     "output_type": "stream",
     "text": [
      "id :  None\n",
      "id :  None\n",
      "id :  None\n",
      "id :  None\n",
      "id :  None\n"
     ]
    },
    {
     "name": "stderr",
     "output_type": "stream",
     "text": [
      "0: 256x416 2 persons, 23.0ms\n",
      "Speed: 0.7ms preprocess, 23.0ms inference, 0.3ms postprocess per image at shape (1, 3, 256, 416)\n",
      "\n",
      "0: 256x416 2 persons, 21.3ms\n",
      "Speed: 1.0ms preprocess, 21.3ms inference, 0.3ms postprocess per image at shape (1, 3, 256, 416)\n",
      "\n",
      "0: 256x416 2 persons, 22.2ms\n",
      "Speed: 0.7ms preprocess, 22.2ms inference, 0.3ms postprocess per image at shape (1, 3, 256, 416)\n",
      "\n",
      "0: 256x416 2 persons, 21.2ms\n",
      "Speed: 0.8ms preprocess, 21.2ms inference, 0.3ms postprocess per image at shape (1, 3, 256, 416)\n",
      "\n",
      "0: 256x416 2 persons, 21.1ms\n",
      "Speed: 0.7ms preprocess, 21.1ms inference, 0.3ms postprocess per image at shape (1, 3, 256, 416)\n",
      "\n"
     ]
    },
    {
     "name": "stdout",
     "output_type": "stream",
     "text": [
      "id :  None\n",
      "id :  None\n",
      "id :  None\n",
      "id :  None\n",
      "id :  None\n"
     ]
    },
    {
     "name": "stderr",
     "output_type": "stream",
     "text": [
      "0: 256x416 2 persons, 23.8ms\n",
      "Speed: 1.1ms preprocess, 23.8ms inference, 0.3ms postprocess per image at shape (1, 3, 256, 416)\n",
      "\n",
      "0: 256x416 2 persons, 21.8ms\n",
      "Speed: 0.7ms preprocess, 21.8ms inference, 0.3ms postprocess per image at shape (1, 3, 256, 416)\n",
      "\n",
      "0: 256x416 2 persons, 23.4ms\n",
      "Speed: 1.1ms preprocess, 23.4ms inference, 0.3ms postprocess per image at shape (1, 3, 256, 416)\n",
      "\n",
      "0: 256x416 2 persons, 21.9ms\n",
      "Speed: 0.8ms preprocess, 21.9ms inference, 0.3ms postprocess per image at shape (1, 3, 256, 416)\n",
      "\n",
      "0: 256x416 2 persons, 23.2ms\n",
      "Speed: 1.1ms preprocess, 23.2ms inference, 0.3ms postprocess per image at shape (1, 3, 256, 416)\n",
      "\n"
     ]
    },
    {
     "name": "stdout",
     "output_type": "stream",
     "text": [
      "id :  None\n",
      "id :  None\n",
      "id :  None\n",
      "id :  None\n",
      "id :  None\n"
     ]
    },
    {
     "name": "stderr",
     "output_type": "stream",
     "text": [
      "0: 256x416 2 persons, 21.6ms\n",
      "Speed: 0.7ms preprocess, 21.6ms inference, 0.3ms postprocess per image at shape (1, 3, 256, 416)\n",
      "\n",
      "0: 256x416 1 person, 23.0ms\n",
      "Speed: 1.1ms preprocess, 23.0ms inference, 0.3ms postprocess per image at shape (1, 3, 256, 416)\n",
      "\n",
      "0: 256x416 3 persons, 21.7ms\n",
      "Speed: 0.7ms preprocess, 21.7ms inference, 0.3ms postprocess per image at shape (1, 3, 256, 416)\n",
      "\n",
      "0: 256x416 3 persons, 22.8ms\n",
      "Speed: 1.1ms preprocess, 22.8ms inference, 0.3ms postprocess per image at shape (1, 3, 256, 416)\n",
      "\n",
      "0: 256x416 3 persons, 21.3ms\n",
      "Speed: 0.7ms preprocess, 21.3ms inference, 0.3ms postprocess per image at shape (1, 3, 256, 416)\n",
      "\n"
     ]
    },
    {
     "name": "stdout",
     "output_type": "stream",
     "text": [
      "id :  None\n",
      "id :  None\n",
      "id :  None\n",
      "id :  None\n",
      "id :  None\n"
     ]
    },
    {
     "name": "stderr",
     "output_type": "stream",
     "text": [
      "0: 256x416 3 persons, 23.0ms\n",
      "Speed: 0.9ms preprocess, 23.0ms inference, 0.3ms postprocess per image at shape (1, 3, 256, 416)\n",
      "\n",
      "0: 256x416 1 person, 20.9ms\n",
      "Speed: 0.7ms preprocess, 20.9ms inference, 0.3ms postprocess per image at shape (1, 3, 256, 416)\n",
      "\n",
      "0: 256x416 3 persons, 22.7ms\n",
      "Speed: 0.8ms preprocess, 22.7ms inference, 0.3ms postprocess per image at shape (1, 3, 256, 416)\n",
      "\n",
      "0: 256x416 1 person, 21.5ms\n",
      "Speed: 0.7ms preprocess, 21.5ms inference, 0.3ms postprocess per image at shape (1, 3, 256, 416)\n",
      "\n",
      "0: 256x416 1 person, 22.0ms\n",
      "Speed: 0.8ms preprocess, 22.0ms inference, 0.4ms postprocess per image at shape (1, 3, 256, 416)\n",
      "\n"
     ]
    },
    {
     "name": "stdout",
     "output_type": "stream",
     "text": [
      "id :  None\n",
      "id :  None\n",
      "id :  None\n",
      "id :  None\n",
      "id :  None\n"
     ]
    },
    {
     "name": "stderr",
     "output_type": "stream",
     "text": [
      "0: 256x416 1 person, 33.5ms\n",
      "Speed: 1.4ms preprocess, 33.5ms inference, 0.3ms postprocess per image at shape (1, 3, 256, 416)\n",
      "\n",
      "0: 256x416 2 persons, 21.5ms\n",
      "Speed: 0.7ms preprocess, 21.5ms inference, 0.3ms postprocess per image at shape (1, 3, 256, 416)\n",
      "\n",
      "0: 256x416 1 person, 23.0ms\n",
      "Speed: 0.8ms preprocess, 23.0ms inference, 0.3ms postprocess per image at shape (1, 3, 256, 416)\n",
      "\n",
      "0: 256x416 1 person, 21.0ms\n",
      "Speed: 0.6ms preprocess, 21.0ms inference, 0.3ms postprocess per image at shape (1, 3, 256, 416)\n",
      "\n",
      "0: 256x416 2 persons, 23.0ms\n",
      "Speed: 0.7ms preprocess, 23.0ms inference, 0.3ms postprocess per image at shape (1, 3, 256, 416)\n",
      "\n"
     ]
    },
    {
     "name": "stdout",
     "output_type": "stream",
     "text": [
      "id :  None\n",
      "id :  None\n",
      "id :  None\n",
      "id :  None\n",
      "id :  None\n"
     ]
    },
    {
     "name": "stderr",
     "output_type": "stream",
     "text": [
      "0: 256x416 2 persons, 21.0ms\n",
      "Speed: 0.6ms preprocess, 21.0ms inference, 0.3ms postprocess per image at shape (1, 3, 256, 416)\n",
      "\n",
      "0: 256x416 2 persons, 22.6ms\n",
      "Speed: 0.7ms preprocess, 22.6ms inference, 0.4ms postprocess per image at shape (1, 3, 256, 416)\n",
      "\n",
      "0: 256x416 2 persons, 22.0ms\n",
      "Speed: 0.8ms preprocess, 22.0ms inference, 0.3ms postprocess per image at shape (1, 3, 256, 416)\n",
      "\n",
      "0: 256x416 2 persons, 23.3ms\n",
      "Speed: 0.8ms preprocess, 23.3ms inference, 0.4ms postprocess per image at shape (1, 3, 256, 416)\n",
      "\n",
      "0: 256x416 2 persons, 21.3ms\n",
      "Speed: 0.8ms preprocess, 21.3ms inference, 0.3ms postprocess per image at shape (1, 3, 256, 416)\n",
      "\n"
     ]
    },
    {
     "name": "stdout",
     "output_type": "stream",
     "text": [
      "id :  None\n",
      "id :  None\n",
      "id :  None\n",
      "id :  None\n",
      "id :  None\n"
     ]
    },
    {
     "name": "stderr",
     "output_type": "stream",
     "text": [
      "0: 256x416 2 persons, 22.3ms\n",
      "Speed: 0.7ms preprocess, 22.3ms inference, 0.4ms postprocess per image at shape (1, 3, 256, 416)\n",
      "\n",
      "0: 256x416 2 persons, 21.8ms\n",
      "Speed: 0.9ms preprocess, 21.8ms inference, 0.3ms postprocess per image at shape (1, 3, 256, 416)\n",
      "\n",
      "0: 256x416 2 persons, 20.7ms\n",
      "Speed: 0.7ms preprocess, 20.7ms inference, 0.3ms postprocess per image at shape (1, 3, 256, 416)\n",
      "\n",
      "0: 256x416 3 persons, 22.3ms\n",
      "Speed: 1.0ms preprocess, 22.3ms inference, 0.3ms postprocess per image at shape (1, 3, 256, 416)\n",
      "\n",
      "0: 256x416 3 persons, 21.7ms\n",
      "Speed: 0.8ms preprocess, 21.7ms inference, 0.3ms postprocess per image at shape (1, 3, 256, 416)\n",
      "\n"
     ]
    },
    {
     "name": "stdout",
     "output_type": "stream",
     "text": [
      "id :  None\n",
      "id :  None\n",
      "id :  None\n",
      "id :  None\n",
      "id :  None\n"
     ]
    },
    {
     "name": "stderr",
     "output_type": "stream",
     "text": [
      "0: 256x416 2 persons, 29.9ms\n",
      "Speed: 2.2ms preprocess, 29.9ms inference, 0.4ms postprocess per image at shape (1, 3, 256, 416)\n",
      "\n",
      "0: 256x416 2 persons, 22.2ms\n",
      "Speed: 1.1ms preprocess, 22.2ms inference, 0.3ms postprocess per image at shape (1, 3, 256, 416)\n",
      "\n",
      "0: 256x416 2 persons, 21.0ms\n",
      "Speed: 0.7ms preprocess, 21.0ms inference, 0.3ms postprocess per image at shape (1, 3, 256, 416)\n",
      "\n",
      "0: 256x416 4 persons, 21.0ms\n",
      "Speed: 0.7ms preprocess, 21.0ms inference, 0.3ms postprocess per image at shape (1, 3, 256, 416)\n",
      "\n",
      "0: 256x416 3 persons, 21.7ms\n",
      "Speed: 0.7ms preprocess, 21.7ms inference, 0.3ms postprocess per image at shape (1, 3, 256, 416)\n",
      "\n"
     ]
    },
    {
     "name": "stdout",
     "output_type": "stream",
     "text": [
      "id :  None\n",
      "id :  None\n",
      "id :  None\n",
      "id :  None\n",
      "id :  None\n"
     ]
    },
    {
     "name": "stderr",
     "output_type": "stream",
     "text": [
      "0: 256x416 3 persons, 23.1ms\n",
      "Speed: 0.8ms preprocess, 23.1ms inference, 0.3ms postprocess per image at shape (1, 3, 256, 416)\n",
      "\n",
      "0: 256x416 3 persons, 21.8ms\n",
      "Speed: 0.7ms preprocess, 21.8ms inference, 0.3ms postprocess per image at shape (1, 3, 256, 416)\n",
      "\n",
      "0: 256x416 4 persons, 23.3ms\n",
      "Speed: 0.8ms preprocess, 23.3ms inference, 0.3ms postprocess per image at shape (1, 3, 256, 416)\n",
      "\n",
      "0: 256x416 3 persons, 21.6ms\n",
      "Speed: 0.7ms preprocess, 21.6ms inference, 0.3ms postprocess per image at shape (1, 3, 256, 416)\n",
      "\n",
      "0: 256x416 4 persons, 23.7ms\n",
      "Speed: 0.7ms preprocess, 23.7ms inference, 0.4ms postprocess per image at shape (1, 3, 256, 416)\n",
      "\n"
     ]
    },
    {
     "name": "stdout",
     "output_type": "stream",
     "text": [
      "id :  None\n",
      "id :  None\n",
      "id :  None\n",
      "id :  None\n",
      "id :  None\n"
     ]
    },
    {
     "name": "stderr",
     "output_type": "stream",
     "text": [
      "0: 256x416 4 persons, 22.2ms\n",
      "Speed: 0.7ms preprocess, 22.2ms inference, 0.3ms postprocess per image at shape (1, 3, 256, 416)\n",
      "\n",
      "0: 256x416 4 persons, 23.4ms\n",
      "Speed: 0.6ms preprocess, 23.4ms inference, 0.3ms postprocess per image at shape (1, 3, 256, 416)\n",
      "\n",
      "0: 256x416 3 persons, 20.9ms\n",
      "Speed: 0.7ms preprocess, 20.9ms inference, 0.3ms postprocess per image at shape (1, 3, 256, 416)\n",
      "\n",
      "0: 256x416 3 persons, 22.5ms\n",
      "Speed: 0.8ms preprocess, 22.5ms inference, 0.4ms postprocess per image at shape (1, 3, 256, 416)\n",
      "\n",
      "0: 256x416 3 persons, 22.0ms\n",
      "Speed: 0.6ms preprocess, 22.0ms inference, 0.3ms postprocess per image at shape (1, 3, 256, 416)\n",
      "\n"
     ]
    },
    {
     "name": "stdout",
     "output_type": "stream",
     "text": [
      "id :  None\n",
      "id :  None\n",
      "id :  None\n",
      "id :  None\n",
      "id :  None\n"
     ]
    },
    {
     "name": "stderr",
     "output_type": "stream",
     "text": [
      "0: 256x416 3 persons, 22.3ms\n",
      "Speed: 0.8ms preprocess, 22.3ms inference, 0.4ms postprocess per image at shape (1, 3, 256, 416)\n",
      "\n",
      "0: 256x416 3 persons, 23.9ms\n",
      "Speed: 1.1ms preprocess, 23.9ms inference, 0.4ms postprocess per image at shape (1, 3, 256, 416)\n",
      "\n",
      "0: 256x416 3 persons, 23.5ms\n",
      "Speed: 0.8ms preprocess, 23.5ms inference, 0.4ms postprocess per image at shape (1, 3, 256, 416)\n",
      "\n",
      "0: 256x416 3 persons, 21.4ms\n",
      "Speed: 0.7ms preprocess, 21.4ms inference, 0.3ms postprocess per image at shape (1, 3, 256, 416)\n",
      "\n",
      "0: 256x416 3 persons, 22.7ms\n",
      "Speed: 0.7ms preprocess, 22.7ms inference, 0.3ms postprocess per image at shape (1, 3, 256, 416)\n",
      "\n"
     ]
    },
    {
     "name": "stdout",
     "output_type": "stream",
     "text": [
      "id :  None\n",
      "id :  None\n",
      "id :  None\n",
      "id :  None\n",
      "id :  None\n"
     ]
    },
    {
     "name": "stderr",
     "output_type": "stream",
     "text": [
      "0: 256x416 3 persons, 22.4ms\n",
      "Speed: 0.8ms preprocess, 22.4ms inference, 0.3ms postprocess per image at shape (1, 3, 256, 416)\n",
      "\n",
      "0: 256x416 3 persons, 22.2ms\n",
      "Speed: 0.7ms preprocess, 22.2ms inference, 0.4ms postprocess per image at shape (1, 3, 256, 416)\n",
      "\n",
      "0: 256x416 3 persons, 21.8ms\n",
      "Speed: 0.7ms preprocess, 21.8ms inference, 0.3ms postprocess per image at shape (1, 3, 256, 416)\n",
      "\n",
      "0: 256x416 3 persons, 23.5ms\n",
      "Speed: 0.8ms preprocess, 23.5ms inference, 0.4ms postprocess per image at shape (1, 3, 256, 416)\n",
      "\n",
      "0: 256x416 3 persons, 22.9ms\n",
      "Speed: 0.7ms preprocess, 22.9ms inference, 0.3ms postprocess per image at shape (1, 3, 256, 416)\n",
      "\n"
     ]
    },
    {
     "name": "stdout",
     "output_type": "stream",
     "text": [
      "id :  None\n",
      "id :  None\n",
      "id :  None\n",
      "id :  None\n",
      "id :  None\n"
     ]
    },
    {
     "name": "stderr",
     "output_type": "stream",
     "text": [
      "0: 256x416 3 persons, 24.1ms\n",
      "Speed: 0.8ms preprocess, 24.1ms inference, 0.3ms postprocess per image at shape (1, 3, 256, 416)\n",
      "\n",
      "0: 256x416 3 persons, 22.7ms\n",
      "Speed: 0.8ms preprocess, 22.7ms inference, 0.3ms postprocess per image at shape (1, 3, 256, 416)\n",
      "\n",
      "0: 256x416 3 persons, 22.7ms\n",
      "Speed: 1.1ms preprocess, 22.7ms inference, 0.3ms postprocess per image at shape (1, 3, 256, 416)\n",
      "\n",
      "0: 256x416 3 persons, 21.4ms\n",
      "Speed: 0.6ms preprocess, 21.4ms inference, 0.3ms postprocess per image at shape (1, 3, 256, 416)\n",
      "\n",
      "0: 256x416 3 persons, 23.4ms\n",
      "Speed: 0.9ms preprocess, 23.4ms inference, 0.3ms postprocess per image at shape (1, 3, 256, 416)\n",
      "\n"
     ]
    },
    {
     "name": "stdout",
     "output_type": "stream",
     "text": [
      "id :  None\n",
      "id :  None\n",
      "id :  None\n",
      "id :  None\n",
      "id :  None\n"
     ]
    },
    {
     "name": "stderr",
     "output_type": "stream",
     "text": [
      "0: 256x416 3 persons, 21.3ms\n",
      "Speed: 0.7ms preprocess, 21.3ms inference, 0.3ms postprocess per image at shape (1, 3, 256, 416)\n",
      "\n",
      "0: 256x416 3 persons, 30.5ms\n",
      "Speed: 1.6ms preprocess, 30.5ms inference, 0.3ms postprocess per image at shape (1, 3, 256, 416)\n",
      "\n",
      "0: 256x416 3 persons, 21.6ms\n",
      "Speed: 0.9ms preprocess, 21.6ms inference, 0.3ms postprocess per image at shape (1, 3, 256, 416)\n",
      "\n",
      "0: 256x416 3 persons, 21.0ms\n",
      "Speed: 0.6ms preprocess, 21.0ms inference, 0.3ms postprocess per image at shape (1, 3, 256, 416)\n",
      "\n",
      "0: 256x416 3 persons, 22.5ms\n",
      "Speed: 0.6ms preprocess, 22.5ms inference, 0.4ms postprocess per image at shape (1, 3, 256, 416)\n",
      "\n"
     ]
    },
    {
     "name": "stdout",
     "output_type": "stream",
     "text": [
      "id :  None\n",
      "id :  None\n",
      "id :  None\n",
      "id :  None\n",
      "id :  None\n"
     ]
    },
    {
     "name": "stderr",
     "output_type": "stream",
     "text": [
      "0: 256x416 3 persons, 23.4ms\n",
      "Speed: 0.7ms preprocess, 23.4ms inference, 0.3ms postprocess per image at shape (1, 3, 256, 416)\n",
      "\n",
      "0: 256x416 3 persons, 26.9ms\n",
      "Speed: 1.0ms preprocess, 26.9ms inference, 0.3ms postprocess per image at shape (1, 3, 256, 416)\n",
      "\n",
      "0: 256x416 3 persons, 23.5ms\n",
      "Speed: 0.8ms preprocess, 23.5ms inference, 0.3ms postprocess per image at shape (1, 3, 256, 416)\n",
      "\n",
      "0: 256x416 4 persons, 21.6ms\n",
      "Speed: 0.7ms preprocess, 21.6ms inference, 0.3ms postprocess per image at shape (1, 3, 256, 416)\n",
      "\n",
      "0: 256x416 4 persons, 23.3ms\n",
      "Speed: 1.0ms preprocess, 23.3ms inference, 0.3ms postprocess per image at shape (1, 3, 256, 416)\n",
      "\n"
     ]
    },
    {
     "name": "stdout",
     "output_type": "stream",
     "text": [
      "id :  None\n",
      "id :  None\n",
      "id :  None\n",
      "id :  None\n",
      "id :  None\n"
     ]
    },
    {
     "name": "stderr",
     "output_type": "stream",
     "text": [
      "0: 256x416 3 persons, 22.0ms\n",
      "Speed: 0.7ms preprocess, 22.0ms inference, 0.3ms postprocess per image at shape (1, 3, 256, 416)\n",
      "\n",
      "0: 256x416 3 persons, 23.8ms\n",
      "Speed: 1.2ms preprocess, 23.8ms inference, 0.3ms postprocess per image at shape (1, 3, 256, 416)\n",
      "\n",
      "0: 256x416 3 persons, 21.7ms\n",
      "Speed: 0.8ms preprocess, 21.7ms inference, 0.3ms postprocess per image at shape (1, 3, 256, 416)\n",
      "\n",
      "0: 256x416 3 persons, 22.9ms\n",
      "Speed: 0.8ms preprocess, 22.9ms inference, 0.4ms postprocess per image at shape (1, 3, 256, 416)\n",
      "\n",
      "0: 256x416 3 persons, 21.6ms\n",
      "Speed: 0.7ms preprocess, 21.6ms inference, 0.3ms postprocess per image at shape (1, 3, 256, 416)\n",
      "\n"
     ]
    },
    {
     "name": "stdout",
     "output_type": "stream",
     "text": [
      "id :  None\n",
      "id :  None\n",
      "id :  None\n",
      "id :  None\n",
      "id :  None\n"
     ]
    },
    {
     "name": "stderr",
     "output_type": "stream",
     "text": [
      "0: 256x416 3 persons, 23.3ms\n",
      "Speed: 0.8ms preprocess, 23.3ms inference, 0.3ms postprocess per image at shape (1, 3, 256, 416)\n",
      "\n",
      "0: 256x416 3 persons, 22.2ms\n",
      "Speed: 0.8ms preprocess, 22.2ms inference, 0.3ms postprocess per image at shape (1, 3, 256, 416)\n",
      "\n",
      "0: 256x416 3 persons, 23.7ms\n",
      "Speed: 0.8ms preprocess, 23.7ms inference, 0.3ms postprocess per image at shape (1, 3, 256, 416)\n",
      "\n",
      "0: 256x416 3 persons, 21.7ms\n",
      "Speed: 0.7ms preprocess, 21.7ms inference, 0.3ms postprocess per image at shape (1, 3, 256, 416)\n",
      "\n",
      "0: 256x416 4 persons, 22.9ms\n",
      "Speed: 1.0ms preprocess, 22.9ms inference, 0.3ms postprocess per image at shape (1, 3, 256, 416)\n",
      "\n"
     ]
    },
    {
     "name": "stdout",
     "output_type": "stream",
     "text": [
      "id :  None\n",
      "id :  None\n",
      "id :  None\n",
      "id :  None\n",
      "id :  None\n"
     ]
    },
    {
     "name": "stderr",
     "output_type": "stream",
     "text": [
      "0: 256x416 3 persons, 21.4ms\n",
      "Speed: 0.7ms preprocess, 21.4ms inference, 0.3ms postprocess per image at shape (1, 3, 256, 416)\n",
      "\n",
      "0: 256x416 3 persons, 23.4ms\n",
      "Speed: 0.8ms preprocess, 23.4ms inference, 0.3ms postprocess per image at shape (1, 3, 256, 416)\n",
      "\n",
      "0: 256x416 4 persons, 21.2ms\n",
      "Speed: 0.6ms preprocess, 21.2ms inference, 0.3ms postprocess per image at shape (1, 3, 256, 416)\n",
      "\n",
      "0: 256x416 5 persons, 25.2ms\n",
      "Speed: 0.7ms preprocess, 25.2ms inference, 0.3ms postprocess per image at shape (1, 3, 256, 416)\n",
      "\n",
      "0: 256x416 3 persons, 21.4ms\n",
      "Speed: 0.7ms preprocess, 21.4ms inference, 0.3ms postprocess per image at shape (1, 3, 256, 416)\n",
      "\n"
     ]
    },
    {
     "name": "stdout",
     "output_type": "stream",
     "text": [
      "id :  None\n",
      "id :  None\n",
      "id :  None\n",
      "id :  None\n",
      "flag2\n",
      "id :  None\n"
     ]
    },
    {
     "name": "stderr",
     "output_type": "stream",
     "text": [
      "0: 256x416 3 persons, 22.5ms\n",
      "Speed: 1.2ms preprocess, 22.5ms inference, 0.3ms postprocess per image at shape (1, 3, 256, 416)\n",
      "\n",
      "0: 256x416 3 persons, 21.4ms\n",
      "Speed: 0.7ms preprocess, 21.4ms inference, 0.3ms postprocess per image at shape (1, 3, 256, 416)\n",
      "\n",
      "0: 256x416 3 persons, 22.3ms\n",
      "Speed: 0.9ms preprocess, 22.3ms inference, 0.3ms postprocess per image at shape (1, 3, 256, 416)\n",
      "\n",
      "0: 256x416 3 persons, 21.5ms\n",
      "Speed: 0.6ms preprocess, 21.5ms inference, 0.3ms postprocess per image at shape (1, 3, 256, 416)\n",
      "\n",
      "0: 256x416 3 persons, 23.2ms\n",
      "Speed: 1.3ms preprocess, 23.2ms inference, 0.3ms postprocess per image at shape (1, 3, 256, 416)\n",
      "\n"
     ]
    },
    {
     "name": "stdout",
     "output_type": "stream",
     "text": [
      "id :  None\n",
      "id :  None\n",
      "id :  None\n",
      "id :  None\n",
      "id :  None\n"
     ]
    },
    {
     "name": "stderr",
     "output_type": "stream",
     "text": [
      "0: 256x416 3 persons, 25.9ms\n",
      "Speed: 0.6ms preprocess, 25.9ms inference, 0.4ms postprocess per image at shape (1, 3, 256, 416)\n",
      "\n",
      "0: 256x416 3 persons, 22.2ms\n",
      "Speed: 0.9ms preprocess, 22.2ms inference, 0.3ms postprocess per image at shape (1, 3, 256, 416)\n",
      "\n",
      "0: 256x416 4 persons, 21.9ms\n",
      "Speed: 0.8ms preprocess, 21.9ms inference, 0.4ms postprocess per image at shape (1, 3, 256, 416)\n",
      "\n",
      "0: 256x416 3 persons, 21.6ms\n",
      "Speed: 0.7ms preprocess, 21.6ms inference, 0.3ms postprocess per image at shape (1, 3, 256, 416)\n",
      "\n",
      "0: 256x416 4 persons, 22.0ms\n",
      "Speed: 0.7ms preprocess, 22.0ms inference, 0.3ms postprocess per image at shape (1, 3, 256, 416)\n",
      "\n"
     ]
    },
    {
     "name": "stdout",
     "output_type": "stream",
     "text": [
      "id :  None\n",
      "id :  None\n",
      "id :  None\n",
      "id :  None\n",
      "id :  None\n"
     ]
    },
    {
     "name": "stderr",
     "output_type": "stream",
     "text": [
      "0: 256x416 3 persons, 23.3ms\n",
      "Speed: 1.0ms preprocess, 23.3ms inference, 0.3ms postprocess per image at shape (1, 3, 256, 416)\n",
      "\n",
      "0: 256x416 4 persons, 22.4ms\n",
      "Speed: 0.8ms preprocess, 22.4ms inference, 0.4ms postprocess per image at shape (1, 3, 256, 416)\n",
      "\n",
      "0: 256x416 3 persons, 21.7ms\n",
      "Speed: 0.8ms preprocess, 21.7ms inference, 0.3ms postprocess per image at shape (1, 3, 256, 416)\n",
      "\n",
      "0: 256x416 3 persons, 22.3ms\n",
      "Speed: 0.8ms preprocess, 22.3ms inference, 0.5ms postprocess per image at shape (1, 3, 256, 416)\n",
      "\n",
      "0: 256x416 4 persons, 21.1ms\n",
      "Speed: 0.7ms preprocess, 21.1ms inference, 0.4ms postprocess per image at shape (1, 3, 256, 416)\n",
      "\n"
     ]
    },
    {
     "name": "stdout",
     "output_type": "stream",
     "text": [
      "id :  None\n",
      "id :  None\n",
      "id :  None\n",
      "id :  None\n",
      "id :  None\n"
     ]
    },
    {
     "name": "stderr",
     "output_type": "stream",
     "text": [
      "0: 256x416 4 persons, 21.4ms\n",
      "Speed: 0.7ms preprocess, 21.4ms inference, 0.4ms postprocess per image at shape (1, 3, 256, 416)\n",
      "\n",
      "0: 256x416 3 persons, 24.2ms\n",
      "Speed: 1.4ms preprocess, 24.2ms inference, 0.3ms postprocess per image at shape (1, 3, 256, 416)\n",
      "\n",
      "0: 256x416 3 persons, 26.6ms\n",
      "Speed: 1.4ms preprocess, 26.6ms inference, 0.3ms postprocess per image at shape (1, 3, 256, 416)\n",
      "\n",
      "0: 256x416 3 persons, 21.8ms\n",
      "Speed: 0.7ms preprocess, 21.8ms inference, 0.4ms postprocess per image at shape (1, 3, 256, 416)\n",
      "\n",
      "0: 256x416 3 persons, 26.4ms\n",
      "Speed: 0.7ms preprocess, 26.4ms inference, 0.3ms postprocess per image at shape (1, 3, 256, 416)\n",
      "\n"
     ]
    },
    {
     "name": "stdout",
     "output_type": "stream",
     "text": [
      "id :  None\n",
      "id :  None\n",
      "id :  None\n",
      "id :  None\n",
      "id :  None\n"
     ]
    },
    {
     "name": "stderr",
     "output_type": "stream",
     "text": [
      "0: 256x416 3 persons, 23.9ms\n",
      "Speed: 1.0ms preprocess, 23.9ms inference, 0.4ms postprocess per image at shape (1, 3, 256, 416)\n",
      "\n",
      "0: 256x416 3 persons, 21.1ms\n",
      "Speed: 0.8ms preprocess, 21.1ms inference, 0.3ms postprocess per image at shape (1, 3, 256, 416)\n",
      "\n",
      "0: 256x416 3 persons, 23.5ms\n",
      "Speed: 0.8ms preprocess, 23.5ms inference, 0.3ms postprocess per image at shape (1, 3, 256, 416)\n",
      "\n",
      "0: 256x416 3 persons, 21.4ms\n",
      "Speed: 0.8ms preprocess, 21.4ms inference, 0.3ms postprocess per image at shape (1, 3, 256, 416)\n",
      "\n",
      "0: 256x416 3 persons, 23.9ms\n",
      "Speed: 0.8ms preprocess, 23.9ms inference, 0.3ms postprocess per image at shape (1, 3, 256, 416)\n",
      "\n"
     ]
    },
    {
     "name": "stdout",
     "output_type": "stream",
     "text": [
      "id :  None\n",
      "id :  None\n",
      "id :  None\n",
      "id :  None\n",
      "id :  None\n"
     ]
    },
    {
     "name": "stderr",
     "output_type": "stream",
     "text": [
      "0: 256x416 3 persons, 21.5ms\n",
      "Speed: 0.7ms preprocess, 21.5ms inference, 0.3ms postprocess per image at shape (1, 3, 256, 416)\n",
      "\n",
      "0: 256x416 3 persons, 23.6ms\n",
      "Speed: 0.8ms preprocess, 23.6ms inference, 0.4ms postprocess per image at shape (1, 3, 256, 416)\n",
      "\n",
      "0: 256x416 3 persons, 22.1ms\n",
      "Speed: 0.7ms preprocess, 22.1ms inference, 0.3ms postprocess per image at shape (1, 3, 256, 416)\n",
      "\n",
      "0: 256x416 3 persons, 23.6ms\n",
      "Speed: 0.9ms preprocess, 23.6ms inference, 0.4ms postprocess per image at shape (1, 3, 256, 416)\n",
      "\n",
      "0: 256x416 3 persons, 21.6ms\n",
      "Speed: 0.6ms preprocess, 21.6ms inference, 0.3ms postprocess per image at shape (1, 3, 256, 416)\n",
      "\n"
     ]
    },
    {
     "name": "stdout",
     "output_type": "stream",
     "text": [
      "id :  None\n",
      "id :  None\n",
      "id :  None\n",
      "id :  None\n",
      "id :  None\n"
     ]
    },
    {
     "name": "stderr",
     "output_type": "stream",
     "text": [
      "0: 256x416 3 persons, 23.2ms\n",
      "Speed: 1.1ms preprocess, 23.2ms inference, 0.3ms postprocess per image at shape (1, 3, 256, 416)\n",
      "\n",
      "0: 256x416 3 persons, 23.2ms\n",
      "Speed: 0.7ms preprocess, 23.2ms inference, 0.3ms postprocess per image at shape (1, 3, 256, 416)\n",
      "\n",
      "0: 256x416 3 persons, 21.6ms\n",
      "Speed: 1.0ms preprocess, 21.6ms inference, 0.3ms postprocess per image at shape (1, 3, 256, 416)\n",
      "\n",
      "0: 256x416 3 persons, 22.0ms\n",
      "Speed: 0.7ms preprocess, 22.0ms inference, 0.3ms postprocess per image at shape (1, 3, 256, 416)\n",
      "\n",
      "0: 256x416 3 persons, 22.9ms\n",
      "Speed: 0.9ms preprocess, 22.9ms inference, 0.4ms postprocess per image at shape (1, 3, 256, 416)\n",
      "\n"
     ]
    },
    {
     "name": "stdout",
     "output_type": "stream",
     "text": [
      "id :  None\n",
      "id :  None\n",
      "id :  None\n",
      "id :  None\n",
      "id :  None\n"
     ]
    },
    {
     "name": "stderr",
     "output_type": "stream",
     "text": [
      "0: 256x416 3 persons, 21.9ms\n",
      "Speed: 0.7ms preprocess, 21.9ms inference, 0.3ms postprocess per image at shape (1, 3, 256, 416)\n",
      "\n",
      "0: 256x416 3 persons, 22.2ms\n",
      "Speed: 0.9ms preprocess, 22.2ms inference, 0.3ms postprocess per image at shape (1, 3, 256, 416)\n",
      "\n",
      "0: 256x416 3 persons, 21.4ms\n",
      "Speed: 0.7ms preprocess, 21.4ms inference, 0.3ms postprocess per image at shape (1, 3, 256, 416)\n",
      "\n",
      "0: 256x416 3 persons, 22.5ms\n",
      "Speed: 0.9ms preprocess, 22.5ms inference, 0.3ms postprocess per image at shape (1, 3, 256, 416)\n",
      "\n",
      "0: 256x416 3 persons, 20.8ms\n",
      "Speed: 0.7ms preprocess, 20.8ms inference, 0.3ms postprocess per image at shape (1, 3, 256, 416)\n",
      "\n"
     ]
    },
    {
     "name": "stdout",
     "output_type": "stream",
     "text": [
      "id :  None\n",
      "id :  None\n",
      "id :  None\n",
      "id :  None\n",
      "id :  None\n"
     ]
    },
    {
     "name": "stderr",
     "output_type": "stream",
     "text": [
      "0: 256x416 3 persons, 23.6ms\n",
      "Speed: 0.7ms preprocess, 23.6ms inference, 0.4ms postprocess per image at shape (1, 3, 256, 416)\n",
      "\n",
      "0: 256x416 3 persons, 22.5ms\n",
      "Speed: 0.9ms preprocess, 22.5ms inference, 0.3ms postprocess per image at shape (1, 3, 256, 416)\n",
      "\n",
      "0: 256x416 3 persons, 23.6ms\n",
      "Speed: 1.0ms preprocess, 23.6ms inference, 0.3ms postprocess per image at shape (1, 3, 256, 416)\n",
      "\n",
      "0: 256x416 3 persons, 21.7ms\n",
      "Speed: 0.7ms preprocess, 21.7ms inference, 0.3ms postprocess per image at shape (1, 3, 256, 416)\n",
      "\n",
      "0: 256x416 3 persons, 23.0ms\n",
      "Speed: 0.8ms preprocess, 23.0ms inference, 0.3ms postprocess per image at shape (1, 3, 256, 416)\n",
      "\n"
     ]
    },
    {
     "name": "stdout",
     "output_type": "stream",
     "text": [
      "id :  None\n",
      "id :  None\n",
      "id :  None\n",
      "id :  None\n",
      "id :  None\n"
     ]
    },
    {
     "name": "stderr",
     "output_type": "stream",
     "text": [
      "0: 256x416 3 persons, 21.3ms\n",
      "Speed: 0.6ms preprocess, 21.3ms inference, 0.3ms postprocess per image at shape (1, 3, 256, 416)\n",
      "\n",
      "0: 256x416 3 persons, 22.8ms\n",
      "Speed: 0.7ms preprocess, 22.8ms inference, 0.4ms postprocess per image at shape (1, 3, 256, 416)\n",
      "\n",
      "0: 256x416 3 persons, 21.7ms\n",
      "Speed: 0.7ms preprocess, 21.7ms inference, 0.4ms postprocess per image at shape (1, 3, 256, 416)\n",
      "\n",
      "0: 256x416 3 persons, 23.1ms\n",
      "Speed: 0.7ms preprocess, 23.1ms inference, 0.4ms postprocess per image at shape (1, 3, 256, 416)\n",
      "\n",
      "0: 256x416 3 persons, 21.9ms\n",
      "Speed: 0.7ms preprocess, 21.9ms inference, 0.4ms postprocess per image at shape (1, 3, 256, 416)\n",
      "\n"
     ]
    },
    {
     "name": "stdout",
     "output_type": "stream",
     "text": [
      "id :  None\n",
      "id :  None\n",
      "id :  None\n",
      "id :  None\n",
      "id :  None\n"
     ]
    },
    {
     "name": "stderr",
     "output_type": "stream",
     "text": [
      "0: 256x416 3 persons, 23.9ms\n",
      "Speed: 0.8ms preprocess, 23.9ms inference, 0.5ms postprocess per image at shape (1, 3, 256, 416)\n",
      "\n",
      "0: 256x416 3 persons, 21.7ms\n",
      "Speed: 0.7ms preprocess, 21.7ms inference, 0.3ms postprocess per image at shape (1, 3, 256, 416)\n",
      "\n",
      "0: 256x416 3 persons, 23.7ms\n",
      "Speed: 0.9ms preprocess, 23.7ms inference, 0.3ms postprocess per image at shape (1, 3, 256, 416)\n",
      "\n",
      "0: 256x416 3 persons, 21.1ms\n",
      "Speed: 0.7ms preprocess, 21.1ms inference, 0.3ms postprocess per image at shape (1, 3, 256, 416)\n",
      "\n",
      "0: 256x416 3 persons, 23.7ms\n",
      "Speed: 0.7ms preprocess, 23.7ms inference, 0.4ms postprocess per image at shape (1, 3, 256, 416)\n",
      "\n"
     ]
    },
    {
     "name": "stdout",
     "output_type": "stream",
     "text": [
      "id :  None\n",
      "id :  None\n",
      "id :  None\n",
      "id :  None\n",
      "id :  None\n"
     ]
    },
    {
     "name": "stderr",
     "output_type": "stream",
     "text": [
      "0: 256x416 3 persons, 39.4ms\n",
      "Speed: 2.9ms preprocess, 39.4ms inference, 0.4ms postprocess per image at shape (1, 3, 256, 416)\n",
      "\n",
      "0: 256x416 3 persons, 22.7ms\n",
      "Speed: 0.8ms preprocess, 22.7ms inference, 0.3ms postprocess per image at shape (1, 3, 256, 416)\n",
      "\n",
      "0: 256x416 3 persons, 21.8ms\n",
      "Speed: 0.7ms preprocess, 21.8ms inference, 0.4ms postprocess per image at shape (1, 3, 256, 416)\n",
      "\n",
      "0: 256x416 3 persons, 22.2ms\n",
      "Speed: 0.8ms preprocess, 22.2ms inference, 0.3ms postprocess per image at shape (1, 3, 256, 416)\n",
      "\n",
      "0: 256x416 3 persons, 34.9ms\n",
      "Speed: 1.7ms preprocess, 34.9ms inference, 0.3ms postprocess per image at shape (1, 3, 256, 416)\n",
      "\n"
     ]
    },
    {
     "name": "stdout",
     "output_type": "stream",
     "text": [
      "id :  None\n",
      "id :  None\n",
      "id :  None\n",
      "id :  None\n",
      "id :  None\n"
     ]
    },
    {
     "name": "stderr",
     "output_type": "stream",
     "text": [
      "0: 256x416 3 persons, 23.7ms\n",
      "Speed: 0.8ms preprocess, 23.7ms inference, 0.3ms postprocess per image at shape (1, 3, 256, 416)\n",
      "\n",
      "0: 256x416 3 persons, 22.1ms\n",
      "Speed: 0.7ms preprocess, 22.1ms inference, 0.3ms postprocess per image at shape (1, 3, 256, 416)\n",
      "\n",
      "0: 256x416 3 persons, 22.4ms\n",
      "Speed: 0.8ms preprocess, 22.4ms inference, 0.3ms postprocess per image at shape (1, 3, 256, 416)\n",
      "\n",
      "0: 256x416 3 persons, 21.1ms\n",
      "Speed: 0.7ms preprocess, 21.1ms inference, 0.3ms postprocess per image at shape (1, 3, 256, 416)\n",
      "\n",
      "0: 256x416 3 persons, 22.8ms\n",
      "Speed: 1.2ms preprocess, 22.8ms inference, 0.3ms postprocess per image at shape (1, 3, 256, 416)\n",
      "\n"
     ]
    },
    {
     "name": "stdout",
     "output_type": "stream",
     "text": [
      "id :  None\n",
      "id :  None\n",
      "id :  None\n",
      "id :  None\n",
      "id :  None\n"
     ]
    },
    {
     "name": "stderr",
     "output_type": "stream",
     "text": [
      "0: 256x416 3 persons, 21.5ms\n",
      "Speed: 0.8ms preprocess, 21.5ms inference, 0.3ms postprocess per image at shape (1, 3, 256, 416)\n",
      "\n",
      "0: 256x416 3 persons, 23.1ms\n",
      "Speed: 1.2ms preprocess, 23.1ms inference, 0.4ms postprocess per image at shape (1, 3, 256, 416)\n",
      "\n",
      "0: 256x416 3 persons, 21.6ms\n",
      "Speed: 0.7ms preprocess, 21.6ms inference, 0.3ms postprocess per image at shape (1, 3, 256, 416)\n",
      "\n",
      "0: 256x416 3 persons, 22.4ms\n",
      "Speed: 0.9ms preprocess, 22.4ms inference, 0.3ms postprocess per image at shape (1, 3, 256, 416)\n",
      "\n",
      "0: 256x416 3 persons, 20.7ms\n",
      "Speed: 0.7ms preprocess, 20.7ms inference, 0.3ms postprocess per image at shape (1, 3, 256, 416)\n",
      "\n"
     ]
    },
    {
     "name": "stdout",
     "output_type": "stream",
     "text": [
      "id :  None\n",
      "id :  None\n",
      "id :  None\n",
      "id :  None\n",
      "id :  None\n"
     ]
    },
    {
     "name": "stderr",
     "output_type": "stream",
     "text": [
      "0: 256x416 3 persons, 24.0ms\n",
      "Speed: 0.8ms preprocess, 24.0ms inference, 0.3ms postprocess per image at shape (1, 3, 256, 416)\n",
      "\n",
      "0: 256x416 3 persons, 21.3ms\n",
      "Speed: 0.8ms preprocess, 21.3ms inference, 0.3ms postprocess per image at shape (1, 3, 256, 416)\n",
      "\n",
      "0: 256x416 3 persons, 23.2ms\n",
      "Speed: 0.7ms preprocess, 23.2ms inference, 0.4ms postprocess per image at shape (1, 3, 256, 416)\n",
      "\n",
      "0: 256x416 3 persons, 21.7ms\n",
      "Speed: 0.8ms preprocess, 21.7ms inference, 0.3ms postprocess per image at shape (1, 3, 256, 416)\n",
      "\n",
      "0: 256x416 4 persons, 23.0ms\n",
      "Speed: 0.7ms preprocess, 23.0ms inference, 0.3ms postprocess per image at shape (1, 3, 256, 416)\n",
      "\n"
     ]
    },
    {
     "name": "stdout",
     "output_type": "stream",
     "text": [
      "id :  None\n",
      "id :  None\n",
      "id :  None\n",
      "id :  None\n",
      "id :  None\n"
     ]
    },
    {
     "name": "stderr",
     "output_type": "stream",
     "text": [
      "0: 256x416 3 persons, 22.4ms\n",
      "Speed: 0.7ms preprocess, 22.4ms inference, 0.4ms postprocess per image at shape (1, 3, 256, 416)\n",
      "\n",
      "0: 256x416 3 persons, 23.8ms\n",
      "Speed: 0.8ms preprocess, 23.8ms inference, 0.3ms postprocess per image at shape (1, 3, 256, 416)\n",
      "\n",
      "0: 256x416 3 persons, 22.3ms\n",
      "Speed: 0.7ms preprocess, 22.3ms inference, 0.3ms postprocess per image at shape (1, 3, 256, 416)\n",
      "\n",
      "0: 256x416 3 persons, 23.7ms\n",
      "Speed: 0.9ms preprocess, 23.7ms inference, 0.3ms postprocess per image at shape (1, 3, 256, 416)\n",
      "\n",
      "0: 256x416 3 persons, 21.2ms\n",
      "Speed: 0.8ms preprocess, 21.2ms inference, 0.3ms postprocess per image at shape (1, 3, 256, 416)\n",
      "\n"
     ]
    },
    {
     "name": "stdout",
     "output_type": "stream",
     "text": [
      "id :  None\n",
      "id :  None\n",
      "id :  None\n",
      "id :  None\n",
      "id :  None\n"
     ]
    },
    {
     "name": "stderr",
     "output_type": "stream",
     "text": [
      "0: 256x416 3 persons, 23.3ms\n",
      "Speed: 0.8ms preprocess, 23.3ms inference, 0.3ms postprocess per image at shape (1, 3, 256, 416)\n",
      "\n",
      "0: 256x416 3 persons, 22.1ms\n",
      "Speed: 0.7ms preprocess, 22.1ms inference, 0.3ms postprocess per image at shape (1, 3, 256, 416)\n",
      "\n",
      "0: 256x416 3 persons, 23.8ms\n",
      "Speed: 1.1ms preprocess, 23.8ms inference, 0.3ms postprocess per image at shape (1, 3, 256, 416)\n",
      "\n",
      "0: 256x416 4 persons, 21.2ms\n",
      "Speed: 0.6ms preprocess, 21.2ms inference, 0.3ms postprocess per image at shape (1, 3, 256, 416)\n",
      "\n",
      "0: 256x416 2 persons, 23.1ms\n",
      "Speed: 1.3ms preprocess, 23.1ms inference, 0.3ms postprocess per image at shape (1, 3, 256, 416)\n",
      "\n"
     ]
    },
    {
     "name": "stdout",
     "output_type": "stream",
     "text": [
      "id :  None\n",
      "id :  None\n",
      "id :  None\n",
      "id :  None\n",
      "id :  None\n"
     ]
    },
    {
     "name": "stderr",
     "output_type": "stream",
     "text": [
      "0: 256x416 2 persons, 21.6ms\n",
      "Speed: 0.7ms preprocess, 21.6ms inference, 0.3ms postprocess per image at shape (1, 3, 256, 416)\n",
      "\n",
      "0: 256x416 2 persons, 23.3ms\n",
      "Speed: 0.9ms preprocess, 23.3ms inference, 0.4ms postprocess per image at shape (1, 3, 256, 416)\n",
      "\n",
      "0: 256x416 3 persons, 21.9ms\n",
      "Speed: 0.6ms preprocess, 21.9ms inference, 0.3ms postprocess per image at shape (1, 3, 256, 416)\n",
      "\n",
      "0: 256x416 3 persons, 22.2ms\n",
      "Speed: 0.9ms preprocess, 22.2ms inference, 0.3ms postprocess per image at shape (1, 3, 256, 416)\n",
      "\n",
      "0: 256x416 3 persons, 22.2ms\n",
      "Speed: 0.7ms preprocess, 22.2ms inference, 0.3ms postprocess per image at shape (1, 3, 256, 416)\n",
      "\n"
     ]
    },
    {
     "name": "stdout",
     "output_type": "stream",
     "text": [
      "id :  None\n",
      "id :  None\n",
      "id :  None\n",
      "id :  None\n",
      "id :  None\n"
     ]
    },
    {
     "name": "stderr",
     "output_type": "stream",
     "text": [
      "0: 256x416 4 persons, 22.7ms\n",
      "Speed: 0.8ms preprocess, 22.7ms inference, 0.3ms postprocess per image at shape (1, 3, 256, 416)\n",
      "\n",
      "0: 256x416 3 persons, 38.8ms\n",
      "Speed: 2.8ms preprocess, 38.8ms inference, 0.3ms postprocess per image at shape (1, 3, 256, 416)\n",
      "\n",
      "0: 256x416 3 persons, 22.4ms\n",
      "Speed: 0.7ms preprocess, 22.4ms inference, 0.3ms postprocess per image at shape (1, 3, 256, 416)\n",
      "\n",
      "0: 256x416 4 persons, 22.3ms\n",
      "Speed: 0.7ms preprocess, 22.3ms inference, 0.3ms postprocess per image at shape (1, 3, 256, 416)\n",
      "\n",
      "0: 256x416 3 persons, 21.4ms\n",
      "Speed: 0.7ms preprocess, 21.4ms inference, 0.3ms postprocess per image at shape (1, 3, 256, 416)\n"
     ]
    },
    {
     "name": "stdout",
     "output_type": "stream",
     "text": [
      "id :  None\n",
      "id :  None\n",
      "id :  None\n",
      "id :  None\n",
      "id :  None\n"
     ]
    },
    {
     "name": "stderr",
     "output_type": "stream",
     "text": [
      "\n",
      "0: 256x416 3 persons, 22.9ms\n",
      "Speed: 1.1ms preprocess, 22.9ms inference, 0.3ms postprocess per image at shape (1, 3, 256, 416)\n",
      "\n",
      "0: 256x416 4 persons, 21.5ms\n",
      "Speed: 0.7ms preprocess, 21.5ms inference, 0.3ms postprocess per image at shape (1, 3, 256, 416)\n",
      "\n",
      "0: 256x416 3 persons, 22.4ms\n",
      "Speed: 1.0ms preprocess, 22.4ms inference, 0.4ms postprocess per image at shape (1, 3, 256, 416)\n",
      "\n",
      "0: 256x416 3 persons, 20.9ms\n",
      "Speed: 0.7ms preprocess, 20.9ms inference, 0.3ms postprocess per image at shape (1, 3, 256, 416)\n",
      "\n",
      "0: 256x416 4 persons, 22.0ms\n",
      "Speed: 1.3ms preprocess, 22.0ms inference, 0.3ms postprocess per image at shape (1, 3, 256, 416)\n",
      "\n"
     ]
    },
    {
     "name": "stdout",
     "output_type": "stream",
     "text": [
      "id :  None\n",
      "id :  None\n",
      "id :  None\n",
      "id :  None\n",
      "id :  None\n"
     ]
    },
    {
     "name": "stderr",
     "output_type": "stream",
     "text": [
      "0: 256x416 2 persons, 21.3ms\n",
      "Speed: 0.7ms preprocess, 21.3ms inference, 0.3ms postprocess per image at shape (1, 3, 256, 416)\n",
      "\n",
      "0: 256x416 1 person, 29.7ms\n",
      "Speed: 1.7ms preprocess, 29.7ms inference, 0.3ms postprocess per image at shape (1, 3, 256, 416)\n",
      "\n",
      "0: 256x416 1 person, 23.9ms\n",
      "Speed: 0.9ms preprocess, 23.9ms inference, 0.4ms postprocess per image at shape (1, 3, 256, 416)\n",
      "\n",
      "0: 256x416 2 persons, 22.1ms\n",
      "Speed: 0.7ms preprocess, 22.1ms inference, 0.3ms postprocess per image at shape (1, 3, 256, 416)\n",
      "\n",
      "0: 256x416 2 persons, 22.5ms\n",
      "Speed: 1.3ms preprocess, 22.5ms inference, 0.4ms postprocess per image at shape (1, 3, 256, 416)\n",
      "\n"
     ]
    },
    {
     "name": "stdout",
     "output_type": "stream",
     "text": [
      "id :  None\n",
      "id :  None\n",
      "id :  None\n",
      "id :  None\n",
      "id :  None\n"
     ]
    },
    {
     "name": "stderr",
     "output_type": "stream",
     "text": [
      "0: 256x416 2 persons, 22.2ms\n",
      "Speed: 0.6ms preprocess, 22.2ms inference, 0.3ms postprocess per image at shape (1, 3, 256, 416)\n",
      "\n",
      "0: 256x416 2 persons, 27.2ms\n",
      "Speed: 1.2ms preprocess, 27.2ms inference, 0.3ms postprocess per image at shape (1, 3, 256, 416)\n",
      "\n",
      "0: 256x416 2 persons, 24.0ms\n",
      "Speed: 0.7ms preprocess, 24.0ms inference, 0.4ms postprocess per image at shape (1, 3, 256, 416)\n",
      "\n",
      "0: 256x416 2 persons, 21.6ms\n",
      "Speed: 0.8ms preprocess, 21.6ms inference, 0.3ms postprocess per image at shape (1, 3, 256, 416)\n",
      "\n",
      "0: 256x416 2 persons, 22.7ms\n",
      "Speed: 0.7ms preprocess, 22.7ms inference, 0.3ms postprocess per image at shape (1, 3, 256, 416)\n",
      "\n"
     ]
    },
    {
     "name": "stdout",
     "output_type": "stream",
     "text": [
      "id :  None\n",
      "id :  None\n",
      "id :  None\n",
      "id :  None\n",
      "id :  None\n"
     ]
    },
    {
     "name": "stderr",
     "output_type": "stream",
     "text": [
      "0: 256x416 1 person, 22.3ms\n",
      "Speed: 0.7ms preprocess, 22.3ms inference, 0.3ms postprocess per image at shape (1, 3, 256, 416)\n",
      "\n",
      "0: 256x416 2 persons, 23.2ms\n",
      "Speed: 0.8ms preprocess, 23.2ms inference, 0.3ms postprocess per image at shape (1, 3, 256, 416)\n",
      "\n",
      "0: 256x416 2 persons, 22.0ms\n",
      "Speed: 0.8ms preprocess, 22.0ms inference, 0.3ms postprocess per image at shape (1, 3, 256, 416)\n",
      "\n",
      "0: 256x416 2 persons, 22.6ms\n",
      "Speed: 0.7ms preprocess, 22.6ms inference, 0.3ms postprocess per image at shape (1, 3, 256, 416)\n",
      "\n",
      "0: 256x416 2 persons, 21.4ms\n",
      "Speed: 0.8ms preprocess, 21.4ms inference, 0.3ms postprocess per image at shape (1, 3, 256, 416)\n",
      "\n"
     ]
    },
    {
     "name": "stdout",
     "output_type": "stream",
     "text": [
      "id :  None\n",
      "id :  None\n",
      "id :  None\n",
      "id :  None\n",
      "id :  None\n"
     ]
    },
    {
     "name": "stderr",
     "output_type": "stream",
     "text": [
      "0: 256x416 2 persons, 23.0ms\n",
      "Speed: 0.8ms preprocess, 23.0ms inference, 0.4ms postprocess per image at shape (1, 3, 256, 416)\n",
      "\n",
      "0: 256x416 1 person, 22.3ms\n",
      "Speed: 0.8ms preprocess, 22.3ms inference, 0.3ms postprocess per image at shape (1, 3, 256, 416)\n",
      "\n",
      "0: 256x416 2 persons, 23.8ms\n",
      "Speed: 0.7ms preprocess, 23.8ms inference, 0.3ms postprocess per image at shape (1, 3, 256, 416)\n",
      "\n",
      "0: 256x416 1 person, 22.0ms\n",
      "Speed: 0.7ms preprocess, 22.0ms inference, 0.3ms postprocess per image at shape (1, 3, 256, 416)\n",
      "\n",
      "0: 256x416 2 persons, 24.2ms\n",
      "Speed: 0.6ms preprocess, 24.2ms inference, 0.3ms postprocess per image at shape (1, 3, 256, 416)\n",
      "\n"
     ]
    },
    {
     "name": "stdout",
     "output_type": "stream",
     "text": [
      "id :  None\n",
      "id :  None\n",
      "id :  None\n",
      "id :  None\n",
      "id :  None\n"
     ]
    },
    {
     "name": "stderr",
     "output_type": "stream",
     "text": [
      "0: 256x416 2 persons, 22.0ms\n",
      "Speed: 0.7ms preprocess, 22.0ms inference, 0.3ms postprocess per image at shape (1, 3, 256, 416)\n",
      "\n",
      "0: 256x416 2 persons, 23.5ms\n",
      "Speed: 1.1ms preprocess, 23.5ms inference, 0.3ms postprocess per image at shape (1, 3, 256, 416)\n",
      "\n",
      "0: 256x416 2 persons, 21.8ms\n",
      "Speed: 0.7ms preprocess, 21.8ms inference, 0.3ms postprocess per image at shape (1, 3, 256, 416)\n",
      "\n",
      "0: 256x416 1 person, 23.4ms\n",
      "Speed: 1.0ms preprocess, 23.4ms inference, 0.3ms postprocess per image at shape (1, 3, 256, 416)\n",
      "\n",
      "0: 256x416 1 person, 23.6ms\n",
      "Speed: 0.7ms preprocess, 23.6ms inference, 0.3ms postprocess per image at shape (1, 3, 256, 416)\n",
      "\n"
     ]
    },
    {
     "name": "stdout",
     "output_type": "stream",
     "text": [
      "id :  None\n",
      "id :  None\n",
      "id :  None\n",
      "id :  None\n",
      "id :  None\n"
     ]
    },
    {
     "name": "stderr",
     "output_type": "stream",
     "text": [
      "0: 256x416 1 person, 22.1ms\n",
      "Speed: 1.1ms preprocess, 22.1ms inference, 0.4ms postprocess per image at shape (1, 3, 256, 416)\n",
      "\n",
      "0: 256x416 1 person, 22.5ms\n",
      "Speed: 0.8ms preprocess, 22.5ms inference, 0.3ms postprocess per image at shape (1, 3, 256, 416)\n",
      "\n",
      "0: 256x416 1 person, 34.7ms\n",
      "Speed: 1.4ms preprocess, 34.7ms inference, 0.3ms postprocess per image at shape (1, 3, 256, 416)\n",
      "\n",
      "0: 256x416 2 persons, 21.6ms\n",
      "Speed: 0.7ms preprocess, 21.6ms inference, 0.3ms postprocess per image at shape (1, 3, 256, 416)\n",
      "\n",
      "0: 256x416 2 persons, 22.6ms\n",
      "Speed: 1.1ms preprocess, 22.6ms inference, 0.3ms postprocess per image at shape (1, 3, 256, 416)\n",
      "\n"
     ]
    },
    {
     "name": "stdout",
     "output_type": "stream",
     "text": [
      "id :  None\n",
      "id :  None\n",
      "id :  None\n",
      "id :  None\n",
      "id :  None\n"
     ]
    },
    {
     "name": "stderr",
     "output_type": "stream",
     "text": [
      "0: 256x416 2 persons, 22.1ms\n",
      "Speed: 0.9ms preprocess, 22.1ms inference, 0.3ms postprocess per image at shape (1, 3, 256, 416)\n",
      "\n",
      "0: 256x416 2 persons, 23.3ms\n",
      "Speed: 1.1ms preprocess, 23.3ms inference, 0.3ms postprocess per image at shape (1, 3, 256, 416)\n",
      "\n",
      "0: 256x416 1 person, 22.4ms\n",
      "Speed: 0.7ms preprocess, 22.4ms inference, 0.4ms postprocess per image at shape (1, 3, 256, 416)\n",
      "\n",
      "0: 256x416 1 person, 21.4ms\n",
      "Speed: 0.7ms preprocess, 21.4ms inference, 0.3ms postprocess per image at shape (1, 3, 256, 416)\n",
      "\n",
      "0: 256x416 1 person, 21.5ms\n",
      "Speed: 0.7ms preprocess, 21.5ms inference, 0.4ms postprocess per image at shape (1, 3, 256, 416)\n",
      "\n"
     ]
    },
    {
     "name": "stdout",
     "output_type": "stream",
     "text": [
      "id :  None\n",
      "id :  None\n",
      "id :  None\n",
      "id :  None\n",
      "id :  None\n"
     ]
    },
    {
     "name": "stderr",
     "output_type": "stream",
     "text": [
      "0: 256x416 1 person, 22.8ms\n",
      "Speed: 1.0ms preprocess, 22.8ms inference, 0.3ms postprocess per image at shape (1, 3, 256, 416)\n",
      "\n",
      "0: 256x416 1 person, 21.8ms\n",
      "Speed: 0.8ms preprocess, 21.8ms inference, 0.3ms postprocess per image at shape (1, 3, 256, 416)\n",
      "\n",
      "0: 256x416 1 person, 21.9ms\n",
      "Speed: 0.9ms preprocess, 21.9ms inference, 0.3ms postprocess per image at shape (1, 3, 256, 416)\n",
      "\n",
      "0: 256x416 1 person, 22.2ms\n",
      "Speed: 0.7ms preprocess, 22.2ms inference, 0.3ms postprocess per image at shape (1, 3, 256, 416)\n",
      "\n",
      "0: 256x416 1 person, 28.2ms\n",
      "Speed: 1.0ms preprocess, 28.2ms inference, 0.3ms postprocess per image at shape (1, 3, 256, 416)\n",
      "\n"
     ]
    },
    {
     "name": "stdout",
     "output_type": "stream",
     "text": [
      "id :  None\n",
      "id :  None\n",
      "id :  None\n",
      "id :  None\n",
      "id :  None\n"
     ]
    },
    {
     "name": "stderr",
     "output_type": "stream",
     "text": [
      "0: 256x416 1 person, 23.2ms\n",
      "Speed: 1.1ms preprocess, 23.2ms inference, 0.3ms postprocess per image at shape (1, 3, 256, 416)\n",
      "\n",
      "0: 256x416 1 person, 22.4ms\n",
      "Speed: 0.7ms preprocess, 22.4ms inference, 0.3ms postprocess per image at shape (1, 3, 256, 416)\n",
      "\n",
      "0: 256x416 1 person, 21.5ms\n",
      "Speed: 0.8ms preprocess, 21.5ms inference, 0.3ms postprocess per image at shape (1, 3, 256, 416)\n",
      "\n",
      "0: 256x416 1 person, 22.7ms\n",
      "Speed: 0.7ms preprocess, 22.7ms inference, 0.3ms postprocess per image at shape (1, 3, 256, 416)\n",
      "\n",
      "0: 256x416 1 person, 21.9ms\n",
      "Speed: 0.8ms preprocess, 21.9ms inference, 0.3ms postprocess per image at shape (1, 3, 256, 416)\n",
      "\n"
     ]
    },
    {
     "name": "stdout",
     "output_type": "stream",
     "text": [
      "id :  None\n",
      "id :  None\n",
      "id :  None\n",
      "id :  None\n",
      "id :  None\n"
     ]
    },
    {
     "name": "stderr",
     "output_type": "stream",
     "text": [
      "0: 256x416 (no detections), 22.3ms\n",
      "Speed: 0.7ms preprocess, 22.3ms inference, 0.2ms postprocess per image at shape (1, 3, 256, 416)\n",
      "\n",
      "0: 256x416 (no detections), 24.0ms\n",
      "Speed: 0.9ms preprocess, 24.0ms inference, 0.2ms postprocess per image at shape (1, 3, 256, 416)\n",
      "\n",
      "0: 256x416 (no detections), 22.4ms\n",
      "Speed: 0.7ms preprocess, 22.4ms inference, 0.2ms postprocess per image at shape (1, 3, 256, 416)\n",
      "\n",
      "0: 256x416 (no detections), 22.1ms\n",
      "Speed: 1.4ms preprocess, 22.1ms inference, 0.2ms postprocess per image at shape (1, 3, 256, 416)\n",
      "\n",
      "0: 256x416 (no detections), 21.9ms\n",
      "Speed: 0.7ms preprocess, 21.9ms inference, 0.2ms postprocess per image at shape (1, 3, 256, 416)\n",
      "\n"
     ]
    },
    {
     "name": "stdout",
     "output_type": "stream",
     "text": [
      "id :  None\n",
      "flag2\n",
      "id :  None\n",
      "flag2\n",
      "id :  None\n",
      "flag2\n",
      "id :  None\n",
      "flag2\n",
      "id :  None\n",
      "flag2\n"
     ]
    },
    {
     "name": "stderr",
     "output_type": "stream",
     "text": [
      "0: 256x416 (no detections), 23.7ms\n",
      "Speed: 0.8ms preprocess, 23.7ms inference, 0.2ms postprocess per image at shape (1, 3, 256, 416)\n",
      "\n",
      "0: 256x416 (no detections), 22.0ms\n",
      "Speed: 0.9ms preprocess, 22.0ms inference, 0.2ms postprocess per image at shape (1, 3, 256, 416)\n",
      "\n",
      "0: 256x416 (no detections), 23.2ms\n",
      "Speed: 0.7ms preprocess, 23.2ms inference, 0.2ms postprocess per image at shape (1, 3, 256, 416)\n",
      "\n",
      "0: 256x416 1 person, 21.6ms\n",
      "Speed: 0.9ms preprocess, 21.6ms inference, 0.3ms postprocess per image at shape (1, 3, 256, 416)\n",
      "\n",
      "0: 256x416 (no detections), 22.4ms\n",
      "Speed: 0.9ms preprocess, 22.4ms inference, 0.2ms postprocess per image at shape (1, 3, 256, 416)\n",
      "\n"
     ]
    },
    {
     "name": "stdout",
     "output_type": "stream",
     "text": [
      "id :  None\n",
      "flag2\n",
      "id :  None\n",
      "flag2\n",
      "id :  None\n",
      "flag2\n",
      "id :  None\n",
      "id :  None\n",
      "flag2\n"
     ]
    },
    {
     "name": "stderr",
     "output_type": "stream",
     "text": [
      "0: 256x416 (no detections), 22.0ms\n",
      "Speed: 0.7ms preprocess, 22.0ms inference, 0.2ms postprocess per image at shape (1, 3, 256, 416)\n",
      "\n",
      "0: 256x416 (no detections), 21.1ms\n",
      "Speed: 0.7ms preprocess, 21.1ms inference, 0.2ms postprocess per image at shape (1, 3, 256, 416)\n",
      "\n",
      "0: 256x416 (no detections), 22.9ms\n",
      "Speed: 1.0ms preprocess, 22.9ms inference, 0.2ms postprocess per image at shape (1, 3, 256, 416)\n",
      "\n",
      "0: 256x416 (no detections), 21.6ms\n",
      "Speed: 0.7ms preprocess, 21.6ms inference, 0.2ms postprocess per image at shape (1, 3, 256, 416)\n",
      "\n",
      "0: 256x416 (no detections), 23.7ms\n",
      "Speed: 0.7ms preprocess, 23.7ms inference, 0.2ms postprocess per image at shape (1, 3, 256, 416)\n",
      "\n"
     ]
    },
    {
     "name": "stdout",
     "output_type": "stream",
     "text": [
      "id :  None\n",
      "flag2\n",
      "id :  None\n",
      "flag2\n",
      "id :  None\n",
      "flag2\n",
      "id :  None\n",
      "flag2\n",
      "id :  None\n",
      "flag2\n"
     ]
    },
    {
     "name": "stderr",
     "output_type": "stream",
     "text": [
      "0: 256x416 (no detections), 22.0ms\n",
      "Speed: 0.7ms preprocess, 22.0ms inference, 0.2ms postprocess per image at shape (1, 3, 256, 416)\n",
      "\n",
      "0: 256x416 (no detections), 22.2ms\n",
      "Speed: 0.9ms preprocess, 22.2ms inference, 0.2ms postprocess per image at shape (1, 3, 256, 416)\n",
      "\n",
      "0: 256x416 (no detections), 21.4ms\n",
      "Speed: 1.1ms preprocess, 21.4ms inference, 0.2ms postprocess per image at shape (1, 3, 256, 416)\n",
      "\n",
      "0: 256x416 (no detections), 21.3ms\n",
      "Speed: 0.7ms preprocess, 21.3ms inference, 0.2ms postprocess per image at shape (1, 3, 256, 416)\n",
      "\n",
      "0: 256x416 (no detections), 47.1ms\n",
      "Speed: 0.7ms preprocess, 47.1ms inference, 0.2ms postprocess per image at shape (1, 3, 256, 416)\n",
      "\n"
     ]
    },
    {
     "name": "stdout",
     "output_type": "stream",
     "text": [
      "id :  None\n",
      "flag2\n",
      "id :  None\n",
      "flag2\n",
      "id :  None\n",
      "flag2\n",
      "id :  None\n",
      "flag2\n",
      "id :  None\n",
      "flag2\n"
     ]
    },
    {
     "name": "stderr",
     "output_type": "stream",
     "text": [
      "0: 256x416 (no detections), 22.9ms\n",
      "Speed: 0.8ms preprocess, 22.9ms inference, 0.2ms postprocess per image at shape (1, 3, 256, 416)\n",
      "\n",
      "0: 256x416 (no detections), 23.1ms\n",
      "Speed: 1.3ms preprocess, 23.1ms inference, 0.2ms postprocess per image at shape (1, 3, 256, 416)\n",
      "\n",
      "0: 256x416 (no detections), 22.2ms\n",
      "Speed: 0.7ms preprocess, 22.2ms inference, 0.2ms postprocess per image at shape (1, 3, 256, 416)\n",
      "\n",
      "0: 256x416 (no detections), 22.1ms\n",
      "Speed: 0.9ms preprocess, 22.1ms inference, 0.2ms postprocess per image at shape (1, 3, 256, 416)\n",
      "\n",
      "0: 256x416 (no detections), 22.0ms\n",
      "Speed: 0.7ms preprocess, 22.0ms inference, 0.2ms postprocess per image at shape (1, 3, 256, 416)\n",
      "\n"
     ]
    },
    {
     "name": "stdout",
     "output_type": "stream",
     "text": [
      "id :  None\n",
      "flag2\n",
      "id :  None\n",
      "flag2\n",
      "id :  None\n",
      "flag2\n",
      "id :  None\n",
      "flag2\n",
      "id :  None\n",
      "flag2\n"
     ]
    },
    {
     "name": "stderr",
     "output_type": "stream",
     "text": [
      "0: 256x416 (no detections), 23.3ms\n",
      "Speed: 0.8ms preprocess, 23.3ms inference, 0.2ms postprocess per image at shape (1, 3, 256, 416)\n"
     ]
    },
    {
     "name": "stdout",
     "output_type": "stream",
     "text": [
      "id :  None\n",
      "flag2\n"
     ]
    }
   ],
   "source": [
    "#색깔 설정, 객체 3명이라고 한정.\n",
    "myColors = [[51, 153, 255],[255,0,0],[0,255,0],[0,0,255]]\n",
    "myPoints = []\n",
    "#학습된 모델 가져오기\n",
    "model = YOLO(\"/Users/gimgeon-yu/Desktop/openCV/724.pt\")\n",
    "\n",
    "#영상 가져오기.\n",
    "cap = cv2.VideoCapture(\"/Users/gimgeon-yu/Desktop/openCV/friend_group_1.mp4\") #이 부분은 각자 수정하세요.\n",
    "#cap = cv2.VideoCapture(1)\n",
    "\n",
    "#박스 환경설정\n",
    "box_annotator = sv.BoxAnnotator(\n",
    "    thickness=2,\n",
    "    text_thickness=2,\n",
    "    text_scale=1\n",
    ")\n",
    "\n",
    "while cap.isOpened():\n",
    "    ret, img = cap.read()\n",
    "    if not ret:\n",
    "        break\n",
    "    results = model.predict(img)[0]\n",
    "\n",
    "    try:\n",
    "        #results = model.track(source=\"https://youtu.be/Zgi9g1ksQHc\", conf=0.3, iou=0.5, show=True)\n",
    "        boxes = results.boxes\n",
    "        print(\"id : \", boxes.id)\n",
    "        points = paintPoints(img, boxes, myColors)\n",
    "        for point in points:\n",
    "            myPoints.append(point)\n",
    "        drawOnCanvas(img, myPoints,myColors)\n",
    "            \n",
    "\n",
    "    except:\n",
    "        print(\"flag2\")\n",
    "        pass\n",
    "\n",
    "    \n",
    "\n",
    "    detections = sv.Detections.from_yolov8(results)\n",
    "    img = box_annotator.annotate(scene=img, detections=detections)\n",
    "    cv2.imshow(\"YoLO Test\",img)\n",
    "\n",
    "    \n",
    "\n",
    "    if cv2.waitKey(10)&0xFF ==ord(\"q\"):\n",
    "        break\n",
    "\n",
    "cap.release()\n",
    "cv2.destroyAllWindows()\n",
    "\n"
   ]
  }
 ],
 "metadata": {
  "kernelspec": {
   "display_name": "Python 3",
   "language": "python",
   "name": "python3"
  },
  "language_info": {
   "codemirror_mode": {
    "name": "ipython",
    "version": 3
   },
   "file_extension": ".py",
   "mimetype": "text/x-python",
   "name": "python",
   "nbconvert_exporter": "python",
   "pygments_lexer": "ipython3",
   "version": "3.11.4"
  },
  "orig_nbformat": 4
 },
 "nbformat": 4,
 "nbformat_minor": 2
}
